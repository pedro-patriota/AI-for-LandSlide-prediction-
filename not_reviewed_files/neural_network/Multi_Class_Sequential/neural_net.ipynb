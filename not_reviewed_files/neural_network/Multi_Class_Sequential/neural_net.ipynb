{
 "cells": [
  {
   "cell_type": "code",
   "execution_count": 2,
   "metadata": {},
   "outputs": [],
   "source": [
    "import pandas as pd\n",
    "import numpy as np\n",
    "from sklearn.preprocessing import LabelEncoder\n",
    "from keras.wrappers.scikit_learn import KerasClassifier\n",
    "\n",
    "import keras\n",
    "from keras.callbacks import EarlyStopping\n",
    "from keras.utils import np_utils, to_categorical\n",
    "from keras.models import Sequential\n",
    "from keras.layers import Dense, Dropout\n",
    "\n"
   ]
  },
  {
   "cell_type": "code",
   "execution_count": 3,
   "metadata": {},
   "outputs": [
    {
     "name": "stdout",
     "output_type": "stream",
     "text": [
      "<class 'pandas.core.frame.DataFrame'>\n",
      "Int64Index: 2459 entries, 2 to 5121\n",
      "Data columns (total 20 columns):\n",
      " #   Column                  Non-Null Count  Dtype  \n",
      "---  ------                  --------------  -----  \n",
      " 0   processo_numero         2459 non-null   object \n",
      " 1   solicitacao_data        2459 non-null   object \n",
      " 2   solicitacao_hora        2459 non-null   object \n",
      " 3   solicitacao_descricao   2459 non-null   object \n",
      " 4   solicitacao_bairro      2459 non-null   object \n",
      " 5   solicitacao_localidade  2459 non-null   object \n",
      " 6   solicitacao_endereco    2459 non-null   object \n",
      " 7   processo_ocorrencia     2459 non-null   object \n",
      " 8   confirmado              2459 non-null   int64  \n",
      " 9   latitude                2459 non-null   float64\n",
      " 10  longitude               2459 non-null   float64\n",
      " 11  cond                    2459 non-null   bool   \n",
      " 12  em_recife               2459 non-null   int64  \n",
      " 13  rain_hour               2459 non-null   float64\n",
      " 14  rain_day                2459 non-null   float64\n",
      " 15  altitude                2459 non-null   float64\n",
      " 16  ground_type             2459 non-null   object \n",
      " 17  danger_level            2459 non-null   object \n",
      " 18  flooding_risk           2459 non-null   object \n",
      " 19  ground_amplitude        2459 non-null   object \n",
      "dtypes: bool(1), float64(5), int64(2), object(12)\n",
      "memory usage: 386.6+ KB\n"
     ]
    }
   ],
   "source": [
    "df = pd.read_csv(\"../ground_amplitude.csv\")\n",
    "df = df.dropna()\n",
    "\"\"\" df = df.drop_duplicates()\"\"\"\n",
    "df = df[df['processo_ocorrencia'] != 'Desabamento Parcial Imoveis']  # Esses tipos de ocorrência prejudicava o recall \n",
    "df = df[df['processo_ocorrencia'] != 'Muro com Danos']\n",
    "df = df[df['processo_ocorrencia']!= 'Imoveis com Danos/Risco'] \n",
    "df.info()"
   ]
  },
  {
   "cell_type": "code",
   "execution_count": 4,
   "metadata": {},
   "outputs": [],
   "source": [
    "df = df.sample(frac=1).reset_index(drop=True)"
   ]
  },
  {
   "cell_type": "code",
   "execution_count": 5,
   "metadata": {},
   "outputs": [],
   "source": [
    "y = df['confirmado']\n",
    "X = df[['altitude', 'rain_day', 'rain_hour', 'ground_type', 'danger_level', 'ground_amplitude', 'flooding_risk']]\n"
   ]
  },
  {
   "cell_type": "code",
   "execution_count": 6,
   "metadata": {},
   "outputs": [
    {
     "name": "stdout",
     "output_type": "stream",
     "text": [
      "0    1\n",
      "1    0\n",
      "2    1\n",
      "3    1\n",
      "4    1\n",
      "5    1\n",
      "6    0\n",
      "Name: confirmado, dtype: int64 0\n"
     ]
    },
    {
     "name": "stderr",
     "output_type": "stream",
     "text": [
      "C:\\Users\\parae\\AppData\\Local\\Temp\\ipykernel_13636\\4033383670.py:11: SettingWithCopyWarning: \n",
      "A value is trying to be set on a copy of a slice from a DataFrame.\n",
      "Try using .loc[row_indexer,col_indexer] = value instead\n",
      "\n",
      "See the caveats in the documentation: https://pandas.pydata.org/pandas-docs/stable/user_guide/indexing.html#returning-a-view-versus-a-copy\n",
      "  X['danger_level'] = encoder.transform(X['danger_level'])\n",
      "C:\\Users\\parae\\AppData\\Local\\Temp\\ipykernel_13636\\4033383670.py:14: SettingWithCopyWarning: \n",
      "A value is trying to be set on a copy of a slice from a DataFrame.\n",
      "Try using .loc[row_indexer,col_indexer] = value instead\n",
      "\n",
      "See the caveats in the documentation: https://pandas.pydata.org/pandas-docs/stable/user_guide/indexing.html#returning-a-view-versus-a-copy\n",
      "  X['ground_type'] = encoder.transform(X['ground_type'])\n",
      "C:\\Users\\parae\\AppData\\Local\\Temp\\ipykernel_13636\\4033383670.py:16: SettingWithCopyWarning: \n",
      "A value is trying to be set on a copy of a slice from a DataFrame.\n",
      "Try using .loc[row_indexer,col_indexer] = value instead\n",
      "\n",
      "See the caveats in the documentation: https://pandas.pydata.org/pandas-docs/stable/user_guide/indexing.html#returning-a-view-versus-a-copy\n",
      "  X['flooding_risk'] = encoder.transform(X['flooding_risk'])\n",
      "C:\\Users\\parae\\AppData\\Local\\Temp\\ipykernel_13636\\4033383670.py:18: SettingWithCopyWarning: \n",
      "A value is trying to be set on a copy of a slice from a DataFrame.\n",
      "Try using .loc[row_indexer,col_indexer] = value instead\n",
      "\n",
      "See the caveats in the documentation: https://pandas.pydata.org/pandas-docs/stable/user_guide/indexing.html#returning-a-view-versus-a-copy\n",
      "  X['ground_amplitude'] = encoder.transform(X['ground_amplitude'])\n"
     ]
    },
    {
     "data": {
      "text/plain": [
       "array([1, 0], dtype=int64)"
      ]
     },
     "execution_count": 6,
     "metadata": {},
     "output_type": "execute_result"
    }
   ],
   "source": [
    "# work with labels\n",
    "# encode class values as integers\n",
    "encoder = LabelEncoder()\n",
    "encoder.fit(y)\n",
    "encoded_y = encoder.transform(y)\n",
    "\n",
    "\n",
    "dummy_y = np_utils.to_categorical(encoded_y)\n",
    "\n",
    "encoder.fit(X['danger_level'])\n",
    "X['danger_level'] = encoder.transform(X['danger_level'])\n",
    "\n",
    "encoder.fit(X['ground_type'])\n",
    "X['ground_type'] = encoder.transform(X['ground_type'])\n",
    "encoder.fit(X['flooding_risk'])\n",
    "X['flooding_risk'] = encoder.transform(X['flooding_risk'])\n",
    "encoder.fit(X['ground_amplitude'])\n",
    "X['ground_amplitude'] = encoder.transform(X['ground_amplitude'])\n",
    "\n",
    "print(y.head(7), encoded_y[6])\n",
    "y.unique()\n",
    "\n"
   ]
  },
  {
   "cell_type": "code",
   "execution_count": 7,
   "metadata": {},
   "outputs": [
    {
     "data": {
      "text/plain": [
       "7"
      ]
     },
     "execution_count": 7,
     "metadata": {},
     "output_type": "execute_result"
    }
   ],
   "source": [
    "X = np.array(X)\n",
    "\n",
    "\n",
    "\n",
    "model = Sequential()\n",
    "model.add(Dropout(0.3))\n",
    "model.add(Dense(256, input_shape=(X.shape[1],), activation='relu')) # input shape is (features,)\n",
    "model.add(Dropout(0.2))\n",
    "model.add(Dense(2, activation='softmax'))\n",
    "\n",
    "model.compile(optimizer='adam', \n",
    "              loss='binary_crossentropy', # this is different instead of binary_crossentropy (for regular classification)\n",
    "              metrics=['accuracy'])\n",
    "\n",
    "#model.summary()\n",
    "X.shape[1]"
   ]
  },
  {
   "cell_type": "code",
   "execution_count": 8,
   "metadata": {},
   "outputs": [
    {
     "name": "stdout",
     "output_type": "stream",
     "text": [
      "Epoch 1/8000000\n",
      "87/87 [==============================] - 2s 7ms/step - loss: 1.4177 - accuracy: 0.5282 - val_loss: 0.8205 - val_accuracy: 0.6003\n",
      "Epoch 2/8000000\n",
      "87/87 [==============================] - 0s 4ms/step - loss: 1.1369 - accuracy: 0.5543 - val_loss: 0.7571 - val_accuracy: 0.5596\n",
      "Epoch 3/8000000\n",
      "87/87 [==============================] - 0s 3ms/step - loss: 1.0915 - accuracy: 0.5474 - val_loss: 0.6698 - val_accuracy: 0.6192\n",
      "Epoch 4/8000000\n",
      "87/87 [==============================] - 0s 3ms/step - loss: 0.9369 - accuracy: 0.5811 - val_loss: 0.7006 - val_accuracy: 0.6287\n",
      "Epoch 5/8000000\n",
      "87/87 [==============================] - 0s 4ms/step - loss: 0.8829 - accuracy: 0.5805 - val_loss: 0.6519 - val_accuracy: 0.6328\n",
      "Epoch 6/8000000\n",
      "87/87 [==============================] - 0s 3ms/step - loss: 0.8654 - accuracy: 0.5816 - val_loss: 0.6375 - val_accuracy: 0.6409\n",
      "Epoch 7/8000000\n",
      "87/87 [==============================] - 0s 4ms/step - loss: 0.7935 - accuracy: 0.5880 - val_loss: 0.6477 - val_accuracy: 0.6355\n",
      "Epoch 8/8000000\n",
      "87/87 [==============================] - 0s 3ms/step - loss: 0.7602 - accuracy: 0.5915 - val_loss: 0.6428 - val_accuracy: 0.6423\n",
      "Epoch 9/8000000\n",
      "87/87 [==============================] - 0s 4ms/step - loss: 0.7291 - accuracy: 0.6043 - val_loss: 0.6376 - val_accuracy: 0.6504\n",
      "Epoch 10/8000000\n",
      "87/87 [==============================] - 0s 4ms/step - loss: 0.7036 - accuracy: 0.6031 - val_loss: 0.6519 - val_accuracy: 0.6328\n",
      "Epoch 11/8000000\n",
      "87/87 [==============================] - 0s 5ms/step - loss: 0.7009 - accuracy: 0.6124 - val_loss: 0.6527 - val_accuracy: 0.6314\n",
      "Epoch 12/8000000\n",
      "87/87 [==============================] - 0s 3ms/step - loss: 0.7037 - accuracy: 0.6264 - val_loss: 0.6303 - val_accuracy: 0.6680\n",
      "Epoch 13/8000000\n",
      "87/87 [==============================] - 0s 4ms/step - loss: 0.6805 - accuracy: 0.6078 - val_loss: 0.6306 - val_accuracy: 0.6409\n",
      "Epoch 14/8000000\n",
      "87/87 [==============================] - 0s 4ms/step - loss: 0.6765 - accuracy: 0.6153 - val_loss: 0.6469 - val_accuracy: 0.6572\n",
      "Epoch 15/8000000\n",
      "87/87 [==============================] - 0s 3ms/step - loss: 0.6697 - accuracy: 0.6310 - val_loss: 0.6424 - val_accuracy: 0.6355\n",
      "Epoch 16/8000000\n",
      "87/87 [==============================] - 0s 4ms/step - loss: 0.6597 - accuracy: 0.6119 - val_loss: 0.6280 - val_accuracy: 0.6491\n",
      "Epoch 17/8000000\n",
      "87/87 [==============================] - 0s 4ms/step - loss: 0.6597 - accuracy: 0.6270 - val_loss: 0.6337 - val_accuracy: 0.6477\n",
      "Epoch 18/8000000\n",
      "87/87 [==============================] - 0s 3ms/step - loss: 0.6728 - accuracy: 0.6206 - val_loss: 0.6402 - val_accuracy: 0.6504\n",
      "Epoch 19/8000000\n",
      "87/87 [==============================] - 0s 4ms/step - loss: 0.6545 - accuracy: 0.6421 - val_loss: 0.6222 - val_accuracy: 0.6626\n",
      "Epoch 20/8000000\n",
      "87/87 [==============================] - 0s 3ms/step - loss: 0.6585 - accuracy: 0.6316 - val_loss: 0.6296 - val_accuracy: 0.6612\n",
      "Epoch 21/8000000\n",
      "87/87 [==============================] - 0s 3ms/step - loss: 0.6434 - accuracy: 0.6479 - val_loss: 0.6311 - val_accuracy: 0.6409\n",
      "Epoch 22/8000000\n",
      "87/87 [==============================] - 0s 3ms/step - loss: 0.6543 - accuracy: 0.6357 - val_loss: 0.6280 - val_accuracy: 0.6531\n",
      "Epoch 23/8000000\n",
      "87/87 [==============================] - 0s 3ms/step - loss: 0.6552 - accuracy: 0.6264 - val_loss: 0.6341 - val_accuracy: 0.6585\n",
      "Epoch 24/8000000\n",
      "87/87 [==============================] - 0s 4ms/step - loss: 0.6468 - accuracy: 0.6397 - val_loss: 0.6235 - val_accuracy: 0.6531\n",
      "Epoch 25/8000000\n",
      "87/87 [==============================] - 0s 4ms/step - loss: 0.6499 - accuracy: 0.6229 - val_loss: 0.6196 - val_accuracy: 0.6762\n",
      "Epoch 26/8000000\n",
      "87/87 [==============================] - 0s 3ms/step - loss: 0.6418 - accuracy: 0.6473 - val_loss: 0.6220 - val_accuracy: 0.6599\n",
      "Epoch 27/8000000\n",
      "87/87 [==============================] - 0s 3ms/step - loss: 0.6482 - accuracy: 0.6304 - val_loss: 0.6291 - val_accuracy: 0.6477\n",
      "Epoch 28/8000000\n",
      "87/87 [==============================] - 0s 3ms/step - loss: 0.6546 - accuracy: 0.6281 - val_loss: 0.6239 - val_accuracy: 0.6558\n",
      "Epoch 29/8000000\n",
      "87/87 [==============================] - 0s 4ms/step - loss: 0.6477 - accuracy: 0.6357 - val_loss: 0.6292 - val_accuracy: 0.6450\n",
      "Epoch 30/8000000\n",
      "87/87 [==============================] - 0s 4ms/step - loss: 0.6468 - accuracy: 0.6322 - val_loss: 0.6364 - val_accuracy: 0.6504\n",
      "Epoch 31/8000000\n",
      "87/87 [==============================] - 0s 3ms/step - loss: 0.6372 - accuracy: 0.6490 - val_loss: 0.6291 - val_accuracy: 0.6612\n",
      "Epoch 32/8000000\n",
      "87/87 [==============================] - 0s 3ms/step - loss: 0.6374 - accuracy: 0.6636 - val_loss: 0.6317 - val_accuracy: 0.6558\n",
      "Epoch 33/8000000\n",
      "87/87 [==============================] - 0s 3ms/step - loss: 0.6530 - accuracy: 0.6351 - val_loss: 0.6352 - val_accuracy: 0.6450\n",
      "Epoch 34/8000000\n",
      "87/87 [==============================] - 0s 3ms/step - loss: 0.6373 - accuracy: 0.6467 - val_loss: 0.6276 - val_accuracy: 0.6667\n",
      "Epoch 35/8000000\n",
      "87/87 [==============================] - 0s 3ms/step - loss: 0.6404 - accuracy: 0.6403 - val_loss: 0.6253 - val_accuracy: 0.6599\n",
      "Epoch 36/8000000\n",
      "87/87 [==============================] - 0s 3ms/step - loss: 0.6400 - accuracy: 0.6426 - val_loss: 0.6215 - val_accuracy: 0.6531\n",
      "Epoch 37/8000000\n",
      "87/87 [==============================] - 0s 4ms/step - loss: 0.6437 - accuracy: 0.6270 - val_loss: 0.6319 - val_accuracy: 0.6531\n",
      "Epoch 38/8000000\n",
      "87/87 [==============================] - 0s 4ms/step - loss: 0.6416 - accuracy: 0.6322 - val_loss: 0.6318 - val_accuracy: 0.6409\n",
      "Epoch 39/8000000\n",
      "87/87 [==============================] - 0s 3ms/step - loss: 0.6476 - accuracy: 0.6363 - val_loss: 0.6331 - val_accuracy: 0.6436\n",
      "Epoch 40/8000000\n",
      "87/87 [==============================] - 0s 3ms/step - loss: 0.6481 - accuracy: 0.6293 - val_loss: 0.6270 - val_accuracy: 0.6558\n",
      "Epoch 41/8000000\n",
      "87/87 [==============================] - 0s 3ms/step - loss: 0.6434 - accuracy: 0.6368 - val_loss: 0.6253 - val_accuracy: 0.6545\n",
      "Epoch 42/8000000\n",
      "87/87 [==============================] - 0s 3ms/step - loss: 0.6481 - accuracy: 0.6421 - val_loss: 0.6258 - val_accuracy: 0.6558\n",
      "Epoch 43/8000000\n",
      "87/87 [==============================] - 0s 4ms/step - loss: 0.6466 - accuracy: 0.6479 - val_loss: 0.6245 - val_accuracy: 0.6653\n",
      "Epoch 44/8000000\n",
      "87/87 [==============================] - 0s 3ms/step - loss: 0.6383 - accuracy: 0.6444 - val_loss: 0.6287 - val_accuracy: 0.6653\n",
      "Epoch 45/8000000\n",
      "87/87 [==============================] - 0s 3ms/step - loss: 0.6393 - accuracy: 0.6392 - val_loss: 0.6277 - val_accuracy: 0.6653\n"
     ]
    }
   ],
   "source": [
    "# early stopping callback\n",
    "# This callback will stop the training when there is no improvement in  \n",
    "# the validation loss for 10 consecutive epochs.  \n",
    "es = keras.callbacks.EarlyStopping(monitor='val_loss', \n",
    "                                   mode='min',\n",
    "                                   patience=20, \n",
    "                                   restore_best_weights=True)\n",
    "\n",
    "\n",
    "\n",
    "\n",
    "history = model.fit(X,\n",
    "                    dummy_y,\n",
    "                    callbacks=[es],\n",
    "                    epochs=8000000, # you can set this to a big number!\n",
    "                    batch_size=20,\n",
    "                    shuffle=True,\n",
    "                    validation_split=0.3,\n",
    "                    verbose=1)\n"
   ]
  },
  {
   "cell_type": "code",
   "execution_count": 9,
   "metadata": {},
   "outputs": [
    {
     "data": {
      "image/png": "[encoded data removed]",
      "text/plain": [
       "<Figure size 432x288 with 1 Axes>"
      ]
     },
     "metadata": {
      "needs_background": "light"
     },
     "output_type": "display_data"
    }
   ],
   "source": [
    "import matplotlib.pyplot as plt\n",
    "\n",
    "history_dict = history.history\n",
    "\n",
    "# learning curve\n",
    "# accuracy\n",
    "acc = history_dict['accuracy']\n",
    "val_acc = history_dict['val_accuracy']\n",
    "\n",
    "# loss\n",
    "loss = history_dict['loss']\n",
    "val_loss = history_dict['val_loss']\n",
    "\n",
    "# range of X (no. of epochs)\n",
    "epochs = range(1, len(acc) + 1)\n",
    "\n",
    "# plot\n",
    "# \"r\" is for \"solid red line\"\n",
    "plt.plot(epochs, acc, 'r', label='Training accuracy')\n",
    "# b is for \"solid blue line\"\n",
    "plt.plot(epochs, val_acc, 'b', label='Validation accuracy')\n",
    "plt.title('Training and validation accuracy')\n",
    "plt.xlabel('Epochs')\n",
    "plt.ylabel('Accuracy')\n",
    "plt.legend()\n",
    "\n",
    "plt.show()"
   ]
  },
  {
   "cell_type": "code",
   "execution_count": 10,
   "metadata": {},
   "outputs": [
    {
     "name": "stdout",
     "output_type": "stream",
     "text": [
      "77/77 [==============================] - 0s 2ms/step\n",
      "[0.48832658 0.5116734 ]\n",
      "1.0\n",
      "[[ 474  549]\n",
      " [ 259 1177]]\n",
      "              precision    recall  f1-score   support\n",
      "\n",
      "           0       0.65      0.46      0.54      1023\n",
      "           1       0.68      0.82      0.74      1436\n",
      "\n",
      "    accuracy                           0.67      2459\n",
      "   macro avg       0.66      0.64      0.64      2459\n",
      "weighted avg       0.67      0.67      0.66      2459\n",
      "\n"
     ]
    }
   ],
   "source": [
    "from sklearn.metrics import confusion_matrix\n",
    "from sklearn.metrics import classification_report\n",
    "\n",
    "preds = model.predict(X) # see how the model did!\n",
    "print(preds[0]) # i'm spreading that prediction across three nodes and they sum to 1\n",
    "print(np.sum(preds[0])) # sum it up! Should be 1\n",
    "## [9.9999988e-01 1.3509347e-07 6.7064638e-16]\n",
    "## 1.0\n",
    "\n",
    "# Almost a perfect prediction\n",
    "# actual is left, predicted is top\n",
    "# names can be found by inspecting Y\n",
    "matrix = confusion_matrix(dummy_y.argmax(axis=1), preds.argmax(axis=1))\n",
    "print(matrix)\n",
    "\n",
    "\n",
    "\n",
    "# more detail on how well things were predicted\n",
    "print(classification_report(dummy_y.argmax(axis=1), preds.argmax(axis=1)))\n",
    "\n"
   ]
  },
  {
   "cell_type": "code",
   "execution_count": 11,
   "metadata": {},
   "outputs": [
    {
     "name": "stdout",
     "output_type": "stream",
     "text": [
      "77/77 [==============================] - 0s 2ms/step\n",
      "[[0.48832658 0.5116734 ]\n",
      " [0.45509535 0.54490465]\n",
      " [0.34125856 0.65874153]\n",
      " ...\n",
      " [0.18005605 0.81994396]\n",
      " [0.4062533  0.5937467 ]\n",
      " [0.19488539 0.8051147 ]]\n",
      "77/77 [==============================] - 0s 2ms/step - loss: 0.6198 - accuracy: 0.6714\n"
     ]
    },
    {
     "data": {
      "text/plain": [
       "array([[0., 1.],\n",
       "       [1., 0.],\n",
       "       [0., 1.],\n",
       "       ...,\n",
       "       [0., 1.],\n",
       "       [0., 1.],\n",
       "       [0., 1.]], dtype=float32)"
      ]
     },
     "execution_count": 11,
     "metadata": {},
     "output_type": "execute_result"
    }
   ],
   "source": [
    "print(model.predict(X))\n",
    "model.evaluate(X, dummy_y)\n",
    "dummy_y"
   ]
  }
 ],
 "metadata": {
  "kernelspec": {
   "display_name": "Python 3.10.4 64-bit",
   "language": "python",
   "name": "python3"
  },
  "language_info": {
   "codemirror_mode": {
    "name": "ipython",
    "version": 3
   },
   "file_extension": ".py",
   "mimetype": "text/x-python",
   "name": "python",
   "nbconvert_exporter": "python",
   "pygments_lexer": "ipython3",
   "version": "3.10.4"
  },
  "orig_nbformat": 4,
  "vscode": {
   "interpreter": {
    "hash": "369f2c481f4da34e4445cda3fffd2e751bd1c4d706f27375911949ba6bb62e1c"
   }
  }
 },
 "nbformat": 4,
 "nbformat_minor": 2
}
