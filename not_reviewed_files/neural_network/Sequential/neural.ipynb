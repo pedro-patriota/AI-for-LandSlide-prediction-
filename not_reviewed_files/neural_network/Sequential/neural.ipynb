{
 "cells": [
  {
   "cell_type": "code",
   "execution_count": 1,
   "metadata": {},
   "outputs": [],
   "source": [
    "import numpy as np\n",
    "from sklearn.neural_network import MLPClassifier\n",
    "\n",
    "import tensorflow as tf\n",
    "import matplotlib.pyplot as plt\n",
    "from sklearn.preprocessing import StandardScaler\n",
    "import pandas as pd"
   ]
  },
  {
   "cell_type": "code",
   "execution_count": 2,
   "metadata": {},
   "outputs": [
    {
     "ename": "FileNotFoundError",
     "evalue": "[Errno 2] No such file or directory: '../danger_level.csv'",
     "output_type": "error",
     "traceback": [
      "\u001b[1;31m---------------------------------------------------------------------------\u001b[0m",
      "\u001b[1;31mFileNotFoundError\u001b[0m                         Traceback (most recent call last)",
      "\u001b[1;32mc:\\Users\\parae\\Documents\\barreiras\\barreiras\\algorithm\\neural_network\\Sequential\\neural.ipynb Célula: 2\u001b[0m in \u001b[0;36m<cell line: 1>\u001b[1;34m()\u001b[0m\n\u001b[1;32m----> <a href='vscode-notebook-cell:/c%3A/Users/parae/Documents/barreiras/barreiras/algorithm/neural_network/Sequential/neural.ipynb#W1sZmlsZQ%3D%3D?line=0'>1</a>\u001b[0m df \u001b[39m=\u001b[39mpd\u001b[39m.\u001b[39;49mread_csv(\u001b[39m'\u001b[39;49m\u001b[39m../danger_level.csv\u001b[39;49m\u001b[39m'\u001b[39;49m)\n\u001b[0;32m      <a href='vscode-notebook-cell:/c%3A/Users/parae/Documents/barreiras/barreiras/algorithm/neural_network/Sequential/neural.ipynb#W1sZmlsZQ%3D%3D?line=1'>2</a>\u001b[0m df \u001b[39m=\u001b[39m df\u001b[39m.\u001b[39mdropna()\n\u001b[0;32m      <a href='vscode-notebook-cell:/c%3A/Users/parae/Documents/barreiras/barreiras/algorithm/neural_network/Sequential/neural.ipynb#W1sZmlsZQ%3D%3D?line=2'>3</a>\u001b[0m df\u001b[39m.\u001b[39minfo()\n",
      "File \u001b[1;32mc:\\Python310\\lib\\site-packages\\pandas\\util\\_decorators.py:311\u001b[0m, in \u001b[0;36mdeprecate_nonkeyword_arguments.<locals>.decorate.<locals>.wrapper\u001b[1;34m(*args, **kwargs)\u001b[0m\n\u001b[0;32m    305\u001b[0m \u001b[39mif\u001b[39;00m \u001b[39mlen\u001b[39m(args) \u001b[39m>\u001b[39m num_allow_args:\n\u001b[0;32m    306\u001b[0m     warnings\u001b[39m.\u001b[39mwarn(\n\u001b[0;32m    307\u001b[0m         msg\u001b[39m.\u001b[39mformat(arguments\u001b[39m=\u001b[39marguments),\n\u001b[0;32m    308\u001b[0m         \u001b[39mFutureWarning\u001b[39;00m,\n\u001b[0;32m    309\u001b[0m         stacklevel\u001b[39m=\u001b[39mstacklevel,\n\u001b[0;32m    310\u001b[0m     )\n\u001b[1;32m--> 311\u001b[0m \u001b[39mreturn\u001b[39;00m func(\u001b[39m*\u001b[39margs, \u001b[39m*\u001b[39m\u001b[39m*\u001b[39mkwargs)\n",
      "File \u001b[1;32mc:\\Python310\\lib\\site-packages\\pandas\\io\\parsers\\readers.py:680\u001b[0m, in \u001b[0;36mread_csv\u001b[1;34m(filepath_or_buffer, sep, delimiter, header, names, index_col, usecols, squeeze, prefix, mangle_dupe_cols, dtype, engine, converters, true_values, false_values, skipinitialspace, skiprows, skipfooter, nrows, na_values, keep_default_na, na_filter, verbose, skip_blank_lines, parse_dates, infer_datetime_format, keep_date_col, date_parser, dayfirst, cache_dates, iterator, chunksize, compression, thousands, decimal, lineterminator, quotechar, quoting, doublequote, escapechar, comment, encoding, encoding_errors, dialect, error_bad_lines, warn_bad_lines, on_bad_lines, delim_whitespace, low_memory, memory_map, float_precision, storage_options)\u001b[0m\n\u001b[0;32m    665\u001b[0m kwds_defaults \u001b[39m=\u001b[39m _refine_defaults_read(\n\u001b[0;32m    666\u001b[0m     dialect,\n\u001b[0;32m    667\u001b[0m     delimiter,\n\u001b[1;32m   (...)\u001b[0m\n\u001b[0;32m    676\u001b[0m     defaults\u001b[39m=\u001b[39m{\u001b[39m\"\u001b[39m\u001b[39mdelimiter\u001b[39m\u001b[39m\"\u001b[39m: \u001b[39m\"\u001b[39m\u001b[39m,\u001b[39m\u001b[39m\"\u001b[39m},\n\u001b[0;32m    677\u001b[0m )\n\u001b[0;32m    678\u001b[0m kwds\u001b[39m.\u001b[39mupdate(kwds_defaults)\n\u001b[1;32m--> 680\u001b[0m \u001b[39mreturn\u001b[39;00m _read(filepath_or_buffer, kwds)\n",
      "File \u001b[1;32mc:\\Python310\\lib\\site-packages\\pandas\\io\\parsers\\readers.py:575\u001b[0m, in \u001b[0;36m_read\u001b[1;34m(filepath_or_buffer, kwds)\u001b[0m\n\u001b[0;32m    572\u001b[0m _validate_names(kwds\u001b[39m.\u001b[39mget(\u001b[39m\"\u001b[39m\u001b[39mnames\u001b[39m\u001b[39m\"\u001b[39m, \u001b[39mNone\u001b[39;00m))\n\u001b[0;32m    574\u001b[0m \u001b[39m# Create the parser.\u001b[39;00m\n\u001b[1;32m--> 575\u001b[0m parser \u001b[39m=\u001b[39m TextFileReader(filepath_or_buffer, \u001b[39m*\u001b[39m\u001b[39m*\u001b[39mkwds)\n\u001b[0;32m    577\u001b[0m \u001b[39mif\u001b[39;00m chunksize \u001b[39mor\u001b[39;00m iterator:\n\u001b[0;32m    578\u001b[0m     \u001b[39mreturn\u001b[39;00m parser\n",
      "File \u001b[1;32mc:\\Python310\\lib\\site-packages\\pandas\\io\\parsers\\readers.py:933\u001b[0m, in \u001b[0;36mTextFileReader.__init__\u001b[1;34m(self, f, engine, **kwds)\u001b[0m\n\u001b[0;32m    930\u001b[0m     \u001b[39mself\u001b[39m\u001b[39m.\u001b[39moptions[\u001b[39m\"\u001b[39m\u001b[39mhas_index_names\u001b[39m\u001b[39m\"\u001b[39m] \u001b[39m=\u001b[39m kwds[\u001b[39m\"\u001b[39m\u001b[39mhas_index_names\u001b[39m\u001b[39m\"\u001b[39m]\n\u001b[0;32m    932\u001b[0m \u001b[39mself\u001b[39m\u001b[39m.\u001b[39mhandles: IOHandles \u001b[39m|\u001b[39m \u001b[39mNone\u001b[39;00m \u001b[39m=\u001b[39m \u001b[39mNone\u001b[39;00m\n\u001b[1;32m--> 933\u001b[0m \u001b[39mself\u001b[39m\u001b[39m.\u001b[39m_engine \u001b[39m=\u001b[39m \u001b[39mself\u001b[39;49m\u001b[39m.\u001b[39;49m_make_engine(f, \u001b[39mself\u001b[39;49m\u001b[39m.\u001b[39;49mengine)\n",
      "File \u001b[1;32mc:\\Python310\\lib\\site-packages\\pandas\\io\\parsers\\readers.py:1217\u001b[0m, in \u001b[0;36mTextFileReader._make_engine\u001b[1;34m(self, f, engine)\u001b[0m\n\u001b[0;32m   1213\u001b[0m     mode \u001b[39m=\u001b[39m \u001b[39m\"\u001b[39m\u001b[39mrb\u001b[39m\u001b[39m\"\u001b[39m\n\u001b[0;32m   1214\u001b[0m \u001b[39m# error: No overload variant of \"get_handle\" matches argument types\u001b[39;00m\n\u001b[0;32m   1215\u001b[0m \u001b[39m# \"Union[str, PathLike[str], ReadCsvBuffer[bytes], ReadCsvBuffer[str]]\"\u001b[39;00m\n\u001b[0;32m   1216\u001b[0m \u001b[39m# , \"str\", \"bool\", \"Any\", \"Any\", \"Any\", \"Any\", \"Any\"\u001b[39;00m\n\u001b[1;32m-> 1217\u001b[0m \u001b[39mself\u001b[39m\u001b[39m.\u001b[39mhandles \u001b[39m=\u001b[39m get_handle(  \u001b[39m# type: ignore[call-overload]\u001b[39;49;00m\n\u001b[0;32m   1218\u001b[0m     f,\n\u001b[0;32m   1219\u001b[0m     mode,\n\u001b[0;32m   1220\u001b[0m     encoding\u001b[39m=\u001b[39;49m\u001b[39mself\u001b[39;49m\u001b[39m.\u001b[39;49moptions\u001b[39m.\u001b[39;49mget(\u001b[39m\"\u001b[39;49m\u001b[39mencoding\u001b[39;49m\u001b[39m\"\u001b[39;49m, \u001b[39mNone\u001b[39;49;00m),\n\u001b[0;32m   1221\u001b[0m     compression\u001b[39m=\u001b[39;49m\u001b[39mself\u001b[39;49m\u001b[39m.\u001b[39;49moptions\u001b[39m.\u001b[39;49mget(\u001b[39m\"\u001b[39;49m\u001b[39mcompression\u001b[39;49m\u001b[39m\"\u001b[39;49m, \u001b[39mNone\u001b[39;49;00m),\n\u001b[0;32m   1222\u001b[0m     memory_map\u001b[39m=\u001b[39;49m\u001b[39mself\u001b[39;49m\u001b[39m.\u001b[39;49moptions\u001b[39m.\u001b[39;49mget(\u001b[39m\"\u001b[39;49m\u001b[39mmemory_map\u001b[39;49m\u001b[39m\"\u001b[39;49m, \u001b[39mFalse\u001b[39;49;00m),\n\u001b[0;32m   1223\u001b[0m     is_text\u001b[39m=\u001b[39;49mis_text,\n\u001b[0;32m   1224\u001b[0m     errors\u001b[39m=\u001b[39;49m\u001b[39mself\u001b[39;49m\u001b[39m.\u001b[39;49moptions\u001b[39m.\u001b[39;49mget(\u001b[39m\"\u001b[39;49m\u001b[39mencoding_errors\u001b[39;49m\u001b[39m\"\u001b[39;49m, \u001b[39m\"\u001b[39;49m\u001b[39mstrict\u001b[39;49m\u001b[39m\"\u001b[39;49m),\n\u001b[0;32m   1225\u001b[0m     storage_options\u001b[39m=\u001b[39;49m\u001b[39mself\u001b[39;49m\u001b[39m.\u001b[39;49moptions\u001b[39m.\u001b[39;49mget(\u001b[39m\"\u001b[39;49m\u001b[39mstorage_options\u001b[39;49m\u001b[39m\"\u001b[39;49m, \u001b[39mNone\u001b[39;49;00m),\n\u001b[0;32m   1226\u001b[0m )\n\u001b[0;32m   1227\u001b[0m \u001b[39massert\u001b[39;00m \u001b[39mself\u001b[39m\u001b[39m.\u001b[39mhandles \u001b[39mis\u001b[39;00m \u001b[39mnot\u001b[39;00m \u001b[39mNone\u001b[39;00m\n\u001b[0;32m   1228\u001b[0m f \u001b[39m=\u001b[39m \u001b[39mself\u001b[39m\u001b[39m.\u001b[39mhandles\u001b[39m.\u001b[39mhandle\n",
      "File \u001b[1;32mc:\\Python310\\lib\\site-packages\\pandas\\io\\common.py:789\u001b[0m, in \u001b[0;36mget_handle\u001b[1;34m(path_or_buf, mode, encoding, compression, memory_map, is_text, errors, storage_options)\u001b[0m\n\u001b[0;32m    784\u001b[0m \u001b[39melif\u001b[39;00m \u001b[39misinstance\u001b[39m(handle, \u001b[39mstr\u001b[39m):\n\u001b[0;32m    785\u001b[0m     \u001b[39m# Check whether the filename is to be opened in binary mode.\u001b[39;00m\n\u001b[0;32m    786\u001b[0m     \u001b[39m# Binary mode does not support 'encoding' and 'newline'.\u001b[39;00m\n\u001b[0;32m    787\u001b[0m     \u001b[39mif\u001b[39;00m ioargs\u001b[39m.\u001b[39mencoding \u001b[39mand\u001b[39;00m \u001b[39m\"\u001b[39m\u001b[39mb\u001b[39m\u001b[39m\"\u001b[39m \u001b[39mnot\u001b[39;00m \u001b[39min\u001b[39;00m ioargs\u001b[39m.\u001b[39mmode:\n\u001b[0;32m    788\u001b[0m         \u001b[39m# Encoding\u001b[39;00m\n\u001b[1;32m--> 789\u001b[0m         handle \u001b[39m=\u001b[39m \u001b[39mopen\u001b[39;49m(\n\u001b[0;32m    790\u001b[0m             handle,\n\u001b[0;32m    791\u001b[0m             ioargs\u001b[39m.\u001b[39;49mmode,\n\u001b[0;32m    792\u001b[0m             encoding\u001b[39m=\u001b[39;49mioargs\u001b[39m.\u001b[39;49mencoding,\n\u001b[0;32m    793\u001b[0m             errors\u001b[39m=\u001b[39;49merrors,\n\u001b[0;32m    794\u001b[0m             newline\u001b[39m=\u001b[39;49m\u001b[39m\"\u001b[39;49m\u001b[39m\"\u001b[39;49m,\n\u001b[0;32m    795\u001b[0m         )\n\u001b[0;32m    796\u001b[0m     \u001b[39melse\u001b[39;00m:\n\u001b[0;32m    797\u001b[0m         \u001b[39m# Binary mode\u001b[39;00m\n\u001b[0;32m    798\u001b[0m         handle \u001b[39m=\u001b[39m \u001b[39mopen\u001b[39m(handle, ioargs\u001b[39m.\u001b[39mmode)\n",
      "\u001b[1;31mFileNotFoundError\u001b[0m: [Errno 2] No such file or directory: '../danger_level.csv'"
     ]
    }
   ],
   "source": [
    "df =pd.read_csv('../danger_level.csv')\n",
    "df = df.dropna()\n",
    "df.info()"
   ]
  },
  {
   "cell_type": "code",
   "execution_count": null,
   "metadata": {},
   "outputs": [],
   "source": [
    "def label_ground_int(row):\n",
    "    match row['ground_type']:\n",
    "        case \"LVd2\":\n",
    "            return 0 \n",
    "        case \"LVd4\":\n",
    "            return 1 \n",
    "        case \"A2\":\n",
    "            return 2 \n",
    "        case \"URBANO\":\n",
    "            return 3 \n",
    "        case \"PV1\":\n",
    "            return 4 \n",
    "        case \"HP\":\n",
    "            return 5 \n",
    "        case \"AGUA\":\n",
    "            return 6 \n",
    "        case \"ILHA\":\n",
    "            return 7 \n",
    "def label_danger_int(row):\n",
    "    match row['danger_level']:\n",
    "        case 'Baixa':\n",
    "            return 0 \n",
    "        case 'Média':\n",
    "            return 1 \n",
    "        case 'Alta':\n",
    "            return 2 "
   ]
  },
  {
   "cell_type": "code",
   "execution_count": null,
   "metadata": {},
   "outputs": [],
   "source": [
    "\n",
    "Target = ['confirmado']\n",
    "Predictors = ['rain_hour', 'rain_day', 'altitude', 'ground_type_int', 'danger_level_int', 'latitude', 'longitude']\n",
    "df['ground_type_int'] = df.apply(lambda row: label_ground_int(row), axis=1)\n",
    "df['danger_level_int'] = df.apply(lambda row: label_danger_int(row), axis=1)\n",
    "\n",
    "X = df[Predictors].values\n",
    "y = df[Target].values\n",
    "\n"
   ]
  },
  {
   "cell_type": "code",
   "execution_count": null,
   "metadata": {},
   "outputs": [
    {
     "name": "stdout",
     "output_type": "stream",
     "text": [
      "(1068, 7)\n",
      "(1068, 1)\n",
      "(1069, 7)\n",
      "(1069, 1)\n"
     ]
    }
   ],
   "source": [
    "PredictorScaler=StandardScaler()\n",
    "PredictorScalerFit=PredictorScaler.fit(X)\n",
    " \n",
    "# Generating the standardized values of X and y\n",
    "X=PredictorScalerFit.transform(X)\n",
    " \n",
    "# Split the data into training and testing set\n",
    "from sklearn.model_selection import train_test_split\n",
    "X_train, X_test, y_train, y_test = train_test_split(X, y, test_size=0.5, random_state=42)\n",
    " \n",
    "# Quick sanity check with the shapes of Training and Testing datasets\n",
    "print(X_train.shape)\n",
    "print(y_train.shape)\n",
    "print(X_test.shape)\n",
    "print(y_test.shape)"
   ]
  },
  {
   "cell_type": "code",
   "execution_count": null,
   "metadata": {},
   "outputs": [
    {
     "name": "stdout",
     "output_type": "stream",
     "text": [
      "Model: \"sequential\"\n",
      "_________________________________________________________________\n",
      " Layer (type)                Output Shape              Param #   \n",
      "=================================================================\n",
      " dense (Dense)               (None, 10)                80        \n",
      "                                                                 \n",
      " dense_1 (Dense)             (None, 6)                 66        \n",
      "                                                                 \n",
      " dense_2 (Dense)             (None, 1)                 7         \n",
      "                                                                 \n",
      "=================================================================\n",
      "Total params: 153\n",
      "Trainable params: 153\n",
      "Non-trainable params: 0\n",
      "_________________________________________________________________\n",
      "None\n",
      "Epoch 1/10\n",
      "107/107 [==============================] - 1s 1ms/step - loss: 0.6838 - accuracy: 0.6639\n",
      "Epoch 2/10\n",
      "107/107 [==============================] - 0s 1ms/step - loss: 0.6284 - accuracy: 0.6770\n",
      "Epoch 3/10\n",
      "107/107 [==============================] - 0s 2ms/step - loss: 0.5647 - accuracy: 0.6770\n",
      "Epoch 4/10\n",
      "107/107 [==============================] - 0s 1ms/step - loss: 0.5492 - accuracy: 0.6770\n",
      "Epoch 5/10\n",
      "107/107 [==============================] - 0s 1ms/step - loss: 0.5454 - accuracy: 0.6770\n",
      "Epoch 6/10\n",
      "107/107 [==============================] - 0s 1ms/step - loss: 0.5431 - accuracy: 0.6770\n",
      "Epoch 7/10\n",
      "107/107 [==============================] - 0s 1ms/step - loss: 0.5415 - accuracy: 0.6770\n",
      "Epoch 8/10\n",
      "107/107 [==============================] - 0s 1ms/step - loss: 0.5394 - accuracy: 0.6770\n",
      "Epoch 9/10\n",
      "107/107 [==============================] - 0s 1ms/step - loss: 0.5383 - accuracy: 0.6770\n",
      "Epoch 10/10\n",
      "107/107 [==============================] - 0s 1ms/step - loss: 0.5365 - accuracy: 0.6770\n"
     ]
    }
   ],
   "source": [
    "classifier = tf.keras.Sequential()\n",
    "# Defining the Input layer and FIRST hidden layer,both are same!\n",
    "# relu means Rectifier linear unit function\n",
    "classifier.add(tf.keras.layers.Dense(units=10, input_dim=7, kernel_initializer='uniform', activation='relu'))\n",
    "\n",
    "#Second layer\n",
    "classifier.add(tf.keras.layers.Dense(units=6, kernel_initializer='uniform', activation='relu'))\n",
    "\n",
    "# Defining the Output layer\n",
    "# sigmoid means sigmoid activation function\n",
    "# for Multiclass classification the activation ='softmax'\n",
    "# And output_dim will be equal to the number of factor levels\n",
    "classifier.add(tf.keras.layers.Dense(units=1, kernel_initializer='uniform', activation='sigmoid'))\n",
    "\n",
    "classifier.compile(optimizer='adam', loss='binary_crossentropy', metrics=['accuracy'])\n",
    "\n",
    "\"\"\" tensor = tf.convert_to_tensor(classifier)\n",
    " \"\"\"\n",
    "# fitting the Neural Network on the training data\n",
    "X_train =  np.asarray(X_train).astype('float32')\n",
    "y_train =  np.asarray(y_train).astype('float32')\n",
    "\n",
    "print(classifier.summary())\n",
    "\n",
    "survivalANN_Model=classifier.fit(X_train,y_train, batch_size=10 , epochs=10, verbose=1)"
   ]
  },
  {
   "cell_type": "code",
   "execution_count": null,
   "metadata": {},
   "outputs": [
    {
     "name": "stdout",
     "output_type": "stream",
     "text": [
      "1 Parameters: batch_size: 5 - epochs: 5 Accuracy: 0.699438214302063\n"
     ]
    },
    {
     "name": "stderr",
     "output_type": "stream",
     "text": [
      "C:\\Users\\parae\\AppData\\Local\\Temp\\ipykernel_10168\\3189475417.py:30: FutureWarning: The frame.append method is deprecated and will be removed from pandas in a future version. Use pandas.concat instead.\n",
      "  SearchResultsData=SearchResultsData.append(pd.DataFrame(data=[[TrialNumber,\n"
     ]
    },
    {
     "name": "stdout",
     "output_type": "stream",
     "text": [
      "2 Parameters: batch_size: 5 - epochs: 10 Accuracy: 0.7134831547737122\n"
     ]
    },
    {
     "name": "stderr",
     "output_type": "stream",
     "text": [
      "C:\\Users\\parae\\AppData\\Local\\Temp\\ipykernel_10168\\3189475417.py:30: FutureWarning: The frame.append method is deprecated and will be removed from pandas in a future version. Use pandas.concat instead.\n",
      "  SearchResultsData=SearchResultsData.append(pd.DataFrame(data=[[TrialNumber,\n"
     ]
    },
    {
     "name": "stdout",
     "output_type": "stream",
     "text": [
      "3 Parameters: batch_size: 5 - epochs: 50 Accuracy: 0.7434456944465637\n"
     ]
    },
    {
     "name": "stderr",
     "output_type": "stream",
     "text": [
      "C:\\Users\\parae\\AppData\\Local\\Temp\\ipykernel_10168\\3189475417.py:30: FutureWarning: The frame.append method is deprecated and will be removed from pandas in a future version. Use pandas.concat instead.\n",
      "  SearchResultsData=SearchResultsData.append(pd.DataFrame(data=[[TrialNumber,\n"
     ]
    },
    {
     "name": "stdout",
     "output_type": "stream",
     "text": [
      "4 Parameters: batch_size: 5 - epochs: 100 Accuracy: 0.7368913888931274\n"
     ]
    },
    {
     "name": "stderr",
     "output_type": "stream",
     "text": [
      "C:\\Users\\parae\\AppData\\Local\\Temp\\ipykernel_10168\\3189475417.py:30: FutureWarning: The frame.append method is deprecated and will be removed from pandas in a future version. Use pandas.concat instead.\n",
      "  SearchResultsData=SearchResultsData.append(pd.DataFrame(data=[[TrialNumber,\n"
     ]
    },
    {
     "name": "stdout",
     "output_type": "stream",
     "text": [
      "5 Parameters: batch_size: 10 - epochs: 5 Accuracy: 0.6769663095474243\n"
     ]
    },
    {
     "name": "stderr",
     "output_type": "stream",
     "text": [
      "C:\\Users\\parae\\AppData\\Local\\Temp\\ipykernel_10168\\3189475417.py:30: FutureWarning: The frame.append method is deprecated and will be removed from pandas in a future version. Use pandas.concat instead.\n",
      "  SearchResultsData=SearchResultsData.append(pd.DataFrame(data=[[TrialNumber,\n"
     ]
    },
    {
     "name": "stdout",
     "output_type": "stream",
     "text": [
      "6 Parameters: batch_size: 10 - epochs: 10 Accuracy: 0.7059925198554993\n"
     ]
    },
    {
     "name": "stderr",
     "output_type": "stream",
     "text": [
      "C:\\Users\\parae\\AppData\\Local\\Temp\\ipykernel_10168\\3189475417.py:30: FutureWarning: The frame.append method is deprecated and will be removed from pandas in a future version. Use pandas.concat instead.\n",
      "  SearchResultsData=SearchResultsData.append(pd.DataFrame(data=[[TrialNumber,\n"
     ]
    },
    {
     "name": "stdout",
     "output_type": "stream",
     "text": [
      "7 Parameters: batch_size: 10 - epochs: 50 Accuracy: 0.7312734127044678\n"
     ]
    },
    {
     "name": "stderr",
     "output_type": "stream",
     "text": [
      "C:\\Users\\parae\\AppData\\Local\\Temp\\ipykernel_10168\\3189475417.py:30: FutureWarning: The frame.append method is deprecated and will be removed from pandas in a future version. Use pandas.concat instead.\n",
      "  SearchResultsData=SearchResultsData.append(pd.DataFrame(data=[[TrialNumber,\n"
     ]
    },
    {
     "name": "stdout",
     "output_type": "stream",
     "text": [
      "8 Parameters: batch_size: 10 - epochs: 100 Accuracy: 0.7368913888931274\n"
     ]
    },
    {
     "name": "stderr",
     "output_type": "stream",
     "text": [
      "C:\\Users\\parae\\AppData\\Local\\Temp\\ipykernel_10168\\3189475417.py:30: FutureWarning: The frame.append method is deprecated and will be removed from pandas in a future version. Use pandas.concat instead.\n",
      "  SearchResultsData=SearchResultsData.append(pd.DataFrame(data=[[TrialNumber,\n"
     ]
    },
    {
     "name": "stdout",
     "output_type": "stream",
     "text": [
      "9 Parameters: batch_size: 15 - epochs: 5 Accuracy: 0.6769663095474243\n"
     ]
    },
    {
     "name": "stderr",
     "output_type": "stream",
     "text": [
      "C:\\Users\\parae\\AppData\\Local\\Temp\\ipykernel_10168\\3189475417.py:30: FutureWarning: The frame.append method is deprecated and will be removed from pandas in a future version. Use pandas.concat instead.\n",
      "  SearchResultsData=SearchResultsData.append(pd.DataFrame(data=[[TrialNumber,\n"
     ]
    },
    {
     "name": "stdout",
     "output_type": "stream",
     "text": [
      "10 Parameters: batch_size: 15 - epochs: 10 Accuracy: 0.6769663095474243\n"
     ]
    },
    {
     "name": "stderr",
     "output_type": "stream",
     "text": [
      "C:\\Users\\parae\\AppData\\Local\\Temp\\ipykernel_10168\\3189475417.py:30: FutureWarning: The frame.append method is deprecated and will be removed from pandas in a future version. Use pandas.concat instead.\n",
      "  SearchResultsData=SearchResultsData.append(pd.DataFrame(data=[[TrialNumber,\n"
     ]
    },
    {
     "name": "stdout",
     "output_type": "stream",
     "text": [
      "11 Parameters: batch_size: 15 - epochs: 50 Accuracy: 0.7228464484214783\n"
     ]
    },
    {
     "name": "stderr",
     "output_type": "stream",
     "text": [
      "C:\\Users\\parae\\AppData\\Local\\Temp\\ipykernel_10168\\3189475417.py:30: FutureWarning: The frame.append method is deprecated and will be removed from pandas in a future version. Use pandas.concat instead.\n",
      "  SearchResultsData=SearchResultsData.append(pd.DataFrame(data=[[TrialNumber,\n"
     ]
    },
    {
     "name": "stdout",
     "output_type": "stream",
     "text": [
      "12 Parameters: batch_size: 15 - epochs: 100 Accuracy: 0.7481273412704468\n"
     ]
    },
    {
     "name": "stderr",
     "output_type": "stream",
     "text": [
      "C:\\Users\\parae\\AppData\\Local\\Temp\\ipykernel_10168\\3189475417.py:30: FutureWarning: The frame.append method is deprecated and will be removed from pandas in a future version. Use pandas.concat instead.\n",
      "  SearchResultsData=SearchResultsData.append(pd.DataFrame(data=[[TrialNumber,\n"
     ]
    },
    {
     "name": "stdout",
     "output_type": "stream",
     "text": [
      "13 Parameters: batch_size: 20 - epochs: 5 Accuracy: 0.6788389682769775\n"
     ]
    },
    {
     "name": "stderr",
     "output_type": "stream",
     "text": [
      "C:\\Users\\parae\\AppData\\Local\\Temp\\ipykernel_10168\\3189475417.py:30: FutureWarning: The frame.append method is deprecated and will be removed from pandas in a future version. Use pandas.concat instead.\n",
      "  SearchResultsData=SearchResultsData.append(pd.DataFrame(data=[[TrialNumber,\n"
     ]
    },
    {
     "name": "stdout",
     "output_type": "stream",
     "text": [
      "14 Parameters: batch_size: 20 - epochs: 10 Accuracy: 0.6769663095474243\n"
     ]
    },
    {
     "name": "stderr",
     "output_type": "stream",
     "text": [
      "C:\\Users\\parae\\AppData\\Local\\Temp\\ipykernel_10168\\3189475417.py:30: FutureWarning: The frame.append method is deprecated and will be removed from pandas in a future version. Use pandas.concat instead.\n",
      "  SearchResultsData=SearchResultsData.append(pd.DataFrame(data=[[TrialNumber,\n"
     ]
    },
    {
     "name": "stdout",
     "output_type": "stream",
     "text": [
      "15 Parameters: batch_size: 20 - epochs: 50 Accuracy: 0.7340824007987976\n"
     ]
    },
    {
     "name": "stderr",
     "output_type": "stream",
     "text": [
      "C:\\Users\\parae\\AppData\\Local\\Temp\\ipykernel_10168\\3189475417.py:30: FutureWarning: The frame.append method is deprecated and will be removed from pandas in a future version. Use pandas.concat instead.\n",
      "  SearchResultsData=SearchResultsData.append(pd.DataFrame(data=[[TrialNumber,\n"
     ]
    },
    {
     "name": "stdout",
     "output_type": "stream",
     "text": [
      "16 Parameters: batch_size: 20 - epochs: 100 Accuracy: 0.7350187301635742\n"
     ]
    },
    {
     "name": "stderr",
     "output_type": "stream",
     "text": [
      "C:\\Users\\parae\\AppData\\Local\\Temp\\ipykernel_10168\\3189475417.py:30: FutureWarning: The frame.append method is deprecated and will be removed from pandas in a future version. Use pandas.concat instead.\n",
      "  SearchResultsData=SearchResultsData.append(pd.DataFrame(data=[[TrialNumber,\n"
     ]
    }
   ],
   "source": [
    "def FunctionFindBestParams(X_train, y_train):\n",
    "    \n",
    "    # Defining the list of hyper parameters to try\n",
    "    TrialNumber=0\n",
    "    batch_size_list=[5, 10, 15, 20]\n",
    "    epoch_list=[5, 10, 50 ,100]\n",
    "    \n",
    "    import pandas as pd\n",
    "    SearchResultsData=pd.DataFrame(columns=['TrialNumber', 'Parameters', 'Accuracy'])\n",
    "    \n",
    "    for batch_size_trial in batch_size_list:\n",
    "        for epochs_trial in epoch_list:\n",
    "            TrialNumber+=1\n",
    "            \n",
    "            # Creating the classifier ANN model\n",
    "            classifier = tf.keras.Sequential()\n",
    "            classifier.add(tf.keras.layers.Dense(units=10, input_dim=7, kernel_initializer='uniform', activation='relu'))\n",
    "            classifier.add(tf.keras.layers.Dense(units=6, kernel_initializer='uniform', activation='relu'))\n",
    "            classifier.add(tf.keras.layers.Dense(units=1, kernel_initializer='uniform', activation='sigmoid'))\n",
    "            classifier.compile(optimizer='adam', loss='binary_crossentropy', metrics=['accuracy'])\n",
    " \n",
    "            \n",
    "            survivalANN_Model=classifier.fit(X_train,y_train, batch_size=batch_size_trial , epochs=epochs_trial, verbose=0)\n",
    "            # Fetching the accuracy of the training\n",
    "            Accuracy = survivalANN_Model.history['accuracy'][-1]\n",
    "            \n",
    "            # printing the results of the current iteration\n",
    "            print(TrialNumber, 'Parameters:','batch_size:', batch_size_trial,'-', 'epochs:',epochs_trial, 'Accuracy:', Accuracy)\n",
    "            \n",
    "            SearchResultsData=SearchResultsData.append(pd.DataFrame(data=[[TrialNumber,\n",
    "                            'batch_size'+str(batch_size_trial)+'-'+'epoch'+str(epochs_trial), Accuracy]],\n",
    "                                                                    columns=['TrialNumber', 'Parameters', 'Accuracy'] ))\n",
    "    return(SearchResultsData)\n",
    " \n",
    "###############################################\n",
    " \n",
    "# Calling the function\n",
    "ResultsData=FunctionFindBestParams(X_train, y_train)"
   ]
  },
  {
   "cell_type": "code",
   "execution_count": null,
   "metadata": {},
   "outputs": [
    {
     "name": "stdout",
     "output_type": "stream",
     "text": [
      "  TrialNumber             Parameters  Accuracy\n",
      "0          12  batch_size15-epoch100  0.748127\n"
     ]
    },
    {
     "data": {
      "text/plain": [
       "<AxesSubplot:xlabel='Parameters'>"
      ]
     },
     "execution_count": 8,
     "metadata": {},
     "output_type": "execute_result"
    },
    {
     "data": {
      "image/png": "[encoded data removed]",
      "text/plain": [
       "<Figure size 1080x288 with 1 Axes>"
      ]
     },
     "metadata": {
      "needs_background": "light"
     },
     "output_type": "display_data"
    }
   ],
   "source": [
    "\n",
    "# Printing the best parameter\n",
    "print(ResultsData.sort_values(by='Accuracy', ascending=False).head(1))\n",
    " \n",
    "# Visualizing the results\n",
    "%matplotlib inline\n",
    "ResultsData.plot(x='Parameters', y='Accuracy', figsize=(15,4), kind='line', rot=20)"
   ]
  },
  {
   "cell_type": "code",
   "execution_count": null,
   "metadata": {},
   "outputs": [
    {
     "name": "stdout",
     "output_type": "stream",
     "text": [
      "Epoch 1/100\n",
      "72/72 [==============================] - 0s 1ms/step - loss: 0.5352 - accuracy: 0.6770\n",
      "Epoch 2/100\n",
      "72/72 [==============================] - 0s 1ms/step - loss: 0.5341 - accuracy: 0.6770\n",
      "Epoch 3/100\n",
      "72/72 [==============================] - 0s 2ms/step - loss: 0.5334 - accuracy: 0.6770\n",
      "Epoch 4/100\n",
      "72/72 [==============================] - 0s 1ms/step - loss: 0.5325 - accuracy: 0.6770\n",
      "Epoch 5/100\n",
      "72/72 [==============================] - 0s 2ms/step - loss: 0.5319 - accuracy: 0.6770\n",
      "Epoch 6/100\n",
      "72/72 [==============================] - 0s 2ms/step - loss: 0.5311 - accuracy: 0.6770\n",
      "Epoch 7/100\n",
      "72/72 [==============================] - 0s 2ms/step - loss: 0.5303 - accuracy: 0.6770\n",
      "Epoch 8/100\n",
      "72/72 [==============================] - 0s 1ms/step - loss: 0.5294 - accuracy: 0.6770\n",
      "Epoch 9/100\n",
      "72/72 [==============================] - 0s 1ms/step - loss: 0.5287 - accuracy: 0.6770\n",
      "Epoch 10/100\n",
      "72/72 [==============================] - 0s 2ms/step - loss: 0.5277 - accuracy: 0.6891\n",
      "Epoch 11/100\n",
      "72/72 [==============================] - 0s 1ms/step - loss: 0.5272 - accuracy: 0.7041\n",
      "Epoch 12/100\n",
      "72/72 [==============================] - 0s 3ms/step - loss: 0.5265 - accuracy: 0.7013\n",
      "Epoch 13/100\n",
      "72/72 [==============================] - 0s 3ms/step - loss: 0.5260 - accuracy: 0.7097\n",
      "Epoch 14/100\n",
      "72/72 [==============================] - 0s 3ms/step - loss: 0.5256 - accuracy: 0.7079\n",
      "Epoch 15/100\n",
      "72/72 [==============================] - 0s 1ms/step - loss: 0.5246 - accuracy: 0.7097\n",
      "Epoch 16/100\n",
      "72/72 [==============================] - 0s 2ms/step - loss: 0.5241 - accuracy: 0.7088\n",
      "Epoch 17/100\n",
      "72/72 [==============================] - 0s 1ms/step - loss: 0.5235 - accuracy: 0.7135\n",
      "Epoch 18/100\n",
      "72/72 [==============================] - 0s 1ms/step - loss: 0.5230 - accuracy: 0.7125\n",
      "Epoch 19/100\n",
      "72/72 [==============================] - 0s 1ms/step - loss: 0.5224 - accuracy: 0.7191\n",
      "Epoch 20/100\n",
      "72/72 [==============================] - 0s 1ms/step - loss: 0.5218 - accuracy: 0.7125\n",
      "Epoch 21/100\n",
      "72/72 [==============================] - 0s 1ms/step - loss: 0.5212 - accuracy: 0.7144\n",
      "Epoch 22/100\n",
      "72/72 [==============================] - 0s 1ms/step - loss: 0.5206 - accuracy: 0.7135\n",
      "Epoch 23/100\n",
      "72/72 [==============================] - 0s 2ms/step - loss: 0.5206 - accuracy: 0.7135\n",
      "Epoch 24/100\n",
      "72/72 [==============================] - 0s 1ms/step - loss: 0.5200 - accuracy: 0.7116\n",
      "Epoch 25/100\n",
      "72/72 [==============================] - 0s 1ms/step - loss: 0.5196 - accuracy: 0.7116\n",
      "Epoch 26/100\n",
      "72/72 [==============================] - 0s 1ms/step - loss: 0.5191 - accuracy: 0.7088\n",
      "Epoch 27/100\n",
      "72/72 [==============================] - 0s 2ms/step - loss: 0.5187 - accuracy: 0.7079\n",
      "Epoch 28/100\n",
      "72/72 [==============================] - 0s 1ms/step - loss: 0.5182 - accuracy: 0.7097\n",
      "Epoch 29/100\n",
      "72/72 [==============================] - 0s 2ms/step - loss: 0.5181 - accuracy: 0.7088\n",
      "Epoch 30/100\n",
      "72/72 [==============================] - 0s 2ms/step - loss: 0.5174 - accuracy: 0.7069\n",
      "Epoch 31/100\n",
      "72/72 [==============================] - 0s 2ms/step - loss: 0.5169 - accuracy: 0.7097\n",
      "Epoch 32/100\n",
      "72/72 [==============================] - 0s 2ms/step - loss: 0.5164 - accuracy: 0.7060\n",
      "Epoch 33/100\n",
      "72/72 [==============================] - 0s 2ms/step - loss: 0.5164 - accuracy: 0.7060\n",
      "Epoch 34/100\n",
      "72/72 [==============================] - 0s 1ms/step - loss: 0.5161 - accuracy: 0.7079\n",
      "Epoch 35/100\n",
      "72/72 [==============================] - 0s 2ms/step - loss: 0.5154 - accuracy: 0.7069\n",
      "Epoch 36/100\n",
      "72/72 [==============================] - 0s 2ms/step - loss: 0.5153 - accuracy: 0.7088\n",
      "Epoch 37/100\n",
      "72/72 [==============================] - 0s 2ms/step - loss: 0.5153 - accuracy: 0.7144\n",
      "Epoch 38/100\n",
      "72/72 [==============================] - 0s 2ms/step - loss: 0.5146 - accuracy: 0.7135\n",
      "Epoch 39/100\n",
      "72/72 [==============================] - 0s 1ms/step - loss: 0.5141 - accuracy: 0.7125\n",
      "Epoch 40/100\n",
      "72/72 [==============================] - 0s 1ms/step - loss: 0.5138 - accuracy: 0.7135\n",
      "Epoch 41/100\n",
      "72/72 [==============================] - 0s 2ms/step - loss: 0.5136 - accuracy: 0.7125\n",
      "Epoch 42/100\n",
      "72/72 [==============================] - 0s 1ms/step - loss: 0.5136 - accuracy: 0.7154\n",
      "Epoch 43/100\n",
      "72/72 [==============================] - 0s 1ms/step - loss: 0.5133 - accuracy: 0.7172\n",
      "Epoch 44/100\n",
      "72/72 [==============================] - 0s 1ms/step - loss: 0.5130 - accuracy: 0.7200\n",
      "Epoch 45/100\n",
      "72/72 [==============================] - 0s 1ms/step - loss: 0.5131 - accuracy: 0.7182\n",
      "Epoch 46/100\n",
      "72/72 [==============================] - 0s 2ms/step - loss: 0.5126 - accuracy: 0.7154\n",
      "Epoch 47/100\n",
      "72/72 [==============================] - 0s 2ms/step - loss: 0.5126 - accuracy: 0.7182\n",
      "Epoch 48/100\n",
      "72/72 [==============================] - 0s 2ms/step - loss: 0.5121 - accuracy: 0.7191\n",
      "Epoch 49/100\n",
      "72/72 [==============================] - 0s 2ms/step - loss: 0.5115 - accuracy: 0.7219\n",
      "Epoch 50/100\n",
      "72/72 [==============================] - 0s 2ms/step - loss: 0.5112 - accuracy: 0.7219\n",
      "Epoch 51/100\n",
      "72/72 [==============================] - 0s 2ms/step - loss: 0.5112 - accuracy: 0.7238\n",
      "Epoch 52/100\n",
      "72/72 [==============================] - 0s 2ms/step - loss: 0.5108 - accuracy: 0.7228\n",
      "Epoch 53/100\n",
      "72/72 [==============================] - 0s 2ms/step - loss: 0.5105 - accuracy: 0.7247\n",
      "Epoch 54/100\n",
      "72/72 [==============================] - 0s 2ms/step - loss: 0.5103 - accuracy: 0.7247\n",
      "Epoch 55/100\n",
      "72/72 [==============================] - 0s 2ms/step - loss: 0.5098 - accuracy: 0.7247\n",
      "Epoch 56/100\n",
      "72/72 [==============================] - 0s 2ms/step - loss: 0.5100 - accuracy: 0.7266\n",
      "Epoch 57/100\n",
      "72/72 [==============================] - 0s 2ms/step - loss: 0.5093 - accuracy: 0.7266\n",
      "Epoch 58/100\n",
      "72/72 [==============================] - 0s 2ms/step - loss: 0.5091 - accuracy: 0.7294\n",
      "Epoch 59/100\n",
      "72/72 [==============================] - 0s 2ms/step - loss: 0.5090 - accuracy: 0.7247\n",
      "Epoch 60/100\n",
      "72/72 [==============================] - 0s 2ms/step - loss: 0.5089 - accuracy: 0.7285\n",
      "Epoch 61/100\n",
      "72/72 [==============================] - 0s 2ms/step - loss: 0.5081 - accuracy: 0.7266\n",
      "Epoch 62/100\n",
      "72/72 [==============================] - 0s 2ms/step - loss: 0.5082 - accuracy: 0.7294\n",
      "Epoch 63/100\n",
      "72/72 [==============================] - 0s 2ms/step - loss: 0.5082 - accuracy: 0.7275\n",
      "Epoch 64/100\n",
      "72/72 [==============================] - 0s 2ms/step - loss: 0.5077 - accuracy: 0.7257\n",
      "Epoch 65/100\n",
      "72/72 [==============================] - 0s 2ms/step - loss: 0.5078 - accuracy: 0.7294\n",
      "Epoch 66/100\n",
      "72/72 [==============================] - 0s 2ms/step - loss: 0.5076 - accuracy: 0.7285\n",
      "Epoch 67/100\n",
      "72/72 [==============================] - 0s 2ms/step - loss: 0.5076 - accuracy: 0.7294\n",
      "Epoch 68/100\n",
      "72/72 [==============================] - 0s 2ms/step - loss: 0.5073 - accuracy: 0.7285\n",
      "Epoch 69/100\n",
      "72/72 [==============================] - 0s 2ms/step - loss: 0.5068 - accuracy: 0.7275\n",
      "Epoch 70/100\n",
      "72/72 [==============================] - 0s 2ms/step - loss: 0.5068 - accuracy: 0.7247\n",
      "Epoch 71/100\n",
      "72/72 [==============================] - 0s 2ms/step - loss: 0.5064 - accuracy: 0.7285\n",
      "Epoch 72/100\n",
      "72/72 [==============================] - 0s 2ms/step - loss: 0.5063 - accuracy: 0.7266\n",
      "Epoch 73/100\n",
      "72/72 [==============================] - 0s 2ms/step - loss: 0.5061 - accuracy: 0.7285\n",
      "Epoch 74/100\n",
      "72/72 [==============================] - 0s 1ms/step - loss: 0.5059 - accuracy: 0.7303\n",
      "Epoch 75/100\n",
      "72/72 [==============================] - 0s 2ms/step - loss: 0.5063 - accuracy: 0.7275\n",
      "Epoch 76/100\n",
      "72/72 [==============================] - 0s 2ms/step - loss: 0.5059 - accuracy: 0.7294\n",
      "Epoch 77/100\n",
      "72/72 [==============================] - 0s 2ms/step - loss: 0.5058 - accuracy: 0.7294\n",
      "Epoch 78/100\n",
      "72/72 [==============================] - 0s 2ms/step - loss: 0.5053 - accuracy: 0.7266\n",
      "Epoch 79/100\n",
      "72/72 [==============================] - 0s 2ms/step - loss: 0.5053 - accuracy: 0.7275\n",
      "Epoch 80/100\n",
      "72/72 [==============================] - 0s 2ms/step - loss: 0.5048 - accuracy: 0.7275\n",
      "Epoch 81/100\n",
      "72/72 [==============================] - 0s 1ms/step - loss: 0.5045 - accuracy: 0.7322\n",
      "Epoch 82/100\n",
      "72/72 [==============================] - 0s 1ms/step - loss: 0.5049 - accuracy: 0.7313\n",
      "Epoch 83/100\n",
      "72/72 [==============================] - 0s 1ms/step - loss: 0.5044 - accuracy: 0.7303\n",
      "Epoch 84/100\n",
      "72/72 [==============================] - 0s 1ms/step - loss: 0.5047 - accuracy: 0.7303\n",
      "Epoch 85/100\n",
      "72/72 [==============================] - 0s 1ms/step - loss: 0.5043 - accuracy: 0.7341\n",
      "Epoch 86/100\n",
      "72/72 [==============================] - 0s 1ms/step - loss: 0.5045 - accuracy: 0.7322\n",
      "Epoch 87/100\n",
      "72/72 [==============================] - 0s 1ms/step - loss: 0.5038 - accuracy: 0.7350\n",
      "Epoch 88/100\n",
      "72/72 [==============================] - 0s 1ms/step - loss: 0.5038 - accuracy: 0.7303\n",
      "Epoch 89/100\n",
      "72/72 [==============================] - 0s 1ms/step - loss: 0.5041 - accuracy: 0.7303\n",
      "Epoch 90/100\n",
      "72/72 [==============================] - 0s 1ms/step - loss: 0.5036 - accuracy: 0.7350\n",
      "Epoch 91/100\n",
      "72/72 [==============================] - 0s 1ms/step - loss: 0.5038 - accuracy: 0.7341\n",
      "Epoch 92/100\n",
      "72/72 [==============================] - 0s 1ms/step - loss: 0.5034 - accuracy: 0.7331\n",
      "Epoch 93/100\n",
      "72/72 [==============================] - 0s 1ms/step - loss: 0.5037 - accuracy: 0.7388\n",
      "Epoch 94/100\n",
      "72/72 [==============================] - 0s 1ms/step - loss: 0.5031 - accuracy: 0.7369\n",
      "Epoch 95/100\n",
      "72/72 [==============================] - 0s 1ms/step - loss: 0.5031 - accuracy: 0.7360\n",
      "Epoch 96/100\n",
      "72/72 [==============================] - 0s 1ms/step - loss: 0.5032 - accuracy: 0.7369\n",
      "Epoch 97/100\n",
      "72/72 [==============================] - 0s 1ms/step - loss: 0.5031 - accuracy: 0.7369\n",
      "Epoch 98/100\n",
      "72/72 [==============================] - 0s 1ms/step - loss: 0.5031 - accuracy: 0.7350\n",
      "Epoch 99/100\n",
      "72/72 [==============================] - 0s 1ms/step - loss: 0.5027 - accuracy: 0.7341\n",
      "Epoch 100/100\n",
      "72/72 [==============================] - 0s 2ms/step - loss: 0.5031 - accuracy: 0.7378\n"
     ]
    },
    {
     "data": {
      "text/plain": [
       "<keras.callbacks.History at 0x13f68994f70>"
      ]
     },
     "execution_count": 9,
     "metadata": {},
     "output_type": "execute_result"
    }
   ],
   "source": [
    "# Training the model with best hyperparamters\n",
    "classifier.fit(X_train,y_train, batch_size=15, epochs=100, verbose=1)"
   ]
  },
  {
   "cell_type": "code",
   "execution_count": null,
   "metadata": {},
   "outputs": [
    {
     "name": "stdout",
     "output_type": "stream",
     "text": [
      "34/34 [==============================] - 0s 1ms/step\n",
      "   rain_hour  rain_day  altitude  ground_type_int  danger_level_int  latitude  \\\n",
      "0        4.4      51.0       4.0              5.0               0.0 -8.090410   \n",
      "1        6.1      21.1      55.0              1.0               2.0 -7.993963   \n",
      "2        0.6       8.7       6.0              5.0               0.0 -8.098598   \n",
      "3        0.0       0.0      82.0              1.0               1.0 -8.001188   \n",
      "4        0.0       3.0      50.0              4.0               0.0 -8.108344   \n",
      "\n",
      "   longitude  Confirmado  Predicted_confirmado  \n",
      "0 -34.893062           0                     0  \n",
      "1 -34.924896           0                     1  \n",
      "2 -34.911757           0                     0  \n",
      "3 -34.935690           1                     0  \n",
      "4 -34.951849           0                     0  \n",
      "\n",
      "######### Testing Accuracy Results #########\n",
      "              precision    recall  f1-score   support\n",
      "\n",
      "           0       0.82      0.86      0.84       767\n",
      "           1       0.59      0.51      0.55       302\n",
      "\n",
      "    accuracy                           0.76      1069\n",
      "   macro avg       0.71      0.69      0.69      1069\n",
      "weighted avg       0.75      0.76      0.76      1069\n",
      "\n",
      "[[661 106]\n",
      " [147 155]]\n"
     ]
    }
   ],
   "source": [
    "Predictions=classifier.predict(X_test)\n",
    " \n",
    "# Scaling the test data back to original scale\n",
    "Test_Data=PredictorScalerFit.inverse_transform(X_test)\n",
    " \n",
    "# Generating a data frame for analyzing the test data\n",
    "TestingData=pd.DataFrame(data=Test_Data, columns=Predictors)\n",
    "TestingData['Confirmado']=y_test\n",
    "TestingData['Predicted_confirmado']=Predictions\n",
    " \n",
    "# Defining the probability threshold\n",
    "def probThreshold(inpProb):\n",
    "    if inpProb > 0.5:\n",
    "        return(1)\n",
    "    else:\n",
    "        return(0)\n",
    " \n",
    "# Generating predictions on the testing data by applying probability threshold\n",
    "TestingData['Predicted_confirmado']=TestingData['Predicted_confirmado'].apply(probThreshold)\n",
    "print(TestingData.head())\n",
    " \n",
    "###############################################\n",
    "from sklearn import metrics\n",
    "print('\\n######### Testing Accuracy Results #########')\n",
    "print(metrics.classification_report(TestingData['Confirmado'], TestingData['Predicted_confirmado']))\n",
    "print(metrics.confusion_matrix(TestingData['Confirmado'], TestingData['Predicted_confirmado']))\n"
   ]
  }
 ],
 "metadata": {
  "kernelspec": {
   "display_name": "Python 3.10.4 64-bit",
   "language": "python",
   "name": "python3"
  },
  "language_info": {
   "codemirror_mode": {
    "name": "ipython",
    "version": 3
   },
   "file_extension": ".py",
   "mimetype": "text/x-python",
   "name": "python",
   "nbconvert_exporter": "python",
   "pygments_lexer": "ipython3",
   "version": "3.10.4"
  },
  "orig_nbformat": 4,
  "vscode": {
   "interpreter": {
    "hash": "369f2c481f4da34e4445cda3fffd2e751bd1c4d706f27375911949ba6bb62e1c"
   }
  }
 },
 "nbformat": 4,
 "nbformat_minor": 2
}
