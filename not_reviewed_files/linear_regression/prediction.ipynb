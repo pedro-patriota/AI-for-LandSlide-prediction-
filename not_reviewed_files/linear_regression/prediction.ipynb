{
 "cells": [
  {
   "cell_type": "code",
   "execution_count": 3,
   "id": "b67c8f44",
   "metadata": {},
   "outputs": [],
   "source": [
    "import pandas as pd\n",
    "import matplotlib.pyplot as plt"
   ]
  },
  {
   "cell_type": "code",
   "execution_count": 4,
   "id": "8258d0b1",
   "metadata": {},
   "outputs": [],
   "source": [
    "df = pd.read_csv(\"danger_level.csv\")\n"
   ]
  },
  {
   "cell_type": "code",
   "execution_count": 5,
   "id": "5ab4d81b",
   "metadata": {},
   "outputs": [
    {
     "data": {
      "image/png": "[encoded data removed]",
      "text/plain": [
       "<Figure size 432x288 with 1 Axes>"
      ]
     },
     "metadata": {
      "needs_background": "light"
     },
     "output_type": "display_data"
    },
    {
     "name": "stdout",
     "output_type": "stream",
     "text": [
      "<class 'pandas.core.frame.DataFrame'>\n",
      "Int64Index: 990 entries, 0 to 1073\n",
      "Data columns (total 18 columns):\n",
      " #   Column                  Non-Null Count  Dtype  \n",
      "---  ------                  --------------  -----  \n",
      " 0   processo_numero         990 non-null    object \n",
      " 1   solicitacao_data        990 non-null    object \n",
      " 2   solicitacao_hora        990 non-null    object \n",
      " 3   solicitacao_descricao   990 non-null    object \n",
      " 4   solicitacao_bairro      990 non-null    object \n",
      " 5   solicitacao_localidade  990 non-null    object \n",
      " 6   solicitacao_endereco    990 non-null    object \n",
      " 7   processo_ocorrencia     990 non-null    object \n",
      " 8   confirmado              990 non-null    int64  \n",
      " 9   latitude                990 non-null    float64\n",
      " 10  longitude               990 non-null    float64\n",
      " 11  cond                    990 non-null    bool   \n",
      " 12  em_recife               990 non-null    int64  \n",
      " 13  rain_hour               990 non-null    float64\n",
      " 14  rain_day                990 non-null    float64\n",
      " 15  altitude                990 non-null    float64\n",
      " 16  ground_type             990 non-null    object \n",
      " 17  danger_level            990 non-null    object \n",
      "dtypes: bool(1), float64(5), int64(2), object(10)\n",
      "memory usage: 140.2+ KB\n"
     ]
    }
   ],
   "source": [
    "df.dropna(inplace=True)\n",
    "\n",
    "plt.scatter(df['altitude'], df['rain_day'])\n",
    "plt.show()\n",
    "df.info()\n"
   ]
  },
  {
   "cell_type": "code",
   "execution_count": 6,
   "id": "ba34ba51",
   "metadata": {},
   "outputs": [
    {
     "data": {
      "text/plain": [
       "318"
      ]
     },
     "execution_count": 6,
     "metadata": {},
     "output_type": "execute_result"
    }
   ],
   "source": [
    "df['confirmado'].sum()"
   ]
  },
  {
   "cell_type": "code",
   "execution_count": 7,
   "id": "f6f7ad47",
   "metadata": {},
   "outputs": [],
   "source": [
    "import numpy as np\n",
    "from sklearn.linear_model import LinearRegression\n",
    "from sklearn.linear_model import LogisticRegression\n",
    "from sklearn.metrics import mean_squared_error, r2_score"
   ]
  },
  {
   "cell_type": "code",
   "execution_count": 13,
   "id": "c0a18576",
   "metadata": {},
   "outputs": [],
   "source": [
    "def label_ground_int(row):\n",
    "    match row['ground_type']:\n",
    "        case \"LVd2\":\n",
    "            return 0 \n",
    "        case \"LVd4\":\n",
    "            return 1 \n",
    "        case \"A2\":\n",
    "            return 2 \n",
    "        case \"URBANO\":\n",
    "            return 3 \n",
    "        case \"PV1\":\n",
    "            return 4 \n",
    "        case \"HP\":\n",
    "            return 5 \n",
    "        case \"AGUA\":\n",
    "            return 6 \n",
    "        case \"ILHA\":\n",
    "            return 7 \n",
    "def label_danger_int(row):\n",
    "    match row['danger_level']:\n",
    "        case 'Baixa':\n",
    "            return 0 \n",
    "        case 'Média':\n",
    "            return 1 \n",
    "        case 'Alta':\n",
    "            return 2 \n",
    "        "
   ]
  },
  {
   "cell_type": "code",
   "execution_count": 14,
   "id": "c66e69c9",
   "metadata": {},
   "outputs": [
    {
     "data": {
      "text/plain": [
       "array(['Baixa', 'Média', 'Alta'], dtype=object)"
      ]
     },
     "execution_count": 14,
     "metadata": {},
     "output_type": "execute_result"
    }
   ],
   "source": [
    "df['ground_type_int'] = df.apply(lambda row: label_ground_int(row), axis=1)\n",
    "df['danger_level_int'] = df.apply(lambda row: label_danger_int(row), axis=1)\n",
    "df['danger_level'].unique()"
   ]
  },
  {
   "cell_type": "code",
   "execution_count": 34,
   "id": "0075fbde",
   "metadata": {},
   "outputs": [
    {
     "name": "stdout",
     "output_type": "stream",
     "text": [
      "Slope: [ 0.00299053 -0.00848685  0.00255179  0.07771949 -0.02743285]\n",
      "Intercept: 0.18338409709206502\n",
      "Root mean squared error:  0.19589203918964626\n",
      "Score  0.10155647457241934\n",
      "[0.55063275]\n"
     ]
    },
    {
     "name": "stderr",
     "output_type": "stream",
     "text": [
      "c:\\Python310\\lib\\site-packages\\sklearn\\base.py:450: UserWarning: X does not have valid feature names, but LinearRegression was fitted with feature names\n",
      "  warnings.warn(\n"
     ]
    }
   ],
   "source": [
    "regression_model = LinearRegression()\n",
    "x = df[['altitude', 'rain_hour','rain_day', 'danger_level_int', 'ground_type_int']]\n",
    "y = df['confirmado']\n",
    "regression_model.fit(x, y)\n",
    "y_predicted = regression_model.predict(x)\n",
    "\n",
    "rmse = mean_squared_error(y, y_predicted)\n",
    "r2 = r2_score(y, y_predicted)\n",
    "\n",
    "print('Slope:' ,regression_model.coef_)\n",
    "print('Intercept:', regression_model.intercept_)\n",
    "print('Root mean squared error: ', rmse)\n",
    "print('Score ', regression_model.score(x, y))\n",
    "print(regression_model.predict([[80, 0, 0, 2, 1]]))\n",
    "\n",
    "\n"
   ]
  },
  {
   "cell_type": "code",
   "execution_count": null,
   "id": "cf489e5a",
   "metadata": {},
   "outputs": [],
   "source": []
  }
 ],
 "metadata": {
  "kernelspec": {
   "display_name": "Python 3.10.4 64-bit",
   "language": "python",
   "name": "python3"
  },
  "language_info": {
   "codemirror_mode": {
    "name": "ipython",
    "version": 3
   },
   "file_extension": ".py",
   "mimetype": "text/x-python",
   "name": "python",
   "nbconvert_exporter": "python",
   "pygments_lexer": "ipython3",
   "version": "3.10.4"
  },
  "vscode": {
   "interpreter": {
    "hash": "369f2c481f4da34e4445cda3fffd2e751bd1c4d706f27375911949ba6bb62e1c"
   }
  }
 },
 "nbformat": 4,
 "nbformat_minor": 5
}
