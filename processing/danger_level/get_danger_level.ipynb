{
 "cells": [
  {
   "cell_type": "code",
   "execution_count": 6,
   "metadata": {},
   "outputs": [],
   "source": [
    "\n",
    "import geopandas\n",
    "import fiona\n",
    "import sys\n",
    "from shapely.geometry import shape, GeometryCollection, Point, MultiPolygon, Polygon, asShape\n",
    "import numpy as np\n",
    "import pandas as pd\n",
    "import shapefile as shp\n",
    "from shapely import wkt\n",
    "import ogr\n",
    "import matplotlib.pyplot as plt\n",
    "import seaborn as sns\n",
    "\n"
   ]
  },
  {
   "cell_type": "code",
   "execution_count": 7,
   "metadata": {},
   "outputs": [],
   "source": [
    "df = pd.read_csv(\"new_df.csv\")\n",
    "new_df = df.copy()"
   ]
  },
  {
   "cell_type": "code",
   "execution_count": 8,
   "metadata": {},
   "outputs": [
    {
     "data": {
      "text/plain": [
       "'Alta'"
      ]
     },
     "execution_count": 8,
     "metadata": {},
     "output_type": "execute_result"
    }
   ],
   "source": [
    "drv = ogr.GetDriverByName('ESRI Shapefile') #We will load a shape file\n",
    "ds_in = drv.Open(\"./deslizamento_de_massas/Movimento_de_Massa_A.shp\")    #Get the contents of the shape file\n",
    "lyr_in = ds_in.GetLayer(0)\n",
    "geo_ref = lyr_in.GetSpatialRef()\n",
    "point_ref=ogr.osr.SpatialReference()\n",
    "point_ref.ImportFromEPSG(4326)\n",
    "ctran=ogr.osr.CoordinateTransformation(point_ref,geo_ref)\n",
    "\n",
    "idx_reg = lyr_in.GetLayerDefn().GetFieldIndex(\"CLASSE\")\n",
    "\n",
    "def check(lon, lat):\n",
    "    #Transform incoming longitude/latitude to the shapefile's projection\n",
    "    [lon,lat,z]=ctran.TransformPoint(lon,lat)\n",
    "\n",
    "    #Create a point\n",
    "    pt = ogr.Geometry(ogr.wkbPoint)\n",
    "    pt.SetPoint_2D(0, lon, lat)\n",
    "    \n",
    "    #Set up a spatial filter such that the only features we see when we\n",
    "    #loop through \"lyr_in\" are those which overlap the point defined above\n",
    "    lyr_in.SetSpatialFilter(pt)\n",
    "\n",
    "    #Loop through the overlapped features and display the field of interest\n",
    "    for feat_in in lyr_in:\n",
    "        return feat_in.GetFieldAsString(idx_reg)\n",
    "\n",
    "\n",
    "check(float( -8.056563), float(-35.003045))\n"
   ]
  },
  {
   "cell_type": "code",
   "execution_count": 9,
   "metadata": {},
   "outputs": [
    {
     "name": "stdout",
     "output_type": "stream",
     "text": [
      "<class 'pandas.core.frame.DataFrame'>\n",
      "RangeIndex: 5125 entries, 0 to 5124\n",
      "Data columns (total 18 columns):\n",
      " #   Column                  Non-Null Count  Dtype  \n",
      "---  ------                  --------------  -----  \n",
      " 0   processo_numero         5125 non-null   object \n",
      " 1   solicitacao_data        5125 non-null   object \n",
      " 2   solicitacao_hora        5125 non-null   object \n",
      " 3   solicitacao_descricao   5125 non-null   object \n",
      " 4   solicitacao_bairro      5125 non-null   object \n",
      " 5   solicitacao_localidade  5125 non-null   object \n",
      " 6   solicitacao_endereco    5125 non-null   object \n",
      " 7   processo_ocorrencia     5125 non-null   object \n",
      " 8   confirmado              5125 non-null   int64  \n",
      " 9   latitude                5125 non-null   float64\n",
      " 10  longitude               5125 non-null   float64\n",
      " 11  cond                    5125 non-null   bool   \n",
      " 12  em_recife               5125 non-null   int64  \n",
      " 13  rain_hour               4855 non-null   float64\n",
      " 14  rain_day                4850 non-null   float64\n",
      " 15  altitude                4816 non-null   float64\n",
      " 16  ground_type             5125 non-null   object \n",
      " 17  danger_level            5038 non-null   object \n",
      "dtypes: bool(1), float64(5), int64(2), object(10)\n",
      "memory usage: 685.8+ KB\n",
      "None\n"
     ]
    }
   ],
   "source": [
    "counter = 0\n",
    "is_inside = False;\n",
    "\n",
    "p = Point( -8.050038,-34.929820)\n",
    "new_df['danger_level'] =''\n",
    "for lat, lon in zip(new_df['latitude'], new_df['longitude']):\n",
    "    label = ''\n",
    "    lat = float(lat)\n",
    "    lon = float(lon)\n",
    "    point = Point(lon, lat)\n",
    "\n",
    "    label = check(lat, lon)\n",
    "    \n",
    "    new_df.at[counter, 'danger_level'] = label\n",
    "    counter+=1\n",
    "\n",
    "\n",
    "print(new_df.info())"
   ]
  },
  {
   "cell_type": "code",
   "execution_count": 10,
   "metadata": {},
   "outputs": [],
   "source": [
    "new_df.to_csv(r'C:\\Users\\parae\\Documents\\barreiras\\barreiras\\processing\\flooding\\danger_level.csv',\n",
    "            index=False, header=True)\n",
    "\n"
   ]
  },
  {
   "cell_type": "code",
   "execution_count": null,
   "metadata": {},
   "outputs": [],
   "source": []
  }
 ],
 "metadata": {
  "kernelspec": {
   "display_name": "Python 3.9.12 ('TEST')",
   "language": "python",
   "name": "python3"
  },
  "language_info": {
   "codemirror_mode": {
    "name": "ipython",
    "version": 3
   },
   "file_extension": ".py",
   "mimetype": "text/x-python",
   "name": "python",
   "nbconvert_exporter": "python",
   "pygments_lexer": "ipython3",
   "version": "3.9.12"
  },
  "vscode": {
   "interpreter": {
    "hash": "1afb6d4dafa0b819cdc74d2f29bc1929df502a84d8d599ed0bc0491511eeaa8a"
   }
  }
 },
 "nbformat": 4,
 "nbformat_minor": 2
}
