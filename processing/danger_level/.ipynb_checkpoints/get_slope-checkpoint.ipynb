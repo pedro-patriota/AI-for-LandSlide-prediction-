{
 "cells": [
  {
   "cell_type": "code",
   "execution_count": 2,
   "metadata": {},
   "outputs": [],
   "source": [
    "from shapely.geometry import shape, GeometryCollection, Point, MultiPolygon, Polygon\n",
    "import numpy as np\n",
    "import pandas as pd\n",
    "import shapefile as shp\n",
    "import matplotlib.pyplot as plt\n",
    "import seaborn as sns\n",
    "import geopandas\n"
   ]
  },
  {
   "cell_type": "code",
   "execution_count": 3,
   "metadata": {},
   "outputs": [],
   "source": [
    "sns.set(style=\"whitegrid\", palette=\"pastel\", color_codes=True)\n",
    "sns.mpl.rc(\"figure\", figsize=(10,6))"
   ]
  },
  {
   "cell_type": "code",
   "execution_count": 6,
   "metadata": {},
   "outputs": [
    {
     "ename": "UnicodeDecodeError",
     "evalue": "'utf-8' codec can't decode byte 0xcd in position 5: invalid continuation byte",
     "output_type": "error",
     "traceback": [
      "\u001b[1;31m---------------------------------------------------------------------------\u001b[0m",
      "\u001b[1;31mUnicodeDecodeError\u001b[0m                        Traceback (most recent call last)",
      "\u001b[1;32mc:\\Users\\parae\\Documents\\barreiras_prev\\processing\\slope\\get_slope.ipynb Célula: 3\u001b[0m in \u001b[0;36m<cell line: 2>\u001b[1;34m()\u001b[0m\n\u001b[0;32m      <a href='vscode-notebook-cell:/c%3A/Users/parae/Documents/barreiras_prev/processing/slope/get_slope.ipynb#W2sZmlsZQ%3D%3D?line=0'>1</a>\u001b[0m shp_path \u001b[39m=\u001b[39m \u001b[39m\"\u001b[39m\u001b[39m./deslizamento_de_massas//Movimento_de_Massa_A.shp\u001b[39m\u001b[39m\"\u001b[39m\n\u001b[1;32m----> <a href='vscode-notebook-cell:/c%3A/Users/parae/Documents/barreiras_prev/processing/slope/get_slope.ipynb#W2sZmlsZQ%3D%3D?line=1'>2</a>\u001b[0m sf \u001b[39m=\u001b[39m shp\u001b[39m.\u001b[39;49mReader(shp_path)\n",
      "File \u001b[1;32mc:\\Python310\\lib\\site-packages\\shapefile.py:1048\u001b[0m, in \u001b[0;36mReader.__init__\u001b[1;34m(self, *args, **kwargs)\u001b[0m\n\u001b[0;32m   1043\u001b[0m                 \u001b[39mraise\u001b[39;00m ShapefileException(\u001b[39m\"\u001b[39m\u001b[39mNo shp or dbf file found at url: \u001b[39m\u001b[39m%s\u001b[39;00m\u001b[39m\"\u001b[39m \u001b[39m%\u001b[39m path)\n\u001b[0;32m   1045\u001b[0m         \u001b[39melse\u001b[39;00m:\n\u001b[0;32m   1046\u001b[0m             \u001b[39m# Local file path to a shapefile\u001b[39;00m\n\u001b[0;32m   1047\u001b[0m             \u001b[39m# Load and exit early\u001b[39;00m\n\u001b[1;32m-> 1048\u001b[0m             \u001b[39mself\u001b[39;49m\u001b[39m.\u001b[39;49mload(path)\n\u001b[0;32m   1049\u001b[0m             \u001b[39mreturn\u001b[39;00m\n\u001b[0;32m   1051\u001b[0m \u001b[39m# Otherwise, load from separate shp/shx/dbf args (must be path or file-like)\u001b[39;00m\n",
      "File \u001b[1;32mc:\\Python310\\lib\\site-packages\\shapefile.py:1197\u001b[0m, in \u001b[0;36mReader.load\u001b[1;34m(self, shapefile)\u001b[0m\n\u001b[0;32m   1195\u001b[0m     \u001b[39mself\u001b[39m\u001b[39m.\u001b[39m__shpHeader()\n\u001b[0;32m   1196\u001b[0m \u001b[39mif\u001b[39;00m \u001b[39mself\u001b[39m\u001b[39m.\u001b[39mdbf:\n\u001b[1;32m-> 1197\u001b[0m     \u001b[39mself\u001b[39;49m\u001b[39m.\u001b[39;49m__dbfHeader()\n\u001b[0;32m   1198\u001b[0m \u001b[39mif\u001b[39;00m \u001b[39mself\u001b[39m\u001b[39m.\u001b[39mshx:\n\u001b[0;32m   1199\u001b[0m     \u001b[39mself\u001b[39m\u001b[39m.\u001b[39m__shxHeader()\n",
      "File \u001b[1;32mc:\\Python310\\lib\\site-packages\\shapefile.py:1526\u001b[0m, in \u001b[0;36mReader.__dbfHeader\u001b[1;34m(self)\u001b[0m\n\u001b[0;32m   1524\u001b[0m     idx \u001b[39m=\u001b[39m \u001b[39mlen\u001b[39m(fieldDesc[name]) \u001b[39m-\u001b[39m \u001b[39m1\u001b[39m\n\u001b[0;32m   1525\u001b[0m fieldDesc[name] \u001b[39m=\u001b[39m fieldDesc[name][:idx]\n\u001b[1;32m-> 1526\u001b[0m fieldDesc[name] \u001b[39m=\u001b[39m u(fieldDesc[name], \u001b[39mself\u001b[39;49m\u001b[39m.\u001b[39;49mencoding, \u001b[39mself\u001b[39;49m\u001b[39m.\u001b[39;49mencodingErrors)\n\u001b[0;32m   1527\u001b[0m fieldDesc[name] \u001b[39m=\u001b[39m fieldDesc[name]\u001b[39m.\u001b[39mlstrip()\n\u001b[0;32m   1528\u001b[0m fieldDesc[\u001b[39m1\u001b[39m] \u001b[39m=\u001b[39m u(fieldDesc[\u001b[39m1\u001b[39m], \u001b[39m'\u001b[39m\u001b[39mascii\u001b[39m\u001b[39m'\u001b[39m)\n",
      "File \u001b[1;32mc:\\Python310\\lib\\site-packages\\shapefile.py:120\u001b[0m, in \u001b[0;36mu\u001b[1;34m(v, encoding, encodingErrors)\u001b[0m\n\u001b[0;32m    117\u001b[0m \u001b[39mdef\u001b[39;00m \u001b[39mu\u001b[39m(v, encoding\u001b[39m=\u001b[39m\u001b[39m'\u001b[39m\u001b[39mutf-8\u001b[39m\u001b[39m'\u001b[39m, encodingErrors\u001b[39m=\u001b[39m\u001b[39m'\u001b[39m\u001b[39mstrict\u001b[39m\u001b[39m'\u001b[39m):\n\u001b[0;32m    118\u001b[0m     \u001b[39mif\u001b[39;00m \u001b[39misinstance\u001b[39m(v, \u001b[39mbytes\u001b[39m):\n\u001b[0;32m    119\u001b[0m         \u001b[39m# For python 3 decode bytes to str.\u001b[39;00m\n\u001b[1;32m--> 120\u001b[0m         \u001b[39mreturn\u001b[39;00m v\u001b[39m.\u001b[39;49mdecode(encoding, encodingErrors)\n\u001b[0;32m    121\u001b[0m     \u001b[39melif\u001b[39;00m \u001b[39misinstance\u001b[39m(v, \u001b[39mstr\u001b[39m):\n\u001b[0;32m    122\u001b[0m         \u001b[39m# Already str.\u001b[39;00m\n\u001b[0;32m    123\u001b[0m         \u001b[39mreturn\u001b[39;00m v\n",
      "\u001b[1;31mUnicodeDecodeError\u001b[0m: 'utf-8' codec can't decode byte 0xcd in position 5: invalid continuation byte"
     ]
    }
   ],
   "source": [
    "shp_path = \"./deslizamento_de_massas//Movimento_de_Massa_A.shp\"\n",
    "sf = shp.Reader(shp_path)\n",
    "\n",
    "\n"
   ]
  },
  {
   "cell_type": "code",
   "execution_count": 8,
   "metadata": {},
   "outputs": [],
   "source": [
    "def read_shapefile(sf):\n",
    "    \"\"\"\n",
    "    Read a shapefile into a Pandas dataframe with a 'coords' \n",
    "    column holding the geometry information. This uses the pyshp\n",
    "    package\n",
    "    \"\"\"\n",
    "    fields = [x[0] for x in sf.fields][1:]\n",
    "    records = sf.records()\n",
    "    shps = [s.points for s in sf.shapes()]\n",
    "    df = pd.DataFrame(columns=fields, data=records)\n",
    "    df = df.assign(coords=shps)\n",
    "    return df"
   ]
  },
  {
   "cell_type": "code",
   "execution_count": 9,
   "metadata": {},
   "outputs": [
    {
     "ename": "ShapefileException",
     "evalue": "Shapefile Reader requires a shapefile or file-like object. (no dbf file found)",
     "output_type": "error",
     "traceback": [
      "\u001b[1;31m---------------------------------------------------------------------------\u001b[0m",
      "\u001b[1;31mShapefileException\u001b[0m                        Traceback (most recent call last)",
      "\u001b[1;32mc:\\Users\\parae\\Documents\\barreiras_prev\\processing\\slope\\get_slope.ipynb Célula: 5\u001b[0m in \u001b[0;36m<cell line: 1>\u001b[1;34m()\u001b[0m\n\u001b[1;32m----> <a href='vscode-notebook-cell:/c%3A/Users/parae/Documents/barreiras_prev/processing/slope/get_slope.ipynb#W4sZmlsZQ%3D%3D?line=0'>1</a>\u001b[0m df \u001b[39m=\u001b[39m read_shapefile(sf)\n",
      "\u001b[1;32mc:\\Users\\parae\\Documents\\barreiras_prev\\processing\\slope\\get_slope.ipynb Célula: 5\u001b[0m in \u001b[0;36mread_shapefile\u001b[1;34m(sf)\u001b[0m\n\u001b[0;32m      <a href='vscode-notebook-cell:/c%3A/Users/parae/Documents/barreiras_prev/processing/slope/get_slope.ipynb#W4sZmlsZQ%3D%3D?line=1'>2</a>\u001b[0m \u001b[39m\"\"\"\u001b[39;00m\n\u001b[0;32m      <a href='vscode-notebook-cell:/c%3A/Users/parae/Documents/barreiras_prev/processing/slope/get_slope.ipynb#W4sZmlsZQ%3D%3D?line=2'>3</a>\u001b[0m \u001b[39mRead a shapefile into a Pandas dataframe with a 'coords' \u001b[39;00m\n\u001b[0;32m      <a href='vscode-notebook-cell:/c%3A/Users/parae/Documents/barreiras_prev/processing/slope/get_slope.ipynb#W4sZmlsZQ%3D%3D?line=3'>4</a>\u001b[0m \u001b[39mcolumn holding the geometry information. This uses the pyshp\u001b[39;00m\n\u001b[0;32m      <a href='vscode-notebook-cell:/c%3A/Users/parae/Documents/barreiras_prev/processing/slope/get_slope.ipynb#W4sZmlsZQ%3D%3D?line=4'>5</a>\u001b[0m \u001b[39mpackage\u001b[39;00m\n\u001b[0;32m      <a href='vscode-notebook-cell:/c%3A/Users/parae/Documents/barreiras_prev/processing/slope/get_slope.ipynb#W4sZmlsZQ%3D%3D?line=5'>6</a>\u001b[0m \u001b[39m\"\"\"\u001b[39;00m\n\u001b[0;32m      <a href='vscode-notebook-cell:/c%3A/Users/parae/Documents/barreiras_prev/processing/slope/get_slope.ipynb#W4sZmlsZQ%3D%3D?line=6'>7</a>\u001b[0m fields \u001b[39m=\u001b[39m [x[\u001b[39m0\u001b[39m] \u001b[39mfor\u001b[39;00m x \u001b[39min\u001b[39;00m sf\u001b[39m.\u001b[39mfields][\u001b[39m1\u001b[39m:]\n\u001b[1;32m----> <a href='vscode-notebook-cell:/c%3A/Users/parae/Documents/barreiras_prev/processing/slope/get_slope.ipynb#W4sZmlsZQ%3D%3D?line=7'>8</a>\u001b[0m records \u001b[39m=\u001b[39m sf\u001b[39m.\u001b[39;49mrecords()\n\u001b[0;32m      <a href='vscode-notebook-cell:/c%3A/Users/parae/Documents/barreiras_prev/processing/slope/get_slope.ipynb#W4sZmlsZQ%3D%3D?line=8'>9</a>\u001b[0m shps \u001b[39m=\u001b[39m [s\u001b[39m.\u001b[39mpoints \u001b[39mfor\u001b[39;00m s \u001b[39min\u001b[39;00m sf\u001b[39m.\u001b[39mshapes()]\n\u001b[0;32m     <a href='vscode-notebook-cell:/c%3A/Users/parae/Documents/barreiras_prev/processing/slope/get_slope.ipynb#W4sZmlsZQ%3D%3D?line=9'>10</a>\u001b[0m df \u001b[39m=\u001b[39m pd\u001b[39m.\u001b[39mDataFrame(columns\u001b[39m=\u001b[39mfields, data\u001b[39m=\u001b[39mrecords)\n",
      "File \u001b[1;32mc:\\Python310\\lib\\site-packages\\shapefile.py:1710\u001b[0m, in \u001b[0;36mReader.records\u001b[1;34m(self, fields)\u001b[0m\n\u001b[0;32m   1705\u001b[0m \u001b[39m\"\"\"Returns all records in a dbf file. \u001b[39;00m\n\u001b[0;32m   1706\u001b[0m \u001b[39mTo only read some of the fields, specify the 'fields' arg as a\u001b[39;00m\n\u001b[0;32m   1707\u001b[0m \u001b[39mlist of one or more fieldnames.\u001b[39;00m\n\u001b[0;32m   1708\u001b[0m \u001b[39m\"\"\"\u001b[39;00m\n\u001b[0;32m   1709\u001b[0m \u001b[39mif\u001b[39;00m \u001b[39mself\u001b[39m\u001b[39m.\u001b[39mnumRecords \u001b[39mis\u001b[39;00m \u001b[39mNone\u001b[39;00m:\n\u001b[1;32m-> 1710\u001b[0m     \u001b[39mself\u001b[39;49m\u001b[39m.\u001b[39;49m__dbfHeader()\n\u001b[0;32m   1711\u001b[0m records \u001b[39m=\u001b[39m []\n\u001b[0;32m   1712\u001b[0m f \u001b[39m=\u001b[39m \u001b[39mself\u001b[39m\u001b[39m.\u001b[39m__getFileObj(\u001b[39mself\u001b[39m\u001b[39m.\u001b[39mdbf)\n",
      "File \u001b[1;32mc:\\Python310\\lib\\site-packages\\shapefile.py:1509\u001b[0m, in \u001b[0;36mReader.__dbfHeader\u001b[1;34m(self)\u001b[0m\n\u001b[0;32m   1507\u001b[0m \u001b[39m\"\"\"Reads a dbf header. Xbase-related code borrows heavily from ActiveState Python Cookbook Recipe 362715 by Raymond Hettinger\"\"\"\u001b[39;00m\n\u001b[0;32m   1508\u001b[0m \u001b[39mif\u001b[39;00m \u001b[39mnot\u001b[39;00m \u001b[39mself\u001b[39m\u001b[39m.\u001b[39mdbf:\n\u001b[1;32m-> 1509\u001b[0m     \u001b[39mraise\u001b[39;00m ShapefileException(\u001b[39m\"\u001b[39m\u001b[39mShapefile Reader requires a shapefile or file-like object. (no dbf file found)\u001b[39m\u001b[39m\"\u001b[39m)\n\u001b[0;32m   1510\u001b[0m dbf \u001b[39m=\u001b[39m \u001b[39mself\u001b[39m\u001b[39m.\u001b[39mdbf\n\u001b[0;32m   1511\u001b[0m \u001b[39m# read relevant header parts\u001b[39;00m\n",
      "\u001b[1;31mShapefileException\u001b[0m: Shapefile Reader requires a shapefile or file-like object. (no dbf file found)"
     ]
    }
   ],
   "source": [
    "df = read_shapefile(sf)\n",
    "\n"
   ]
  }
 ],
 "metadata": {
  "kernelspec": {
   "display_name": "Python 3 (ipykernel)",
   "language": "python",
   "name": "python3"
  },
  "language_info": {
   "codemirror_mode": {
    "name": "ipython",
    "version": 3
   },
   "file_extension": ".py",
   "mimetype": "text/x-python",
   "name": "python",
   "nbconvert_exporter": "python",
   "pygments_lexer": "ipython3",
   "version": "3.9.12"
  },
  "vscode": {
   "interpreter": {
    "hash": "78cae2b5762c7c686acf4b65ec0c52d6e889a7336f17ce1e5ea218dbcbe7dbe1"
   }
  }
 },
 "nbformat": 4,
 "nbformat_minor": 2
}
