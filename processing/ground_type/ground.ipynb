{
 "cells": [
  {
   "cell_type": "code",
   "execution_count": 1,
   "metadata": {},
   "outputs": [],
   "source": [
    "from shapely.geometry import shape, GeometryCollection, Point, MultiPolygon, Polygon\n",
    "from shapely import wkt\n",
    "import shapefile\n",
    "import requests\n",
    "import pandas as pd\n",
    "import json\n",
    "import shapefile\n",
    "import ogr\n",
    "\n",
    "\n"
   ]
  },
  {
   "cell_type": "code",
   "execution_count": 2,
   "metadata": {},
   "outputs": [],
   "source": [
    "# Dados gerais de recife, nao tao especificos\n",
    "\n",
    "df = pd.read_csv(\"mapa_exploratorio_solos_pernambuco_wgs84.csv\")\n",
    "\"\"\" df = df.loc[df['FID'] == \"mapa_exploratorio_solos_pernambuco_wgs84.17\"]\n",
    "\"\"\"\n",
    "new_df = pd.read_csv(\"rain_elevation.csv\")\n",
    "\"\"\" ground_type = ground_type.loc[ground_type[\"processo_numero\"] == \"8009155322\"] \"\"\"\n",
    "\n",
    "df['the_geom'] = df['the_geom'].apply(wkt.loads)\n"
   ]
  },
  {
   "cell_type": "code",
   "execution_count": 3,
   "metadata": {},
   "outputs": [
    {
     "data": {
      "text/plain": [
       "' df = pd.read_csv(\"solos_pe.csv\")\\n\\n\\nnew_df = pd.read_csv(\"rain_elevation.csv\")\\nfor id, geom in enumerate(df[\\'the_geom\\']):\\n    try:\\n        df.at[id, \\'the_geom\\'] = wkt.loads(geom)\\n        \\n    except:\\n        df.drop(id, inplace=True)\\n\\nprint(df.info()) '"
      ]
     },
     "execution_count": 3,
     "metadata": {},
     "output_type": "execute_result"
    }
   ],
   "source": [
    "# Tentei pegar mais dados, contudo nao existe dados sobre o solo de recife\n",
    "\n",
    "\"\"\" df = pd.read_csv(\"solos_pe.csv\")\n",
    "\n",
    "\n",
    "new_df = pd.read_csv(\"rain_elevation.csv\")\n",
    "for id, geom in enumerate(df['the_geom']):\n",
    "    try:\n",
    "        df.at[id, 'the_geom'] = wkt.loads(geom)\n",
    "        \n",
    "    except:\n",
    "        df.drop(id, inplace=True)\n",
    "\n",
    "print(df.info()) \"\"\""
   ]
  },
  {
   "cell_type": "code",
   "execution_count": 4,
   "metadata": {},
   "outputs": [
    {
     "name": "stdout",
     "output_type": "stream",
     "text": [
      "<class 'pandas.core.frame.DataFrame'>\n",
      "RangeIndex: 2937 entries, 0 to 2936\n",
      "Data columns (total 17 columns):\n",
      " #   Column                  Non-Null Count  Dtype  \n",
      "---  ------                  --------------  -----  \n",
      " 0   processo_numero         2937 non-null   object \n",
      " 1   solicitacao_data        2937 non-null   object \n",
      " 2   solicitacao_hora        2937 non-null   object \n",
      " 3   solicitacao_descricao   2937 non-null   object \n",
      " 4   solicitacao_bairro      2937 non-null   object \n",
      " 5   solicitacao_localidade  2937 non-null   object \n",
      " 6   solicitacao_endereco    2937 non-null   object \n",
      " 7   processo_ocorrencia     2937 non-null   object \n",
      " 8   confirmado              2937 non-null   int64  \n",
      " 9   latitude                2937 non-null   float64\n",
      " 10  longitude               2937 non-null   float64\n",
      " 11  cond                    2937 non-null   bool   \n",
      " 12  em_recife               2937 non-null   int64  \n",
      " 13  rain_hour               2802 non-null   float64\n",
      " 14  rain_day                2800 non-null   float64\n",
      " 15  altitude                2707 non-null   float64\n",
      " 16  ground_type             2937 non-null   object \n",
      "dtypes: bool(1), float64(5), int64(2), object(9)\n",
      "memory usage: 370.1+ KB\n",
      "None\n"
     ]
    }
   ],
   "source": [
    "counter = 0\n",
    "is_inside = False;\n",
    "new_df['ground_type'] =''\n",
    "for lat, lon in zip(new_df['latitude'], new_df['longitude']):\n",
    "    label = ''\n",
    "    lat = float(lat)\n",
    "    lon = float(lon)\n",
    "    point = Point(lon, lat)\n",
    "\n",
    "    for multipolygon, type in zip(df['the_geom'], df['Legenda'] ):\n",
    "        poly = MultiPolygon(multipolygon)\n",
    "        is_inside = point.within(poly)\n",
    "        if (is_inside == True):\n",
    "            label = type\n",
    "            break\n",
    "    \n",
    "    new_df.at[counter, 'ground_type'] = label\n",
    "    counter+=1\n",
    "\n",
    "print(new_df.info())\n"
   ]
  },
  {
   "cell_type": "code",
   "execution_count": 5,
   "metadata": {},
   "outputs": [],
   "source": [
    "new_df.to_csv(r'C:\\Users\\parae\\Documents\\barreiras\\barreiras\\processing\\danger_level\\new_df.csv',\n",
    "            index=False, header=True)"
   ]
  }
 ],
 "metadata": {
  "kernelspec": {
   "display_name": "Python 3.10.4 64-bit",
   "language": "python",
   "name": "python3"
  },
  "language_info": {
   "codemirror_mode": {
    "name": "ipython",
    "version": 3
   },
   "file_extension": ".py",
   "mimetype": "text/x-python",
   "name": "python",
   "nbconvert_exporter": "python",
   "pygments_lexer": "ipython3",
   "version": "3.10.4"
  },
  "orig_nbformat": 4,
  "vscode": {
   "interpreter": {
    "hash": "369f2c481f4da34e4445cda3fffd2e751bd1c4d706f27375911949ba6bb62e1c"
   }
  }
 },
 "nbformat": 4,
 "nbformat_minor": 2
}
