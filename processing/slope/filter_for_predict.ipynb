{
 "cells": [
  {
   "cell_type": "code",
   "execution_count": 2,
   "metadata": {},
   "outputs": [
    {
     "name": "stderr",
     "output_type": "stream",
     "text": [
      "c:\\Users\\parae\\anaconda3\\envs\\TEST\\lib\\site-packages\\scipy\\__init__.py:146: UserWarning: A NumPy version >=1.16.5 and <1.23.0 is required for this version of SciPy (detected version 1.23.1\n",
      "  warnings.warn(f\"A NumPy version >={np_minversion} and <{np_maxversion}\"\n"
     ]
    }
   ],
   "source": [
    "\n",
    "import geopandas\n",
    "import fiona\n",
    "import sys\n",
    "from shapely.geometry import shape, GeometryCollection, Point, MultiPolygon, Polygon, asShape\n",
    "import numpy as np\n",
    "from sklearn.preprocessing import LabelEncoder\n",
    "import pandas as pd\n",
    "import shapefile as shp\n",
    "from shapely import wkt\n",
    "import matplotlib.pyplot as plt\n",
    "import seaborn as sns\n",
    "\n"
   ]
  },
  {
   "cell_type": "code",
   "execution_count": 3,
   "metadata": {},
   "outputs": [
    {
     "data": {
      "text/plain": [
       "'\\ncase \"Imoveis com Danos/Risco\":\\n            return \"Deslizamento_ImoveisEmRisco\"\\n        case \"Deslizamentos de Barreiras\":\\n            return \"Deslizamento_ImoveisEmRisco\"\\n'"
      ]
     },
     "execution_count": 3,
     "metadata": {},
     "output_type": "execute_result"
    }
   ],
   "source": [
    "\n",
    "column = [\"ground_amplitude\", \"flooding_risk\", \"danger_level\", \"ground_type\", \"altitude\"\n",
    ", \"rain_day\", \"rain_hour\", \"longitude\", \"latitude\", \"processo_ocorrencia\", \"confirmado\", \"solicitacao_bairro\", \n",
    "\"solicitacao_descricao\"]\n",
    "df = pd.read_csv(\"ground_amplitude.csv\", usecols=column)\n",
    "\n",
    "\n",
    "def junction(row):\n",
    "    if ((row['processo_ocorrencia'] == \"Imoveis com Danos/Risco\"  and (\"barreira\" in row['solicitacao_descricao'].lower()))\n",
    "     or row['processo_ocorrencia'] == \"Deslizamentos de Barreiras\"\n",
    "    ):\n",
    "        return 1 #\"ImoveisDanosRiscos_Deslizamentos\"\n",
    "\n",
    "    else:\n",
    "        return  0#row['processo_ocorrencia']\n",
    "\n",
    "\"\"\"\n",
    "case \"Imoveis com Danos/Risco\":\n",
    "            return \"Deslizamento_ImoveisEmRisco\"\n",
    "        case \"Deslizamentos de Barreiras\":\n",
    "            return \"Deslizamento_ImoveisEmRisco\"\n",
    "\"\"\"\n"
   ]
  },
  {
   "cell_type": "code",
   "execution_count": 4,
   "metadata": {},
   "outputs": [
    {
     "data": {
      "text/plain": [
       "0     0\n",
       "1     0\n",
       "2     0\n",
       "3     1\n",
       "4     0\n",
       "5     0\n",
       "6     0\n",
       "7     0\n",
       "8     0\n",
       "9     1\n",
       "10    0\n",
       "11    0\n",
       "12    0\n",
       "13    1\n",
       "14    0\n",
       "15    1\n",
       "16    0\n",
       "17    0\n",
       "18    1\n",
       "19    0\n",
       "Name: filtered_ocorrencia, dtype: int64"
      ]
     },
     "execution_count": 4,
     "metadata": {},
     "output_type": "execute_result"
    }
   ],
   "source": [
    "df['filtered_ocorrencia'] = df.apply(lambda row: junction(row), axis=1)\n",
    "\n",
    "df['filtered_ocorrencia'].head(20)\n"
   ]
  },
  {
   "cell_type": "code",
   "execution_count": 5,
   "metadata": {},
   "outputs": [
    {
     "name": "stdout",
     "output_type": "stream",
     "text": [
      "<class 'pandas.core.frame.DataFrame'>\n",
      "RangeIndex: 5125 entries, 0 to 5124\n",
      "Data columns (total 13 columns):\n",
      " #   Column               Non-Null Count  Dtype  \n",
      "---  ------               --------------  -----  \n",
      " 0   solicitacao_bairro   5125 non-null   object \n",
      " 1   processo_ocorrencia  5125 non-null   object \n",
      " 2   confirmado           5125 non-null   int64  \n",
      " 3   latitude             5125 non-null   float64\n",
      " 4   longitude            5125 non-null   float64\n",
      " 5   rain_hour            4855 non-null   float64\n",
      " 6   rain_day             4850 non-null   float64\n",
      " 7   altitude             4816 non-null   float64\n",
      " 8   ground_type          5125 non-null   object \n",
      " 9   danger_level         5038 non-null   object \n",
      " 10  flooding_risk        5125 non-null   object \n",
      " 11  ground_amplitude     5038 non-null   object \n",
      " 12  filtered_ocorrencia  5125 non-null   int64  \n",
      "dtypes: float64(5), int64(2), object(6)\n",
      "memory usage: 520.6+ KB\n"
     ]
    }
   ],
   "source": [
    "#df = df.dropna()\n",
    "#df.drop_duplicates()\n",
    "df.pop(\"solicitacao_descricao\")\n",
    "\n",
    "\n",
    "df.info()\n"
   ]
  },
  {
   "cell_type": "code",
   "execution_count": 13,
   "metadata": {},
   "outputs": [
    {
     "name": "stdout",
     "output_type": "stream",
     "text": [
      "solicitacao_bairro     48.619638\n",
      "processo_ocorrencia     6.633460\n",
      "confirmado              0.788847\n",
      "latitude               -8.038721\n",
      "longitude             -34.932590\n",
      "rain_hour               1.724899\n",
      "rain_day               30.768511\n",
      "altitude               45.338801\n",
      "ground_type             4.000000\n",
      "danger_level            1.551954\n",
      "flooding_risk           2.863203\n",
      "ground_amplitude        2.843184\n",
      "filtered_ocorrencia     1.000000\n",
      "dtype: float64\n"
     ]
    },
    {
     "data": {
      "text/plain": [
       "solicitacao_bairro     43.044268\n",
       "processo_ocorrencia     7.160225\n",
       "confirmado              0.000000\n",
       "latitude               -8.052807\n",
       "longitude             -34.924548\n",
       "rain_hour               0.983641\n",
       "rain_day               15.227079\n",
       "altitude               30.069808\n",
       "ground_type             4.011563\n",
       "danger_level            1.359432\n",
       "flooding_risk           1.905517\n",
       "ground_amplitude        1.814998\n",
       "filtered_ocorrencia     0.000000\n",
       "dtype: float64"
      ]
     },
     "execution_count": 13,
     "metadata": {},
     "output_type": "execute_result"
    }
   ],
   "source": [
    "le = LabelEncoder()\n",
    "\n",
    "proc_ocorr = le.fit_transform(df['processo_ocorrencia'])\n",
    "gro_type = le.fit_transform(df['ground_type'])\n",
    "dan_level = le.fit_transform(df['danger_level'])\n",
    "flo_risk = le.fit_transform(df['flooding_risk'])\n",
    "gro_ampl = le.fit_transform(df['ground_amplitude'])\n",
    "filt_ocorr = le.fit_transform(df['filtered_ocorrencia'])\n",
    "soli_bair = le.fit_transform(df['solicitacao_bairro'])\n",
    "\n",
    "df['processo_ocorrencia'] = proc_ocorr\n",
    "df['ground_type'] = gro_type\n",
    "df['danger_level'] = dan_level\n",
    "df['flooding_risk'] = flo_risk\n",
    "df['ground_amplitude'] = gro_ampl\n",
    "df['filtered_ocorrencia'] = filt_ocorr\n",
    "df['solicitacao_bairro'] = soli_bair\n",
    "df.corr()\n",
    "\n",
    "\n",
    "print(df[df.filtered_ocorrencia == 1].mean())\n",
    "df[df.filtered_ocorrencia == 0].mean()"
   ]
  },
  {
   "cell_type": "code",
   "execution_count": 7,
   "metadata": {},
   "outputs": [],
   "source": [
    "df.to_csv(r'C:\\Users\\parae\\Documents\\barreiras\\barreiras\\processing\\slope\\df.csv',\n",
    "            index=False, header=True)"
   ]
  }
 ],
 "metadata": {
  "kernelspec": {
   "display_name": "Python 3.9.12 ('TEST')",
   "language": "python",
   "name": "python3"
  },
  "language_info": {
   "codemirror_mode": {
    "name": "ipython",
    "version": 3
   },
   "file_extension": ".py",
   "mimetype": "text/x-python",
   "name": "python",
   "nbconvert_exporter": "python",
   "pygments_lexer": "ipython3",
   "version": "3.9.12"
  },
  "orig_nbformat": 4,
  "vscode": {
   "interpreter": {
    "hash": "1afb6d4dafa0b819cdc74d2f29bc1929df502a84d8d599ed0bc0491511eeaa8a"
   }
  }
 },
 "nbformat": 4,
 "nbformat_minor": 2
}
