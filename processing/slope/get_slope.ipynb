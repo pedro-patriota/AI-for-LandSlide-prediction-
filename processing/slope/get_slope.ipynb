{
 "cells": [
  {
   "cell_type": "code",
   "execution_count": 5,
   "metadata": {},
   "outputs": [],
   "source": [
    "\n",
    "import geopandas\n",
    "import fiona\n",
    "import sys\n",
    "from shapely.geometry import shape, GeometryCollection, Point, MultiPolygon, Polygon, asShape\n",
    "import numpy as np\n",
    "import pandas as pd\n",
    "import shapefile as shp\n",
    "from shapely import wkt\n",
    "import matplotlib.pyplot as plt\n",
    "import seaborn as sns\n",
    "\n"
   ]
  },
  {
   "cell_type": "code",
   "execution_count": 6,
   "metadata": {},
   "outputs": [
    {
     "data": {
      "text/plain": [
       "'\\ncase \"Imoveis com Danos/Risco\":\\n            return \"Deslizamento_ImoveisEmRisco\"\\n        case \"Deslizamentos de Barreiras\":\\n            return \"Deslizamento_ImoveisEmRisco\"\\n'"
      ]
     },
     "execution_count": 6,
     "metadata": {},
     "output_type": "execute_result"
    }
   ],
   "source": [
    "\n",
    "df = pd.read_csv(\"ground_amplitude.csv\")\n",
    "\n",
    "def junction(row):\n",
    "    if (row['processo_ocorrencia'] != \"Imoveis com Danos/Risco\" and row['processo_ocorrencia'] != \"Deslizamentos de Barreiras\"):\n",
    "        return \"Not_ImoveisDanosRiscos_Deslizamentos\"\n",
    "\n",
    "    else:\n",
    "        return row['processo_ocorrencia']\n",
    "\n",
    "\"\"\"\n",
    "case \"Imoveis com Danos/Risco\":\n",
    "            return \"Deslizamento_ImoveisEmRisco\"\n",
    "        case \"Deslizamentos de Barreiras\":\n",
    "            return \"Deslizamento_ImoveisEmRisco\"\n",
    "\"\"\"\n"
   ]
  },
  {
   "cell_type": "code",
   "execution_count": 7,
   "metadata": {},
   "outputs": [
    {
     "name": "stdout",
     "output_type": "stream",
     "text": [
      "<class 'pandas.core.frame.DataFrame'>\n",
      "RangeIndex: 5125 entries, 0 to 5124\n",
      "Data columns (total 21 columns):\n",
      " #   Column                  Non-Null Count  Dtype  \n",
      "---  ------                  --------------  -----  \n",
      " 0   processo_numero         5125 non-null   object \n",
      " 1   solicitacao_data        5125 non-null   object \n",
      " 2   solicitacao_hora        5125 non-null   object \n",
      " 3   solicitacao_descricao   5125 non-null   object \n",
      " 4   solicitacao_bairro      5125 non-null   object \n",
      " 5   solicitacao_localidade  5125 non-null   object \n",
      " 6   solicitacao_endereco    5125 non-null   object \n",
      " 7   processo_ocorrencia     5125 non-null   object \n",
      " 8   confirmado              5125 non-null   int64  \n",
      " 9   latitude                5125 non-null   float64\n",
      " 10  longitude               5125 non-null   float64\n",
      " 11  cond                    5125 non-null   bool   \n",
      " 12  em_recife               5125 non-null   int64  \n",
      " 13  rain_hour               4855 non-null   float64\n",
      " 14  rain_day                4850 non-null   float64\n",
      " 15  altitude                4816 non-null   float64\n",
      " 16  ground_type             5125 non-null   object \n",
      " 17  danger_level            5038 non-null   object \n",
      " 18  flooding_risk           5125 non-null   object \n",
      " 19  ground_amplitude        5038 non-null   object \n",
      " 20  filtered_ocorrencia     5125 non-null   object \n",
      "dtypes: bool(1), float64(5), int64(2), object(13)\n",
      "memory usage: 805.9+ KB\n"
     ]
    }
   ],
   "source": [
    "df['filtered_ocorrencia'] = df.apply(lambda row: junction(row), axis=1)\n",
    "df.info()\n"
   ]
  },
  {
   "cell_type": "code",
   "execution_count": 8,
   "metadata": {},
   "outputs": [
    {
     "name": "stdout",
     "output_type": "stream",
     "text": [
      "<class 'pandas.core.frame.DataFrame'>\n",
      "RangeIndex: 5125 entries, 0 to 5124\n",
      "Data columns (total 18 columns):\n",
      " #   Column                  Non-Null Count  Dtype  \n",
      "---  ------                  --------------  -----  \n",
      " 0   processo_numero         5125 non-null   object \n",
      " 1   solicitacao_data        5125 non-null   object \n",
      " 2   solicitacao_descricao   5125 non-null   object \n",
      " 3   solicitacao_bairro      5125 non-null   object \n",
      " 4   solicitacao_localidade  5125 non-null   object \n",
      " 5   solicitacao_endereco    5125 non-null   object \n",
      " 6   processo_ocorrencia     5125 non-null   object \n",
      " 7   confirmado              5125 non-null   int64  \n",
      " 8   latitude                5125 non-null   float64\n",
      " 9   longitude               5125 non-null   float64\n",
      " 10  rain_hour               4855 non-null   float64\n",
      " 11  rain_day                4850 non-null   float64\n",
      " 12  altitude                4816 non-null   float64\n",
      " 13  ground_type             5125 non-null   object \n",
      " 14  danger_level            5038 non-null   object \n",
      " 15  flooding_risk           5125 non-null   object \n",
      " 16  ground_amplitude        5038 non-null   object \n",
      " 17  filtered_ocorrencia     5125 non-null   object \n",
      "dtypes: float64(5), int64(1), object(12)\n",
      "memory usage: 720.8+ KB\n"
     ]
    }
   ],
   "source": [
    "#df = df.dropna()\n",
    "#df.drop_duplicates()\n",
    "column = [\"cond\", \"em_recife\", \"solicitacao_hora\"]\n",
    "df.pop(\"cond\")\n",
    "df.pop(\"em_recife\")\n",
    "df.pop(\"solicitacao_hora\")\n",
    "df.info()\n",
    "df.to_csv(r'C:\\Users\\parae\\Documents\\barreiras\\barreiras\\processing\\slope\\df.csv',\n",
    "            index=False, header=True)"
   ]
  }
 ],
 "metadata": {
  "kernelspec": {
   "display_name": "Python 3.9.12 ('TEST')",
   "language": "python",
   "name": "python3"
  },
  "language_info": {
   "codemirror_mode": {
    "name": "ipython",
    "version": 3
   },
   "file_extension": ".py",
   "mimetype": "text/x-python",
   "name": "python",
   "nbconvert_exporter": "python",
   "pygments_lexer": "ipython3",
   "version": "3.9.12"
  },
  "orig_nbformat": 4,
  "vscode": {
   "interpreter": {
    "hash": "1afb6d4dafa0b819cdc74d2f29bc1929df502a84d8d599ed0bc0491511eeaa8a"
   }
  }
 },
 "nbformat": 4,
 "nbformat_minor": 2
}
