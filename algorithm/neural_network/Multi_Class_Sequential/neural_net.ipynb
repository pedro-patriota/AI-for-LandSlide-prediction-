{
 "cells": [
  {
   "cell_type": "code",
   "execution_count": 10,
   "metadata": {},
   "outputs": [],
   "source": [
    "import pandas as pd\n",
    "import numpy as np\n",
    "from sklearn.preprocessing import LabelEncoder\n",
    "from keras.wrappers.scikit_learn import KerasClassifier\n",
    "\n",
    "import keras\n",
    "from keras.callbacks import EarlyStopping\n",
    "\n",
    "from keras.utils import np_utils, to_categorical\n",
    "from keras.models import Sequential\n",
    "from keras.layers import Dense, Dropout\n",
    "\n"
   ]
  },
  {
   "cell_type": "code",
   "execution_count": 11,
   "metadata": {},
   "outputs": [
    {
     "name": "stdout",
     "output_type": "stream",
     "text": [
      "<class 'pandas.core.frame.DataFrame'>\n",
      "Int64Index: 1547 entries, 0 to 1761\n",
      "Data columns (total 20 columns):\n",
      " #   Column                  Non-Null Count  Dtype  \n",
      "---  ------                  --------------  -----  \n",
      " 0   processo_numero         1547 non-null   object \n",
      " 1   solicitacao_data        1547 non-null   object \n",
      " 2   solicitacao_hora        1547 non-null   object \n",
      " 3   solicitacao_descricao   1547 non-null   object \n",
      " 4   solicitacao_bairro      1547 non-null   object \n",
      " 5   solicitacao_localidade  1547 non-null   object \n",
      " 6   solicitacao_endereco    1547 non-null   object \n",
      " 7   processo_ocorrencia     1547 non-null   object \n",
      " 8   confirmado              1547 non-null   int64  \n",
      " 9   latitude                1547 non-null   float64\n",
      " 10  longitude               1547 non-null   float64\n",
      " 11  cond                    1547 non-null   bool   \n",
      " 12  em_recife               1547 non-null   int64  \n",
      " 13  rain_hour               1547 non-null   float64\n",
      " 14  rain_day                1547 non-null   float64\n",
      " 15  altitude                1547 non-null   float64\n",
      " 16  ground_type             1547 non-null   object \n",
      " 17  danger_level            1547 non-null   object \n",
      " 18  flooding_risk           1547 non-null   object \n",
      " 19  ground_amplitude        1547 non-null   object \n",
      "dtypes: bool(1), float64(5), int64(2), object(12)\n",
      "memory usage: 243.2+ KB\n"
     ]
    }
   ],
   "source": [
    "df = pd.read_csv(\"../ground_amplitude.csv\")\n",
    "df = df.dropna()\n",
    "df = df.drop_duplicates()\n",
    "\"\"\" df = df[df['processo_ocorrencia'] != 'Desabamento Parcial Imoveis']\n",
    "df = df[df['processo_ocorrencia'] != 'Muro com Danos']\n",
    "df = df[df['processo_ocorrencia']!= 'Imoveis com Danos/Risco'] \"\"\"\n",
    "df.info()"
   ]
  },
  {
   "cell_type": "code",
   "execution_count": 12,
   "metadata": {},
   "outputs": [],
   "source": [
    "df = df.sample(frac=1).reset_index(drop=True)"
   ]
  },
  {
   "cell_type": "code",
   "execution_count": 13,
   "metadata": {},
   "outputs": [],
   "source": [
    "y = df['confirmado']\n",
    "X = df[['altitude', 'rain_day', 'rain_hour', 'ground_type', 'danger_level', 'ground_amplitude', 'flooding_risk']]\n"
   ]
  },
  {
   "cell_type": "code",
   "execution_count": 14,
   "metadata": {},
   "outputs": [
    {
     "name": "stdout",
     "output_type": "stream",
     "text": [
      "0    0\n",
      "1    1\n",
      "2    0\n",
      "3    1\n",
      "4    0\n",
      "5    0\n",
      "6    1\n",
      "Name: confirmado, dtype: int64 1\n"
     ]
    },
    {
     "name": "stderr",
     "output_type": "stream",
     "text": [
      "C:\\Users\\parae\\AppData\\Local\\Temp\\ipykernel_6008\\4033383670.py:11: SettingWithCopyWarning: \n",
      "A value is trying to be set on a copy of a slice from a DataFrame.\n",
      "Try using .loc[row_indexer,col_indexer] = value instead\n",
      "\n",
      "See the caveats in the documentation: https://pandas.pydata.org/pandas-docs/stable/user_guide/indexing.html#returning-a-view-versus-a-copy\n",
      "  X['danger_level'] = encoder.transform(X['danger_level'])\n",
      "C:\\Users\\parae\\AppData\\Local\\Temp\\ipykernel_6008\\4033383670.py:14: SettingWithCopyWarning: \n",
      "A value is trying to be set on a copy of a slice from a DataFrame.\n",
      "Try using .loc[row_indexer,col_indexer] = value instead\n",
      "\n",
      "See the caveats in the documentation: https://pandas.pydata.org/pandas-docs/stable/user_guide/indexing.html#returning-a-view-versus-a-copy\n",
      "  X['ground_type'] = encoder.transform(X['ground_type'])\n",
      "C:\\Users\\parae\\AppData\\Local\\Temp\\ipykernel_6008\\4033383670.py:16: SettingWithCopyWarning: \n",
      "A value is trying to be set on a copy of a slice from a DataFrame.\n",
      "Try using .loc[row_indexer,col_indexer] = value instead\n",
      "\n",
      "See the caveats in the documentation: https://pandas.pydata.org/pandas-docs/stable/user_guide/indexing.html#returning-a-view-versus-a-copy\n",
      "  X['flooding_risk'] = encoder.transform(X['flooding_risk'])\n",
      "C:\\Users\\parae\\AppData\\Local\\Temp\\ipykernel_6008\\4033383670.py:18: SettingWithCopyWarning: \n",
      "A value is trying to be set on a copy of a slice from a DataFrame.\n",
      "Try using .loc[row_indexer,col_indexer] = value instead\n",
      "\n",
      "See the caveats in the documentation: https://pandas.pydata.org/pandas-docs/stable/user_guide/indexing.html#returning-a-view-versus-a-copy\n",
      "  X['ground_amplitude'] = encoder.transform(X['ground_amplitude'])\n"
     ]
    },
    {
     "data": {
      "text/plain": [
       "array([0, 1], dtype=int64)"
      ]
     },
     "execution_count": 14,
     "metadata": {},
     "output_type": "execute_result"
    }
   ],
   "source": [
    "# work with labels\n",
    "# encode class values as integers\n",
    "encoder = LabelEncoder()\n",
    "encoder.fit(y)\n",
    "encoded_y = encoder.transform(y)\n",
    "\n",
    "\n",
    "dummy_y = np_utils.to_categorical(encoded_y)\n",
    "\n",
    "encoder.fit(X['danger_level'])\n",
    "X['danger_level'] = encoder.transform(X['danger_level'])\n",
    "\n",
    "encoder.fit(X['ground_type'])\n",
    "X['ground_type'] = encoder.transform(X['ground_type'])\n",
    "encoder.fit(X['flooding_risk'])\n",
    "X['flooding_risk'] = encoder.transform(X['flooding_risk'])\n",
    "encoder.fit(X['ground_amplitude'])\n",
    "X['ground_amplitude'] = encoder.transform(X['ground_amplitude'])\n",
    "\n",
    "print(y.head(7), encoded_y[6])\n",
    "y.unique()\n",
    "\n"
   ]
  },
  {
   "cell_type": "code",
   "execution_count": 15,
   "metadata": {},
   "outputs": [
    {
     "name": "stdout",
     "output_type": "stream",
     "text": [
      "Model: \"sequential_1\"\n",
      "_________________________________________________________________\n",
      " Layer (type)                Output Shape              Param #   \n",
      "=================================================================\n",
      " dense_2 (Dense)             (None, 64)                512       \n",
      "                                                                 \n",
      " dense_3 (Dense)             (None, 2)                 130       \n",
      "                                                                 \n",
      "=================================================================\n",
      "Total params: 642\n",
      "Trainable params: 642\n",
      "Non-trainable params: 0\n",
      "_________________________________________________________________\n"
     ]
    },
    {
     "data": {
      "text/plain": [
       "7"
      ]
     },
     "execution_count": 15,
     "metadata": {},
     "output_type": "execute_result"
    }
   ],
   "source": [
    "X = np.array(X)\n",
    "\n",
    "\n",
    "model = Sequential()\n",
    "model.add(Dense(64, input_shape=(X.shape[1],), activation='relu')) # input shape is (features,)\n",
    "model.add(Dense(2, activation='softmax'))\n",
    "model.summary()\n",
    "\n",
    "model.compile(optimizer='rmsprop', \n",
    "              loss='mean_squared_error', # this is different instead of binary_crossentropy (for regular classification)\n",
    "              metrics=['accuracy'])\n",
    "\n",
    "X.shape[1]"
   ]
  },
  {
   "cell_type": "code",
   "execution_count": 16,
   "metadata": {},
   "outputs": [
    {
     "name": "stdout",
     "output_type": "stream",
     "text": [
      "Epoch 1/8000000\n",
      "55/55 [==============================] - 1s 7ms/step - loss: 0.3136 - accuracy: 0.6506 - val_loss: 0.3108 - val_accuracy: 0.6817\n",
      "Epoch 2/8000000\n",
      "55/55 [==============================] - 0s 2ms/step - loss: 0.2941 - accuracy: 0.6682 - val_loss: 0.2439 - val_accuracy: 0.6817\n",
      "Epoch 3/8000000\n",
      "55/55 [==============================] - 0s 3ms/step - loss: 0.2212 - accuracy: 0.6950 - val_loss: 0.3146 - val_accuracy: 0.5849\n",
      "Epoch 4/8000000\n",
      "55/55 [==============================] - 0s 2ms/step - loss: 0.2094 - accuracy: 0.6904 - val_loss: 0.2404 - val_accuracy: 0.6882\n",
      "Epoch 5/8000000\n",
      "55/55 [==============================] - 0s 2ms/step - loss: 0.2049 - accuracy: 0.6969 - val_loss: 0.2380 - val_accuracy: 0.6968\n",
      "Epoch 6/8000000\n",
      "55/55 [==============================] - 0s 2ms/step - loss: 0.2057 - accuracy: 0.7089 - val_loss: 0.2975 - val_accuracy: 0.6022\n",
      "Epoch 7/8000000\n",
      "55/55 [==============================] - 0s 2ms/step - loss: 0.2040 - accuracy: 0.7200 - val_loss: 0.3599 - val_accuracy: 0.5828\n",
      "Epoch 8/8000000\n",
      "55/55 [==============================] - 0s 2ms/step - loss: 0.2058 - accuracy: 0.7015 - val_loss: 0.2599 - val_accuracy: 0.6882\n",
      "Epoch 9/8000000\n",
      "55/55 [==============================] - 0s 2ms/step - loss: 0.2019 - accuracy: 0.6941 - val_loss: 0.1993 - val_accuracy: 0.6753\n",
      "Epoch 10/8000000\n",
      "55/55 [==============================] - 0s 2ms/step - loss: 0.1972 - accuracy: 0.6996 - val_loss: 0.2644 - val_accuracy: 0.6903\n",
      "Epoch 11/8000000\n",
      "55/55 [==============================] - 0s 2ms/step - loss: 0.1959 - accuracy: 0.7181 - val_loss: 0.2532 - val_accuracy: 0.6860\n",
      "Epoch 12/8000000\n",
      "55/55 [==============================] - 0s 3ms/step - loss: 0.1984 - accuracy: 0.6987 - val_loss: 0.2122 - val_accuracy: 0.7075\n",
      "Epoch 13/8000000\n",
      "55/55 [==============================] - 0s 2ms/step - loss: 0.1882 - accuracy: 0.7329 - val_loss: 0.2091 - val_accuracy: 0.6882\n",
      "Epoch 14/8000000\n",
      "55/55 [==============================] - 0s 3ms/step - loss: 0.1897 - accuracy: 0.7375 - val_loss: 0.2718 - val_accuracy: 0.5978\n",
      "Epoch 15/8000000\n",
      "55/55 [==============================] - 0s 2ms/step - loss: 0.1898 - accuracy: 0.7209 - val_loss: 0.2075 - val_accuracy: 0.6839\n",
      "Epoch 16/8000000\n",
      "55/55 [==============================] - 0s 2ms/step - loss: 0.1939 - accuracy: 0.7209 - val_loss: 0.2209 - val_accuracy: 0.6839\n",
      "Epoch 17/8000000\n",
      "55/55 [==============================] - 0s 2ms/step - loss: 0.1920 - accuracy: 0.7089 - val_loss: 0.3330 - val_accuracy: 0.5957\n",
      "Epoch 18/8000000\n",
      "55/55 [==============================] - 0s 2ms/step - loss: 0.1963 - accuracy: 0.7144 - val_loss: 0.2324 - val_accuracy: 0.6903\n",
      "Epoch 19/8000000\n",
      "55/55 [==============================] - 0s 2ms/step - loss: 0.1963 - accuracy: 0.7107 - val_loss: 0.2587 - val_accuracy: 0.6839\n",
      "Epoch 20/8000000\n",
      "55/55 [==============================] - 0s 2ms/step - loss: 0.1920 - accuracy: 0.7218 - val_loss: 0.2767 - val_accuracy: 0.6882\n",
      "Epoch 21/8000000\n",
      "55/55 [==============================] - 0s 2ms/step - loss: 0.1942 - accuracy: 0.7163 - val_loss: 0.2074 - val_accuracy: 0.7075\n",
      "Epoch 22/8000000\n",
      "55/55 [==============================] - 0s 2ms/step - loss: 0.1948 - accuracy: 0.7070 - val_loss: 0.2024 - val_accuracy: 0.6946\n",
      "Epoch 23/8000000\n",
      "55/55 [==============================] - 0s 2ms/step - loss: 0.1903 - accuracy: 0.7200 - val_loss: 0.1976 - val_accuracy: 0.6903\n",
      "Epoch 24/8000000\n",
      "55/55 [==============================] - 0s 2ms/step - loss: 0.1883 - accuracy: 0.7209 - val_loss: 0.2072 - val_accuracy: 0.6688\n",
      "Epoch 25/8000000\n",
      "55/55 [==============================] - 0s 2ms/step - loss: 0.1900 - accuracy: 0.7237 - val_loss: 0.2037 - val_accuracy: 0.6989\n",
      "Epoch 26/8000000\n",
      "55/55 [==============================] - 0s 3ms/step - loss: 0.1940 - accuracy: 0.7274 - val_loss: 0.2274 - val_accuracy: 0.6882\n",
      "Epoch 27/8000000\n",
      "55/55 [==============================] - 0s 2ms/step - loss: 0.1829 - accuracy: 0.7375 - val_loss: 0.2274 - val_accuracy: 0.6301\n",
      "Epoch 28/8000000\n",
      "55/55 [==============================] - 0s 2ms/step - loss: 0.1921 - accuracy: 0.7107 - val_loss: 0.2645 - val_accuracy: 0.6065\n",
      "Epoch 29/8000000\n",
      "55/55 [==============================] - 0s 3ms/step - loss: 0.1853 - accuracy: 0.7283 - val_loss: 0.3082 - val_accuracy: 0.6065\n",
      "Epoch 30/8000000\n",
      "55/55 [==============================] - 0s 2ms/step - loss: 0.1914 - accuracy: 0.7079 - val_loss: 0.2276 - val_accuracy: 0.6989\n",
      "Epoch 31/8000000\n",
      "55/55 [==============================] - 0s 2ms/step - loss: 0.1872 - accuracy: 0.7311 - val_loss: 0.2573 - val_accuracy: 0.6860\n",
      "Epoch 32/8000000\n",
      "55/55 [==============================] - 0s 2ms/step - loss: 0.1911 - accuracy: 0.7116 - val_loss: 0.2743 - val_accuracy: 0.6882\n",
      "Epoch 33/8000000\n",
      "55/55 [==============================] - 0s 2ms/step - loss: 0.1894 - accuracy: 0.7348 - val_loss: 0.2145 - val_accuracy: 0.6946\n",
      "Epoch 34/8000000\n",
      "55/55 [==============================] - 0s 2ms/step - loss: 0.1871 - accuracy: 0.7375 - val_loss: 0.2727 - val_accuracy: 0.5914\n",
      "Epoch 35/8000000\n",
      "55/55 [==============================] - 0s 2ms/step - loss: 0.1904 - accuracy: 0.7163 - val_loss: 0.2005 - val_accuracy: 0.7011\n",
      "Epoch 36/8000000\n",
      "55/55 [==============================] - 0s 2ms/step - loss: 0.1825 - accuracy: 0.7218 - val_loss: 0.1981 - val_accuracy: 0.7075\n",
      "Epoch 37/8000000\n",
      "55/55 [==============================] - 0s 3ms/step - loss: 0.1873 - accuracy: 0.7320 - val_loss: 0.2140 - val_accuracy: 0.7140\n",
      "Epoch 38/8000000\n",
      "55/55 [==============================] - 0s 2ms/step - loss: 0.1836 - accuracy: 0.7320 - val_loss: 0.2002 - val_accuracy: 0.7118\n",
      "Epoch 39/8000000\n",
      "55/55 [==============================] - 0s 2ms/step - loss: 0.1830 - accuracy: 0.7311 - val_loss: 0.2212 - val_accuracy: 0.6774\n",
      "Epoch 40/8000000\n",
      "55/55 [==============================] - 0s 2ms/step - loss: 0.1830 - accuracy: 0.7246 - val_loss: 0.2469 - val_accuracy: 0.6860\n",
      "Epoch 41/8000000\n",
      "55/55 [==============================] - 0s 2ms/step - loss: 0.1863 - accuracy: 0.7320 - val_loss: 0.2670 - val_accuracy: 0.6301\n",
      "Epoch 42/8000000\n",
      "55/55 [==============================] - 0s 2ms/step - loss: 0.1845 - accuracy: 0.7292 - val_loss: 0.1873 - val_accuracy: 0.7226\n",
      "Epoch 43/8000000\n",
      "55/55 [==============================] - 0s 2ms/step - loss: 0.1873 - accuracy: 0.7135 - val_loss: 0.2042 - val_accuracy: 0.6882\n",
      "Epoch 44/8000000\n",
      "55/55 [==============================] - 0s 2ms/step - loss: 0.1853 - accuracy: 0.7153 - val_loss: 0.3206 - val_accuracy: 0.6086\n",
      "Epoch 45/8000000\n",
      "55/55 [==============================] - 0s 2ms/step - loss: 0.1863 - accuracy: 0.7274 - val_loss: 0.2359 - val_accuracy: 0.6280\n",
      "Epoch 46/8000000\n",
      "55/55 [==============================] - 0s 2ms/step - loss: 0.1861 - accuracy: 0.7338 - val_loss: 0.2206 - val_accuracy: 0.6946\n",
      "Epoch 47/8000000\n",
      "55/55 [==============================] - 0s 2ms/step - loss: 0.1843 - accuracy: 0.7209 - val_loss: 0.2077 - val_accuracy: 0.7075\n",
      "Epoch 48/8000000\n",
      "55/55 [==============================] - 0s 3ms/step - loss: 0.1859 - accuracy: 0.7274 - val_loss: 0.2012 - val_accuracy: 0.6903\n",
      "Epoch 49/8000000\n",
      "55/55 [==============================] - 0s 3ms/step - loss: 0.1794 - accuracy: 0.7421 - val_loss: 0.2335 - val_accuracy: 0.6839\n",
      "Epoch 50/8000000\n",
      "55/55 [==============================] - 0s 3ms/step - loss: 0.1840 - accuracy: 0.7163 - val_loss: 0.2130 - val_accuracy: 0.7054\n",
      "Epoch 51/8000000\n",
      "55/55 [==============================] - 0s 2ms/step - loss: 0.1811 - accuracy: 0.7348 - val_loss: 0.2112 - val_accuracy: 0.6860\n",
      "Epoch 52/8000000\n",
      "55/55 [==============================] - 0s 2ms/step - loss: 0.1851 - accuracy: 0.7237 - val_loss: 0.2645 - val_accuracy: 0.6860\n",
      "Epoch 53/8000000\n",
      "55/55 [==============================] - 0s 2ms/step - loss: 0.1844 - accuracy: 0.7320 - val_loss: 0.2732 - val_accuracy: 0.6860\n",
      "Epoch 54/8000000\n",
      "55/55 [==============================] - 0s 2ms/step - loss: 0.1910 - accuracy: 0.7227 - val_loss: 0.2029 - val_accuracy: 0.7032\n",
      "Epoch 55/8000000\n",
      "55/55 [==============================] - 0s 2ms/step - loss: 0.1800 - accuracy: 0.7292 - val_loss: 0.1944 - val_accuracy: 0.7226\n",
      "Epoch 56/8000000\n",
      "55/55 [==============================] - 0s 2ms/step - loss: 0.1793 - accuracy: 0.7440 - val_loss: 0.2683 - val_accuracy: 0.6860\n",
      "Epoch 57/8000000\n",
      "55/55 [==============================] - 0s 2ms/step - loss: 0.1921 - accuracy: 0.7135 - val_loss: 0.2067 - val_accuracy: 0.6968\n",
      "Epoch 58/8000000\n",
      "55/55 [==============================] - 0s 2ms/step - loss: 0.1777 - accuracy: 0.7449 - val_loss: 0.2307 - val_accuracy: 0.6344\n",
      "Epoch 59/8000000\n",
      "55/55 [==============================] - 0s 2ms/step - loss: 0.1801 - accuracy: 0.7237 - val_loss: 0.2494 - val_accuracy: 0.6065\n",
      "Epoch 60/8000000\n",
      "55/55 [==============================] - 0s 2ms/step - loss: 0.1814 - accuracy: 0.7237 - val_loss: 0.2270 - val_accuracy: 0.6882\n",
      "Epoch 61/8000000\n",
      "55/55 [==============================] - 0s 2ms/step - loss: 0.1884 - accuracy: 0.7172 - val_loss: 0.2440 - val_accuracy: 0.6839\n",
      "Epoch 62/8000000\n",
      "55/55 [==============================] - 0s 2ms/step - loss: 0.1779 - accuracy: 0.7412 - val_loss: 0.1889 - val_accuracy: 0.7247\n"
     ]
    }
   ],
   "source": [
    "# early stopping callback\n",
    "# This callback will stop the training when there is no improvement in  \n",
    "# the validation loss for 10 consecutive epochs.  \n",
    "es = keras.callbacks.EarlyStopping(monitor='val_loss', \n",
    "                                   mode='min',\n",
    "                                   patience=20, \n",
    "                                   restore_best_weights=True)\n",
    "\n",
    "\n",
    "\n",
    "\n",
    "history = model.fit(X,\n",
    "                    dummy_y,\n",
    "                    callbacks=[es],\n",
    "                    epochs=8000000, # you can set this to a big number!\n",
    "                    batch_size=20,\n",
    "                    shuffle=True,\n",
    "                    validation_split=0.3,\n",
    "                    verbose=1)\n"
   ]
  },
  {
   "cell_type": "code",
   "execution_count": 17,
   "metadata": {},
   "outputs": [
    {
     "data": {
      "image/png": "[encoded data removed]",
      "text/plain": [
       "<Figure size 432x288 with 1 Axes>"
      ]
     },
     "metadata": {
      "needs_background": "light"
     },
     "output_type": "display_data"
    }
   ],
   "source": [
    "import matplotlib.pyplot as plt\n",
    "\n",
    "history_dict = history.history\n",
    "\n",
    "# learning curve\n",
    "# accuracy\n",
    "acc = history_dict['accuracy']\n",
    "val_acc = history_dict['val_accuracy']\n",
    "\n",
    "# loss\n",
    "loss = history_dict['loss']\n",
    "val_loss = history_dict['val_loss']\n",
    "\n",
    "# range of X (no. of epochs)\n",
    "epochs = range(1, len(acc) + 1)\n",
    "\n",
    "# plot\n",
    "# \"r\" is for \"solid red line\"\n",
    "plt.plot(epochs, acc, 'r', label='Training accuracy')\n",
    "# b is for \"solid blue line\"\n",
    "plt.plot(epochs, val_acc, 'b', label='Validation accuracy')\n",
    "plt.title('Training and validation accuracy')\n",
    "plt.xlabel('Epochs')\n",
    "plt.ylabel('Accuracy')\n",
    "plt.legend()\n",
    "\n",
    "plt.show()"
   ]
  },
  {
   "cell_type": "code",
   "execution_count": 18,
   "metadata": {},
   "outputs": [
    {
     "name": "stdout",
     "output_type": "stream",
     "text": [
      "49/49 [==============================] - 0s 1ms/step\n",
      "[0.69180846 0.30819157]\n",
      "1.0\n",
      "[[928 133]\n",
      " [252 234]]\n",
      "              precision    recall  f1-score   support\n",
      "\n",
      "           0       0.79      0.87      0.83      1061\n",
      "           1       0.64      0.48      0.55       486\n",
      "\n",
      "    accuracy                           0.75      1547\n",
      "   macro avg       0.71      0.68      0.69      1547\n",
      "weighted avg       0.74      0.75      0.74      1547\n",
      "\n"
     ]
    }
   ],
   "source": [
    "from sklearn.metrics import confusion_matrix\n",
    "from sklearn.metrics import classification_report\n",
    "\n",
    "preds = model.predict(X) # see how the model did!\n",
    "print(preds[0]) # i'm spreading that prediction across three nodes and they sum to 1\n",
    "print(np.sum(preds[0])) # sum it up! Should be 1\n",
    "## [9.9999988e-01 1.3509347e-07 6.7064638e-16]\n",
    "## 1.0\n",
    "\n",
    "# Almost a perfect prediction\n",
    "# actual is left, predicted is top\n",
    "# names can be found by inspecting Y\n",
    "matrix = confusion_matrix(dummy_y.argmax(axis=1), preds.argmax(axis=1))\n",
    "print(matrix)\n",
    "\n",
    "\n",
    "\n",
    "# more detail on how well things were predicted\n",
    "print(classification_report(dummy_y.argmax(axis=1), preds.argmax(axis=1)))\n"
   ]
  }
 ],
 "metadata": {
  "kernelspec": {
   "display_name": "Python 3.10.4 64-bit",
   "language": "python",
   "name": "python3"
  },
  "language_info": {
   "codemirror_mode": {
    "name": "ipython",
    "version": 3
   },
   "file_extension": ".py",
   "mimetype": "text/x-python",
   "name": "python",
   "nbconvert_exporter": "python",
   "pygments_lexer": "ipython3",
   "version": "3.10.4"
  },
  "orig_nbformat": 4,
  "vscode": {
   "interpreter": {
    "hash": "369f2c481f4da34e4445cda3fffd2e751bd1c4d706f27375911949ba6bb62e1c"
   }
  }
 },
 "nbformat": 4,
 "nbformat_minor": 2
}
