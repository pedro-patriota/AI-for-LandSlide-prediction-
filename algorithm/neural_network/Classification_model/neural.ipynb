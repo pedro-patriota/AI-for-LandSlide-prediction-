{
 "cells": [
  {
   "cell_type": "code",
   "execution_count": 55,
   "metadata": {},
   "outputs": [],
   "source": [
    "import numpy as np\n",
    "from sklearn.neural_network import MLPClassifier\n",
    "\n",
    "import tensorflow as tf\n",
    "import matplotlib.pyplot as plt\n",
    "from sklearn.preprocessing import StandardScaler\n",
    "import pandas as pd"
   ]
  },
  {
   "cell_type": "code",
   "execution_count": 56,
   "metadata": {},
   "outputs": [
    {
     "name": "stdout",
     "output_type": "stream",
     "text": [
      "<class 'pandas.core.frame.DataFrame'>\n",
      "Int64Index: 990 entries, 0 to 1073\n",
      "Data columns (total 18 columns):\n",
      " #   Column                  Non-Null Count  Dtype  \n",
      "---  ------                  --------------  -----  \n",
      " 0   processo_numero         990 non-null    object \n",
      " 1   solicitacao_data        990 non-null    object \n",
      " 2   solicitacao_hora        990 non-null    object \n",
      " 3   solicitacao_descricao   990 non-null    object \n",
      " 4   solicitacao_bairro      990 non-null    object \n",
      " 5   solicitacao_localidade  990 non-null    object \n",
      " 6   solicitacao_endereco    990 non-null    object \n",
      " 7   processo_ocorrencia     990 non-null    object \n",
      " 8   confirmado              990 non-null    int64  \n",
      " 9   latitude                990 non-null    float64\n",
      " 10  longitude               990 non-null    float64\n",
      " 11  cond                    990 non-null    bool   \n",
      " 12  em_recife               990 non-null    int64  \n",
      " 13  rain_hour               990 non-null    float64\n",
      " 14  rain_day                990 non-null    float64\n",
      " 15  altitude                990 non-null    float64\n",
      " 16  ground_type             990 non-null    object \n",
      " 17  danger_level            990 non-null    object \n",
      "dtypes: bool(1), float64(5), int64(2), object(10)\n",
      "memory usage: 140.2+ KB\n"
     ]
    }
   ],
   "source": [
    "df =pd.read_csv('../danger_level.csv')\n",
    "df = df.dropna()\n",
    "df.info()"
   ]
  },
  {
   "cell_type": "code",
   "execution_count": 57,
   "metadata": {},
   "outputs": [],
   "source": [
    "def label_ground_int(row):\n",
    "    match row['ground_type']:\n",
    "        case \"LVd2\":\n",
    "            return 0 \n",
    "        case \"LVd4\":\n",
    "            return 1 \n",
    "        case \"A2\":\n",
    "            return 2 \n",
    "        case \"URBANO\":\n",
    "            return 3 \n",
    "        case \"PV1\":\n",
    "            return 4 \n",
    "        case \"HP\":\n",
    "            return 5 \n",
    "        case \"AGUA\":\n",
    "            return 6 \n",
    "        case \"ILHA\":\n",
    "            return 7 \n",
    "def label_danger_int(row):\n",
    "    match row['danger_level']:\n",
    "        case 'Baixa':\n",
    "            return 0 \n",
    "        case 'Média':\n",
    "            return 1 \n",
    "        case 'Alta':\n",
    "            return 2 "
   ]
  },
  {
   "cell_type": "code",
   "execution_count": 58,
   "metadata": {},
   "outputs": [],
   "source": [
    "\n",
    "Target = ['confirmado']\n",
    "Predictors = ['rain_hour', 'rain_day', 'altitude', 'ground_type_int', 'danger_level_int']\n",
    "df['ground_type_int'] = df.apply(lambda row: label_ground_int(row), axis=1)\n",
    "df['danger_level_int'] = df.apply(lambda row: label_danger_int(row), axis=1)\n",
    "\n",
    "X = df[Predictors].values\n",
    "y = df[Target].values\n",
    "\n"
   ]
  },
  {
   "cell_type": "code",
   "execution_count": 59,
   "metadata": {},
   "outputs": [
    {
     "name": "stdout",
     "output_type": "stream",
     "text": [
      "(693, 5)\n",
      "(693, 1)\n",
      "(297, 5)\n",
      "(297, 1)\n"
     ]
    }
   ],
   "source": [
    "PredictorScaler=StandardScaler()\n",
    "PredictorScalerFit=PredictorScaler.fit(X)\n",
    " \n",
    "# Generating the standardized values of X and y\n",
    "X=PredictorScalerFit.transform(X)\n",
    " \n",
    "# Split the data into training and testing set\n",
    "from sklearn.model_selection import train_test_split\n",
    "X_train, X_test, y_train, y_test = train_test_split(X, y, test_size=0.3, random_state=42)\n",
    " \n",
    "# Quick sanity check with the shapes of Training and Testing datasets\n",
    "print(X_train.shape)\n",
    "print(y_train.shape)\n",
    "print(X_test.shape)\n",
    "print(y_test.shape)"
   ]
  },
  {
   "cell_type": "code",
   "execution_count": 60,
   "metadata": {},
   "outputs": [
    {
     "name": "stdout",
     "output_type": "stream",
     "text": [
      "Model: \"sequential_16\"\n",
      "_________________________________________________________________\n",
      " Layer (type)                Output Shape              Param #   \n",
      "=================================================================\n",
      " dense_43 (Dense)            (None, 10)                60        \n",
      "                                                                 \n",
      " dense_44 (Dense)            (None, 6)                 66        \n",
      "                                                                 \n",
      " dense_45 (Dense)            (None, 1)                 7         \n",
      "                                                                 \n",
      "=================================================================\n",
      "Total params: 133\n",
      "Trainable params: 133\n",
      "Non-trainable params: 0\n",
      "_________________________________________________________________\n",
      "None\n",
      "Epoch 1/10\n",
      "70/70 [==============================] - 1s 3ms/step - loss: 0.6876 - accuracy: 0.6753\n",
      "Epoch 2/10\n",
      "70/70 [==============================] - 0s 2ms/step - loss: 0.6663 - accuracy: 0.6768\n",
      "Epoch 3/10\n",
      "70/70 [==============================] - 0s 2ms/step - loss: 0.6206 - accuracy: 0.6768\n",
      "Epoch 4/10\n",
      "70/70 [==============================] - 0s 2ms/step - loss: 0.5794 - accuracy: 0.6768\n",
      "Epoch 5/10\n",
      "70/70 [==============================] - 0s 2ms/step - loss: 0.5644 - accuracy: 0.6768\n",
      "Epoch 6/10\n",
      "70/70 [==============================] - 0s 2ms/step - loss: 0.5605 - accuracy: 0.6768\n",
      "Epoch 7/10\n",
      "70/70 [==============================] - 0s 3ms/step - loss: 0.5584 - accuracy: 0.6768\n",
      "Epoch 8/10\n",
      "70/70 [==============================] - 0s 3ms/step - loss: 0.5571 - accuracy: 0.6768\n",
      "Epoch 9/10\n",
      "70/70 [==============================] - 0s 2ms/step - loss: 0.5552 - accuracy: 0.6768\n",
      "Epoch 10/10\n",
      "70/70 [==============================] - 0s 2ms/step - loss: 0.5539 - accuracy: 0.6768\n"
     ]
    }
   ],
   "source": [
    "classifier = tf.keras.Sequential()\n",
    "# Defining the Input layer and FIRST hidden layer,both are same!\n",
    "# relu means Rectifier linear unit function\n",
    "classifier.add(tf.keras.layers.Dense(units=10, input_dim=5, kernel_initializer='uniform', activation='relu'))\n",
    "\n",
    "#Second layer\n",
    "classifier.add(tf.keras.layers.Dense(units=6, kernel_initializer='uniform', activation='relu'))\n",
    "\n",
    "# Defining the Output layer\n",
    "# sigmoid means sigmoid activation function\n",
    "# for Multiclass classification the activation ='softmax'\n",
    "# And output_dim will be equal to the number of factor levels\n",
    "classifier.add(tf.keras.layers.Dense(units=1, kernel_initializer='uniform', activation='sigmoid'))\n",
    "\n",
    "classifier.compile(optimizer='adam', loss='binary_crossentropy', metrics=['accuracy'])\n",
    "\n",
    "\"\"\" tensor = tf.convert_to_tensor(classifier)\n",
    " \"\"\"\n",
    "# fitting the Neural Network on the training data\n",
    "X_train =  np.asarray(X_train).astype('float32')\n",
    "y_train =  np.asarray(y_train).astype('float32')\n",
    "\n",
    "print(classifier.summary())\n",
    "\n",
    "survivalANN_Model=classifier.fit(X_train,y_train, batch_size=10 , epochs=10, verbose=1)"
   ]
  },
  {
   "cell_type": "code",
   "execution_count": 62,
   "metadata": {},
   "outputs": [
    {
     "name": "stdout",
     "output_type": "stream",
     "text": [
      "1 Parameters: batch_size: 5 - epochs: 5 Accuracy: 0.6868686676025391\n"
     ]
    },
    {
     "name": "stderr",
     "output_type": "stream",
     "text": [
      "C:\\Users\\parae\\AppData\\Local\\Temp\\ipykernel_8808\\3545517515.py:30: FutureWarning: The frame.append method is deprecated and will be removed from pandas in a future version. Use pandas.concat instead.\n",
      "  SearchResultsData=SearchResultsData.append(pd.DataFrame(data=[[TrialNumber,\n"
     ]
    },
    {
     "name": "stdout",
     "output_type": "stream",
     "text": [
      "2 Parameters: batch_size: 5 - epochs: 10 Accuracy: 0.7128427028656006\n"
     ]
    },
    {
     "name": "stderr",
     "output_type": "stream",
     "text": [
      "C:\\Users\\parae\\AppData\\Local\\Temp\\ipykernel_8808\\3545517515.py:30: FutureWarning: The frame.append method is deprecated and will be removed from pandas in a future version. Use pandas.concat instead.\n",
      "  SearchResultsData=SearchResultsData.append(pd.DataFrame(data=[[TrialNumber,\n"
     ]
    },
    {
     "name": "stdout",
     "output_type": "stream",
     "text": [
      "3 Parameters: batch_size: 5 - epochs: 50 Accuracy: 0.7489177584648132\n"
     ]
    },
    {
     "name": "stderr",
     "output_type": "stream",
     "text": [
      "C:\\Users\\parae\\AppData\\Local\\Temp\\ipykernel_8808\\3545517515.py:30: FutureWarning: The frame.append method is deprecated and will be removed from pandas in a future version. Use pandas.concat instead.\n",
      "  SearchResultsData=SearchResultsData.append(pd.DataFrame(data=[[TrialNumber,\n"
     ]
    },
    {
     "name": "stdout",
     "output_type": "stream",
     "text": [
      "4 Parameters: batch_size: 5 - epochs: 100 Accuracy: 0.7647907733917236\n"
     ]
    },
    {
     "name": "stderr",
     "output_type": "stream",
     "text": [
      "C:\\Users\\parae\\AppData\\Local\\Temp\\ipykernel_8808\\3545517515.py:30: FutureWarning: The frame.append method is deprecated and will be removed from pandas in a future version. Use pandas.concat instead.\n",
      "  SearchResultsData=SearchResultsData.append(pd.DataFrame(data=[[TrialNumber,\n"
     ]
    },
    {
     "name": "stdout",
     "output_type": "stream",
     "text": [
      "5 Parameters: batch_size: 10 - epochs: 5 Accuracy: 0.6767676472663879\n"
     ]
    },
    {
     "name": "stderr",
     "output_type": "stream",
     "text": [
      "C:\\Users\\parae\\AppData\\Local\\Temp\\ipykernel_8808\\3545517515.py:30: FutureWarning: The frame.append method is deprecated and will be removed from pandas in a future version. Use pandas.concat instead.\n",
      "  SearchResultsData=SearchResultsData.append(pd.DataFrame(data=[[TrialNumber,\n"
     ]
    },
    {
     "name": "stdout",
     "output_type": "stream",
     "text": [
      "6 Parameters: batch_size: 10 - epochs: 10 Accuracy: 0.7041847109794617\n"
     ]
    },
    {
     "name": "stderr",
     "output_type": "stream",
     "text": [
      "C:\\Users\\parae\\AppData\\Local\\Temp\\ipykernel_8808\\3545517515.py:30: FutureWarning: The frame.append method is deprecated and will be removed from pandas in a future version. Use pandas.concat instead.\n",
      "  SearchResultsData=SearchResultsData.append(pd.DataFrame(data=[[TrialNumber,\n"
     ]
    },
    {
     "name": "stdout",
     "output_type": "stream",
     "text": [
      "7 Parameters: batch_size: 10 - epochs: 50 Accuracy: 0.7546897530555725\n"
     ]
    },
    {
     "name": "stderr",
     "output_type": "stream",
     "text": [
      "C:\\Users\\parae\\AppData\\Local\\Temp\\ipykernel_8808\\3545517515.py:30: FutureWarning: The frame.append method is deprecated and will be removed from pandas in a future version. Use pandas.concat instead.\n",
      "  SearchResultsData=SearchResultsData.append(pd.DataFrame(data=[[TrialNumber,\n"
     ]
    },
    {
     "name": "stdout",
     "output_type": "stream",
     "text": [
      "8 Parameters: batch_size: 10 - epochs: 100 Accuracy: 0.7445887327194214\n"
     ]
    },
    {
     "name": "stderr",
     "output_type": "stream",
     "text": [
      "C:\\Users\\parae\\AppData\\Local\\Temp\\ipykernel_8808\\3545517515.py:30: FutureWarning: The frame.append method is deprecated and will be removed from pandas in a future version. Use pandas.concat instead.\n",
      "  SearchResultsData=SearchResultsData.append(pd.DataFrame(data=[[TrialNumber,\n"
     ]
    },
    {
     "name": "stdout",
     "output_type": "stream",
     "text": [
      "9 Parameters: batch_size: 15 - epochs: 5 Accuracy: 0.6767676472663879\n"
     ]
    },
    {
     "name": "stderr",
     "output_type": "stream",
     "text": [
      "C:\\Users\\parae\\AppData\\Local\\Temp\\ipykernel_8808\\3545517515.py:30: FutureWarning: The frame.append method is deprecated and will be removed from pandas in a future version. Use pandas.concat instead.\n",
      "  SearchResultsData=SearchResultsData.append(pd.DataFrame(data=[[TrialNumber,\n"
     ]
    },
    {
     "name": "stdout",
     "output_type": "stream",
     "text": [
      "10 Parameters: batch_size: 15 - epochs: 10 Accuracy: 0.6767676472663879\n"
     ]
    },
    {
     "name": "stderr",
     "output_type": "stream",
     "text": [
      "C:\\Users\\parae\\AppData\\Local\\Temp\\ipykernel_8808\\3545517515.py:30: FutureWarning: The frame.append method is deprecated and will be removed from pandas in a future version. Use pandas.concat instead.\n",
      "  SearchResultsData=SearchResultsData.append(pd.DataFrame(data=[[TrialNumber,\n"
     ]
    },
    {
     "name": "stdout",
     "output_type": "stream",
     "text": [
      "11 Parameters: batch_size: 15 - epochs: 50 Accuracy: 0.7503607273101807\n"
     ]
    },
    {
     "name": "stderr",
     "output_type": "stream",
     "text": [
      "C:\\Users\\parae\\AppData\\Local\\Temp\\ipykernel_8808\\3545517515.py:30: FutureWarning: The frame.append method is deprecated and will be removed from pandas in a future version. Use pandas.concat instead.\n",
      "  SearchResultsData=SearchResultsData.append(pd.DataFrame(data=[[TrialNumber,\n"
     ]
    },
    {
     "name": "stdout",
     "output_type": "stream",
     "text": [
      "12 Parameters: batch_size: 15 - epochs: 100 Accuracy: 0.7503607273101807\n"
     ]
    },
    {
     "name": "stderr",
     "output_type": "stream",
     "text": [
      "C:\\Users\\parae\\AppData\\Local\\Temp\\ipykernel_8808\\3545517515.py:30: FutureWarning: The frame.append method is deprecated and will be removed from pandas in a future version. Use pandas.concat instead.\n",
      "  SearchResultsData=SearchResultsData.append(pd.DataFrame(data=[[TrialNumber,\n"
     ]
    },
    {
     "name": "stdout",
     "output_type": "stream",
     "text": [
      "13 Parameters: batch_size: 20 - epochs: 5 Accuracy: 0.6767676472663879\n"
     ]
    },
    {
     "name": "stderr",
     "output_type": "stream",
     "text": [
      "C:\\Users\\parae\\AppData\\Local\\Temp\\ipykernel_8808\\3545517515.py:30: FutureWarning: The frame.append method is deprecated and will be removed from pandas in a future version. Use pandas.concat instead.\n",
      "  SearchResultsData=SearchResultsData.append(pd.DataFrame(data=[[TrialNumber,\n"
     ]
    },
    {
     "name": "stdout",
     "output_type": "stream",
     "text": [
      "14 Parameters: batch_size: 20 - epochs: 10 Accuracy: 0.6767676472663879\n"
     ]
    },
    {
     "name": "stderr",
     "output_type": "stream",
     "text": [
      "C:\\Users\\parae\\AppData\\Local\\Temp\\ipykernel_8808\\3545517515.py:30: FutureWarning: The frame.append method is deprecated and will be removed from pandas in a future version. Use pandas.concat instead.\n",
      "  SearchResultsData=SearchResultsData.append(pd.DataFrame(data=[[TrialNumber,\n"
     ]
    },
    {
     "name": "stdout",
     "output_type": "stream",
     "text": [
      "15 Parameters: batch_size: 20 - epochs: 50 Accuracy: 0.7330447435379028\n"
     ]
    },
    {
     "name": "stderr",
     "output_type": "stream",
     "text": [
      "C:\\Users\\parae\\AppData\\Local\\Temp\\ipykernel_8808\\3545517515.py:30: FutureWarning: The frame.append method is deprecated and will be removed from pandas in a future version. Use pandas.concat instead.\n",
      "  SearchResultsData=SearchResultsData.append(pd.DataFrame(data=[[TrialNumber,\n"
     ]
    },
    {
     "name": "stdout",
     "output_type": "stream",
     "text": [
      "16 Parameters: batch_size: 20 - epochs: 100 Accuracy: 0.7532467246055603\n"
     ]
    },
    {
     "name": "stderr",
     "output_type": "stream",
     "text": [
      "C:\\Users\\parae\\AppData\\Local\\Temp\\ipykernel_8808\\3545517515.py:30: FutureWarning: The frame.append method is deprecated and will be removed from pandas in a future version. Use pandas.concat instead.\n",
      "  SearchResultsData=SearchResultsData.append(pd.DataFrame(data=[[TrialNumber,\n"
     ]
    }
   ],
   "source": [
    "def FunctionFindBestParams(X_train, y_train):\n",
    "    \n",
    "    # Defining the list of hyper parameters to try\n",
    "    TrialNumber=0\n",
    "    batch_size_list=[5, 10, 15, 20]\n",
    "    epoch_list=[5, 10, 50 ,100]\n",
    "    \n",
    "    import pandas as pd\n",
    "    SearchResultsData=pd.DataFrame(columns=['TrialNumber', 'Parameters', 'Accuracy'])\n",
    "    \n",
    "    for batch_size_trial in batch_size_list:\n",
    "        for epochs_trial in epoch_list:\n",
    "            TrialNumber+=1\n",
    "            \n",
    "            # Creating the classifier ANN model\n",
    "            classifier = tf.keras.Sequential()\n",
    "            classifier.add(tf.keras.layers.Dense(units=10, input_dim=5, kernel_initializer='uniform', activation='relu'))\n",
    "            classifier.add(tf.keras.layers.Dense(units=6, kernel_initializer='uniform', activation='relu'))\n",
    "            classifier.add(tf.keras.layers.Dense(units=1, kernel_initializer='uniform', activation='sigmoid'))\n",
    "            classifier.compile(optimizer='adam', loss='binary_crossentropy', metrics=['accuracy'])\n",
    " \n",
    "            \n",
    "            survivalANN_Model=classifier.fit(X_train,y_train, batch_size=batch_size_trial , epochs=epochs_trial, verbose=0)\n",
    "            # Fetching the accuracy of the training\n",
    "            Accuracy = survivalANN_Model.history['accuracy'][-1]\n",
    "            \n",
    "            # printing the results of the current iteration\n",
    "            print(TrialNumber, 'Parameters:','batch_size:', batch_size_trial,'-', 'epochs:',epochs_trial, 'Accuracy:', Accuracy)\n",
    "            \n",
    "            SearchResultsData=SearchResultsData.append(pd.DataFrame(data=[[TrialNumber,\n",
    "                            'batch_size'+str(batch_size_trial)+'-'+'epoch'+str(epochs_trial), Accuracy]],\n",
    "                                                                    columns=['TrialNumber', 'Parameters', 'Accuracy'] ))\n",
    "    return(SearchResultsData)\n",
    " \n",
    "###############################################\n",
    " \n",
    "# Calling the function\n",
    "ResultsData=FunctionFindBestParams(X_train, y_train)"
   ]
  },
  {
   "cell_type": "code",
   "execution_count": 63,
   "metadata": {},
   "outputs": [
    {
     "name": "stdout",
     "output_type": "stream",
     "text": [
      "  TrialNumber            Parameters  Accuracy\n",
      "0           4  batch_size5-epoch100  0.764791\n"
     ]
    },
    {
     "data": {
      "text/plain": [
       "<AxesSubplot:xlabel='Parameters'>"
      ]
     },
     "execution_count": 63,
     "metadata": {},
     "output_type": "execute_result"
    },
    {
     "data": {
      "image/png": "[encoded data removed]",
      "text/plain": [
       "<Figure size 1080x288 with 1 Axes>"
      ]
     },
     "metadata": {
      "needs_background": "light"
     },
     "output_type": "display_data"
    }
   ],
   "source": [
    "\n",
    "# Printing the best parameter\n",
    "print(ResultsData.sort_values(by='Accuracy', ascending=False).head(1))\n",
    " \n",
    "# Visualizing the results\n",
    "%matplotlib inline\n",
    "ResultsData.plot(x='Parameters', y='Accuracy', figsize=(15,4), kind='line', rot=20)"
   ]
  },
  {
   "cell_type": "code",
   "execution_count": 69,
   "metadata": {},
   "outputs": [
    {
     "name": "stdout",
     "output_type": "stream",
     "text": [
      "Epoch 1/50\n",
      "35/35 [==============================] - 0s 2ms/step - loss: 0.5065 - accuracy: 0.7590\n",
      "Epoch 2/50\n",
      "35/35 [==============================] - 0s 2ms/step - loss: 0.5064 - accuracy: 0.7605\n",
      "Epoch 3/50\n",
      "35/35 [==============================] - 0s 2ms/step - loss: 0.5065 - accuracy: 0.7619\n",
      "Epoch 4/50\n",
      "35/35 [==============================] - 0s 2ms/step - loss: 0.5065 - accuracy: 0.7605\n",
      "Epoch 5/50\n",
      "35/35 [==============================] - 0s 2ms/step - loss: 0.5064 - accuracy: 0.7561\n",
      "Epoch 6/50\n",
      "35/35 [==============================] - 0s 2ms/step - loss: 0.5064 - accuracy: 0.7605\n",
      "Epoch 7/50\n",
      "35/35 [==============================] - 0s 2ms/step - loss: 0.5062 - accuracy: 0.7605\n",
      "Epoch 8/50\n",
      "35/35 [==============================] - 0s 2ms/step - loss: 0.5063 - accuracy: 0.7590\n",
      "Epoch 9/50\n",
      "35/35 [==============================] - 0s 2ms/step - loss: 0.5063 - accuracy: 0.7619\n",
      "Epoch 10/50\n",
      "35/35 [==============================] - 0s 2ms/step - loss: 0.5065 - accuracy: 0.7605\n",
      "Epoch 11/50\n",
      "35/35 [==============================] - 0s 2ms/step - loss: 0.5061 - accuracy: 0.7605\n",
      "Epoch 12/50\n",
      "35/35 [==============================] - 0s 2ms/step - loss: 0.5061 - accuracy: 0.7605\n",
      "Epoch 13/50\n",
      "35/35 [==============================] - 0s 2ms/step - loss: 0.5062 - accuracy: 0.7590\n",
      "Epoch 14/50\n",
      "35/35 [==============================] - 0s 2ms/step - loss: 0.5063 - accuracy: 0.7605\n",
      "Epoch 15/50\n",
      "35/35 [==============================] - 0s 2ms/step - loss: 0.5061 - accuracy: 0.7590\n",
      "Epoch 16/50\n",
      "35/35 [==============================] - 0s 2ms/step - loss: 0.5063 - accuracy: 0.7590\n",
      "Epoch 17/50\n",
      "35/35 [==============================] - 0s 2ms/step - loss: 0.5060 - accuracy: 0.7590\n",
      "Epoch 18/50\n",
      "35/35 [==============================] - 0s 2ms/step - loss: 0.5060 - accuracy: 0.7605\n",
      "Epoch 19/50\n",
      "35/35 [==============================] - 0s 2ms/step - loss: 0.5062 - accuracy: 0.7605\n",
      "Epoch 20/50\n",
      "35/35 [==============================] - 0s 2ms/step - loss: 0.5060 - accuracy: 0.7605\n",
      "Epoch 21/50\n",
      "35/35 [==============================] - 0s 2ms/step - loss: 0.5065 - accuracy: 0.7576\n",
      "Epoch 22/50\n",
      "35/35 [==============================] - 0s 2ms/step - loss: 0.5061 - accuracy: 0.7619\n",
      "Epoch 23/50\n",
      "35/35 [==============================] - 0s 2ms/step - loss: 0.5060 - accuracy: 0.7605\n",
      "Epoch 24/50\n",
      "35/35 [==============================] - 0s 2ms/step - loss: 0.5059 - accuracy: 0.7590\n",
      "Epoch 25/50\n",
      "35/35 [==============================] - 0s 3ms/step - loss: 0.5058 - accuracy: 0.7633\n",
      "Epoch 26/50\n",
      "35/35 [==============================] - 0s 2ms/step - loss: 0.5057 - accuracy: 0.7619\n",
      "Epoch 27/50\n",
      "35/35 [==============================] - 0s 2ms/step - loss: 0.5060 - accuracy: 0.7561\n",
      "Epoch 28/50\n",
      "35/35 [==============================] - 0s 2ms/step - loss: 0.5058 - accuracy: 0.7619\n",
      "Epoch 29/50\n",
      "35/35 [==============================] - 0s 2ms/step - loss: 0.5057 - accuracy: 0.7561\n",
      "Epoch 30/50\n",
      "35/35 [==============================] - 0s 2ms/step - loss: 0.5056 - accuracy: 0.7576\n",
      "Epoch 31/50\n",
      "35/35 [==============================] - 0s 2ms/step - loss: 0.5056 - accuracy: 0.7576\n",
      "Epoch 32/50\n",
      "35/35 [==============================] - 0s 2ms/step - loss: 0.5058 - accuracy: 0.7605\n",
      "Epoch 33/50\n",
      "35/35 [==============================] - 0s 2ms/step - loss: 0.5056 - accuracy: 0.7576\n",
      "Epoch 34/50\n",
      "35/35 [==============================] - 0s 2ms/step - loss: 0.5058 - accuracy: 0.7561\n",
      "Epoch 35/50\n",
      "35/35 [==============================] - 0s 2ms/step - loss: 0.5057 - accuracy: 0.7547\n",
      "Epoch 36/50\n",
      "35/35 [==============================] - 0s 2ms/step - loss: 0.5055 - accuracy: 0.7576\n",
      "Epoch 37/50\n",
      "35/35 [==============================] - 0s 2ms/step - loss: 0.5056 - accuracy: 0.7576\n",
      "Epoch 38/50\n",
      "35/35 [==============================] - 0s 2ms/step - loss: 0.5056 - accuracy: 0.7561\n",
      "Epoch 39/50\n",
      "35/35 [==============================] - 0s 2ms/step - loss: 0.5054 - accuracy: 0.7561\n",
      "Epoch 40/50\n",
      "35/35 [==============================] - 0s 2ms/step - loss: 0.5056 - accuracy: 0.7532\n",
      "Epoch 41/50\n",
      "35/35 [==============================] - 0s 2ms/step - loss: 0.5054 - accuracy: 0.7547\n",
      "Epoch 42/50\n",
      "35/35 [==============================] - 0s 2ms/step - loss: 0.5052 - accuracy: 0.7576\n",
      "Epoch 43/50\n",
      "35/35 [==============================] - 0s 2ms/step - loss: 0.5052 - accuracy: 0.7547\n",
      "Epoch 44/50\n",
      "35/35 [==============================] - 0s 2ms/step - loss: 0.5052 - accuracy: 0.7576\n",
      "Epoch 45/50\n",
      "35/35 [==============================] - 0s 2ms/step - loss: 0.5052 - accuracy: 0.7547\n",
      "Epoch 46/50\n",
      "35/35 [==============================] - 0s 2ms/step - loss: 0.5055 - accuracy: 0.7561\n",
      "Epoch 47/50\n",
      "35/35 [==============================] - 0s 2ms/step - loss: 0.5052 - accuracy: 0.7576\n",
      "Epoch 48/50\n",
      "35/35 [==============================] - 0s 2ms/step - loss: 0.5052 - accuracy: 0.7547\n",
      "Epoch 49/50\n",
      "35/35 [==============================] - 0s 2ms/step - loss: 0.5051 - accuracy: 0.7547\n",
      "Epoch 50/50\n",
      "35/35 [==============================] - 0s 2ms/step - loss: 0.5053 - accuracy: 0.7561\n"
     ]
    },
    {
     "data": {
      "text/plain": [
       "<keras.callbacks.History at 0x1ca8ffbe2c0>"
      ]
     },
     "execution_count": 69,
     "metadata": {},
     "output_type": "execute_result"
    }
   ],
   "source": [
    "# Training the model with best hyperparamters\n",
    "classifier.fit(X_train,y_train, batch_size=20, epochs=50, verbose=1)"
   ]
  },
  {
   "cell_type": "code",
   "execution_count": 76,
   "metadata": {},
   "outputs": [
    {
     "name": "stdout",
     "output_type": "stream",
     "text": [
      "10/10 [==============================] - 0s 3ms/step\n",
      "   rain_hour      rain_day  altitude  ground_type_int  danger_level_int  \\\n",
      "0        0.0  7.000000e+00      35.0              4.0               1.0   \n",
      "1        0.2  4.100000e+00      72.0              2.0               1.0   \n",
      "2        0.3  8.100000e+00       9.0              2.0               0.0   \n",
      "3        8.2  8.400000e+01      25.0              1.0               0.0   \n",
      "4        0.0  3.552714e-15      11.0              0.0               0.0   \n",
      "\n",
      "   Confirmado  Predicted_confirmado  \n",
      "0           1                     0  \n",
      "1           0                     0  \n",
      "2           0                     0  \n",
      "3           1                     0  \n",
      "4           0                     0  \n",
      "\n",
      "######### Testing Accuracy Results #########\n",
      "              precision    recall  f1-score   support\n",
      "\n",
      "           0       0.68      1.00      0.81       203\n",
      "           1       0.00      0.00      0.00        94\n",
      "\n",
      "    accuracy                           0.68       297\n",
      "   macro avg       0.34      0.50      0.41       297\n",
      "weighted avg       0.47      0.68      0.56       297\n",
      "\n",
      "[[203   0]\n",
      " [ 94   0]]\n"
     ]
    },
    {
     "name": "stderr",
     "output_type": "stream",
     "text": [
      "c:\\Python310\\lib\\site-packages\\sklearn\\metrics\\_classification.py:1327: UndefinedMetricWarning: Precision and F-score are ill-defined and being set to 0.0 in labels with no predicted samples. Use `zero_division` parameter to control this behavior.\n",
      "  _warn_prf(average, modifier, msg_start, len(result))\n",
      "c:\\Python310\\lib\\site-packages\\sklearn\\metrics\\_classification.py:1327: UndefinedMetricWarning: Precision and F-score are ill-defined and being set to 0.0 in labels with no predicted samples. Use `zero_division` parameter to control this behavior.\n",
      "  _warn_prf(average, modifier, msg_start, len(result))\n",
      "c:\\Python310\\lib\\site-packages\\sklearn\\metrics\\_classification.py:1327: UndefinedMetricWarning: Precision and F-score are ill-defined and being set to 0.0 in labels with no predicted samples. Use `zero_division` parameter to control this behavior.\n",
      "  _warn_prf(average, modifier, msg_start, len(result))\n"
     ]
    }
   ],
   "source": [
    "Predictions=classifier.predict(X_test)\n",
    " \n",
    "# Scaling the test data back to original scale\n",
    "Test_Data=PredictorScalerFit.inverse_transform(X_test)\n",
    " \n",
    "# Generating a data frame for analyzing the test data\n",
    "TestingData=pd.DataFrame(data=Test_Data, columns=Predictors)\n",
    "TestingData['Confirmado']=y_test\n",
    "TestingData['Predicted_confirmado']=Predictions\n",
    " \n",
    "# Defining the probability threshold\n",
    "def probThreshold(inpProb):\n",
    "    if inpProb > 0.7:\n",
    "        return(1)\n",
    "    else:\n",
    "        return(0)\n",
    " \n",
    "# Generating predictions on the testing data by applying probability threshold\n",
    "TestingData['Predicted_confirmado']=TestingData['Predicted_confirmado'].apply(probThreshold)\n",
    "print(TestingData.head())\n",
    " \n",
    "###############################################\n",
    "from sklearn import metrics\n",
    "print('\\n######### Testing Accuracy Results #########')\n",
    "print(metrics.classification_report(TestingData['Confirmado'], TestingData['Predicted_confirmado']))\n",
    "print(metrics.confusion_matrix(TestingData['Confirmado'], TestingData['Predicted_confirmado']))\n"
   ]
  }
 ],
 "metadata": {
  "kernelspec": {
   "display_name": "Python 3.10.4 64-bit",
   "language": "python",
   "name": "python3"
  },
  "language_info": {
   "codemirror_mode": {
    "name": "ipython",
    "version": 3
   },
   "file_extension": ".py",
   "mimetype": "text/x-python",
   "name": "python",
   "nbconvert_exporter": "python",
   "pygments_lexer": "ipython3",
   "version": "3.10.4"
  },
  "orig_nbformat": 4,
  "vscode": {
   "interpreter": {
    "hash": "369f2c481f4da34e4445cda3fffd2e751bd1c4d706f27375911949ba6bb62e1c"
   }
  }
 },
 "nbformat": 4,
 "nbformat_minor": 2
}
