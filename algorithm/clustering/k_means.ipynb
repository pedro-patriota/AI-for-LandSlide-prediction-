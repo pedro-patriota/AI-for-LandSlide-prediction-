{
 "cells": [
  {
   "cell_type": "code",
   "id": "initial_id",
   "metadata": {
    "collapsed": true,
    "ExecuteTime": {
     "end_time": "2024-11-22T20:33:44.358274Z",
     "start_time": "2024-11-22T20:33:44.335726Z"
    }
   },
   "source": [
    "from pandas import read_csv\n",
    "from sklearn.cluster import KMeans\n",
    "from sklearn.preprocessing import LabelEncoder\n",
    "\n",
    "from base.pandas_constants import AlgorithmConstants, DataFrameConstants\n",
    "df = read_csv(AlgorithmConstants.FINAL_DF_PATH)\n",
    "df.head()\n"
   ],
   "outputs": [
    {
     "data": {
      "text/plain": [
       "   rain_day  rain_hour  elevation ground_type ground_amplitude slope_degree  \\\n",
       "0      21.9        0.4       36.0          A2        20 a 100m     10 a 30º   \n",
       "1       3.8        1.0       33.0        LVd4        20 a 100m     10 a 30º   \n",
       "2       9.2        0.4       43.0      URBANO        20 a 100m     10 a 30º   \n",
       "3       9.6        0.6       37.0        LVd4        20 a 100m     10 a 30º   \n",
       "4       9.2        0.4       25.0        LVd4        20 a 100m     10 a 30º   \n",
       "\n",
       "  slope_percentage danger_level  \n",
       "0          0 a 60%        Baixa  \n",
       "1          0 a 60%        Media  \n",
       "2          0 a 60%        Media  \n",
       "3          0 a 60%        Media  \n",
       "4          0 a 60%        Media  "
      ],
      "text/html": [
       "<div>\n",
       "<style scoped>\n",
       "    .dataframe tbody tr th:only-of-type {\n",
       "        vertical-align: middle;\n",
       "    }\n",
       "\n",
       "    .dataframe tbody tr th {\n",
       "        vertical-align: top;\n",
       "    }\n",
       "\n",
       "    .dataframe thead th {\n",
       "        text-align: right;\n",
       "    }\n",
       "</style>\n",
       "<table border=\"1\" class=\"dataframe\">\n",
       "  <thead>\n",
       "    <tr style=\"text-align: right;\">\n",
       "      <th></th>\n",
       "      <th>rain_day</th>\n",
       "      <th>rain_hour</th>\n",
       "      <th>elevation</th>\n",
       "      <th>ground_type</th>\n",
       "      <th>ground_amplitude</th>\n",
       "      <th>slope_degree</th>\n",
       "      <th>slope_percentage</th>\n",
       "      <th>danger_level</th>\n",
       "    </tr>\n",
       "  </thead>\n",
       "  <tbody>\n",
       "    <tr>\n",
       "      <th>0</th>\n",
       "      <td>21.9</td>\n",
       "      <td>0.4</td>\n",
       "      <td>36.0</td>\n",
       "      <td>A2</td>\n",
       "      <td>20 a 100m</td>\n",
       "      <td>10 a 30º</td>\n",
       "      <td>0 a 60%</td>\n",
       "      <td>Baixa</td>\n",
       "    </tr>\n",
       "    <tr>\n",
       "      <th>1</th>\n",
       "      <td>3.8</td>\n",
       "      <td>1.0</td>\n",
       "      <td>33.0</td>\n",
       "      <td>LVd4</td>\n",
       "      <td>20 a 100m</td>\n",
       "      <td>10 a 30º</td>\n",
       "      <td>0 a 60%</td>\n",
       "      <td>Media</td>\n",
       "    </tr>\n",
       "    <tr>\n",
       "      <th>2</th>\n",
       "      <td>9.2</td>\n",
       "      <td>0.4</td>\n",
       "      <td>43.0</td>\n",
       "      <td>URBANO</td>\n",
       "      <td>20 a 100m</td>\n",
       "      <td>10 a 30º</td>\n",
       "      <td>0 a 60%</td>\n",
       "      <td>Media</td>\n",
       "    </tr>\n",
       "    <tr>\n",
       "      <th>3</th>\n",
       "      <td>9.6</td>\n",
       "      <td>0.6</td>\n",
       "      <td>37.0</td>\n",
       "      <td>LVd4</td>\n",
       "      <td>20 a 100m</td>\n",
       "      <td>10 a 30º</td>\n",
       "      <td>0 a 60%</td>\n",
       "      <td>Media</td>\n",
       "    </tr>\n",
       "    <tr>\n",
       "      <th>4</th>\n",
       "      <td>9.2</td>\n",
       "      <td>0.4</td>\n",
       "      <td>25.0</td>\n",
       "      <td>LVd4</td>\n",
       "      <td>20 a 100m</td>\n",
       "      <td>10 a 30º</td>\n",
       "      <td>0 a 60%</td>\n",
       "      <td>Media</td>\n",
       "    </tr>\n",
       "  </tbody>\n",
       "</table>\n",
       "</div>"
      ]
     },
     "execution_count": 13,
     "metadata": {},
     "output_type": "execute_result"
    }
   ],
   "execution_count": 13
  },
  {
   "metadata": {
    "ExecuteTime": {
     "end_time": "2024-11-22T20:33:45.739119Z",
     "start_time": "2024-11-22T20:33:45.724040Z"
    }
   },
   "cell_type": "code",
   "source": "df.info()",
   "id": "9538c556530ff50",
   "outputs": [
    {
     "name": "stdout",
     "output_type": "stream",
     "text": [
      "<class 'pandas.core.frame.DataFrame'>\n",
      "RangeIndex: 1362 entries, 0 to 1361\n",
      "Data columns (total 8 columns):\n",
      " #   Column            Non-Null Count  Dtype  \n",
      "---  ------            --------------  -----  \n",
      " 0   rain_day          1362 non-null   float64\n",
      " 1   rain_hour         1362 non-null   float64\n",
      " 2   elevation         1362 non-null   float64\n",
      " 3   ground_type       1362 non-null   object \n",
      " 4   ground_amplitude  1362 non-null   object \n",
      " 5   slope_degree      1362 non-null   object \n",
      " 6   slope_percentage  1362 non-null   object \n",
      " 7   danger_level      1362 non-null   object \n",
      "dtypes: float64(3), object(5)\n",
      "memory usage: 85.2+ KB\n"
     ]
    }
   ],
   "execution_count": 14
  },
  {
   "metadata": {
    "ExecuteTime": {
     "end_time": "2024-11-22T20:33:53.907565Z",
     "start_time": "2024-11-22T20:33:53.888665Z"
    }
   },
   "cell_type": "code",
   "source": [
    "label_encoders = {}\n",
    "categorical_columns = [\n",
    "    DataFrameConstants.GROUND_TYPE,\n",
    "    DataFrameConstants.GROUND_AMPLITUDE,\n",
    "    DataFrameConstants.SLOPE_DEGREE,\n",
    "    DataFrameConstants.SLOPE_PERCENTAGE,\n",
    "    DataFrameConstants.DANGER_LEVEL\n",
    "]\n",
    "\n",
    "for column in categorical_columns:\n",
    "    label_encoders[column] = LabelEncoder()\n",
    "    df[column] = label_encoders[column].fit_transform(df[column])\n",
    "\n",
    "features = df[[DataFrameConstants.RAIN_DAY, DataFrameConstants.RAIN_HOUR, DataFrameConstants.ELEVATION] + categorical_columns]\n",
    "print(features)"
   ],
   "id": "5e0415c476b3cab3",
   "outputs": [
    {
     "name": "stdout",
     "output_type": "stream",
     "text": [
      "      rain_day  rain_hour  elevation  ground_type  ground_amplitude  \\\n",
      "0         21.9        0.4       36.0            0                 3   \n",
      "1          3.8        1.0       33.0            4                 3   \n",
      "2          9.2        0.4       43.0            6                 3   \n",
      "3          9.6        0.6       37.0            4                 3   \n",
      "4          9.2        0.4       25.0            4                 3   \n",
      "...        ...        ...        ...          ...               ...   \n",
      "1357       5.0        0.0       22.0            5                 1   \n",
      "1358      27.0        0.0       22.0            5                 3   \n",
      "1359       3.0        0.0       22.0            5                 3   \n",
      "1360       0.0        0.0       31.0            6                 3   \n",
      "1361       0.0        0.0       16.0            6                 3   \n",
      "\n",
      "      slope_degree  slope_percentage  danger_level  \n",
      "0                2                 4             1  \n",
      "1                2                 4             2  \n",
      "2                2                 4             2  \n",
      "3                2                 4             2  \n",
      "4                2                 4             2  \n",
      "...            ...               ...           ...  \n",
      "1357             1                 1             1  \n",
      "1358             3                 4             2  \n",
      "1359             3                 4             2  \n",
      "1360             2                 4             2  \n",
      "1361             2                 4             2  \n",
      "\n",
      "[1362 rows x 8 columns]\n"
     ]
    }
   ],
   "execution_count": 15
  },
  {
   "metadata": {},
   "cell_type": "code",
   "outputs": [],
   "execution_count": null,
   "source": [
    "\n",
    "best_k = 0\n",
    "best_inertia = None\n",
    "best_columns = None\n",
    "range_values = range(2, 11)\n",
    "\n",
    "for num_clusters in range_values:\n",
    "    kmeans = KMeans(n_clusters=num_clusters, random_state=0)\n",
    "    kmeans.fit(features)\n",
    "    if best_inertia is None or kmeans.inertia_ < best_inertia:\n",
    "        best_k = num_clusters\n",
    "        best_inertia = kmeans.inertia_\n",
    "        best_columns = features.columns.tolist()\n",
    "\n",
    "print(f'Best K: {best_k}, Best Inertia: {best_inertia}')"
   ],
   "id": "8298e7a29d0d8bb3"
  },
  {
   "metadata": {
    "ExecuteTime": {
     "end_time": "2024-11-22T20:43:53.835569Z",
     "start_time": "2024-11-22T20:43:44.505166Z"
    }
   },
   "cell_type": "code",
   "source": [
    "best_k = 0\n",
    "best_inertia = None\n",
    "best_columns = None\n",
    "best_config = None\n",
    "range_values = [2, 4, 8, 16, 32, 64, 128]\n",
    "random_states = [0, 2, 4, 8, 16, 32, 64]\n",
    "max_iters = [300, 500, 1000]\n",
    "algorithms = ['lloyd', 'elkan']\n",
    "best_k_means = None\n",
    "results = []\n",
    "\n",
    "for num_clusters in range_values:\n",
    "    for random_state in random_states:\n",
    "        for algorithm in algorithms:\n",
    "            kmeans = KMeans(n_clusters=num_clusters, random_state=random_state, algorithm=algorithm)\n",
    "            kmeans.fit(features)\n",
    "            print(f'Inertia: {kmeans.inertia_}, Random State: {random_state}, Algorithm: {algorithm}, Columns: {features.columns.tolist()}')\n",
    "            if best_inertia is None or kmeans.inertia_ < best_inertia:\n",
    "                best_k = num_clusters\n",
    "                best_k_means = kmeans\n",
    "                best_inertia = kmeans.inertia_\n",
    "                best_columns = features.columns.tolist()\n",
    "                best_config = (random_state, algorithm)\n",
    "\n",
    "print(f'Best K: {best_k}, Best Inertia: {best_inertia}, Best Config: {best_config}')"
   ],
   "id": "bcbee024e491bc89",
   "outputs": [
    {
     "name": "stdout",
     "output_type": "stream",
     "text": [
      "Inertia: 522431.8564782609, Random State: 0, Algorithm: lloyd, Columns: ['rain_day', 'rain_hour', 'elevation', 'ground_type', 'ground_amplitude', 'slope_degree', 'slope_percentage', 'danger_level']\n",
      "Inertia: 522431.8564782609, Random State: 0, Algorithm: elkan, Columns: ['rain_day', 'rain_hour', 'elevation', 'ground_type', 'ground_amplitude', 'slope_degree', 'slope_percentage', 'danger_level']\n",
      "Inertia: 522431.8564782609, Random State: 2, Algorithm: lloyd, Columns: ['rain_day', 'rain_hour', 'elevation', 'ground_type', 'ground_amplitude', 'slope_degree', 'slope_percentage', 'danger_level']\n",
      "Inertia: 522431.8564782609, Random State: 2, Algorithm: elkan, Columns: ['rain_day', 'rain_hour', 'elevation', 'ground_type', 'ground_amplitude', 'slope_degree', 'slope_percentage', 'danger_level']\n",
      "Inertia: 522431.8564782609, Random State: 4, Algorithm: lloyd, Columns: ['rain_day', 'rain_hour', 'elevation', 'ground_type', 'ground_amplitude', 'slope_degree', 'slope_percentage', 'danger_level']\n",
      "Inertia: 522431.8564782609, Random State: 4, Algorithm: elkan, Columns: ['rain_day', 'rain_hour', 'elevation', 'ground_type', 'ground_amplitude', 'slope_degree', 'slope_percentage', 'danger_level']\n",
      "Inertia: 522431.8564782609, Random State: 8, Algorithm: lloyd, Columns: ['rain_day', 'rain_hour', 'elevation', 'ground_type', 'ground_amplitude', 'slope_degree', 'slope_percentage', 'danger_level']\n",
      "Inertia: 522431.8564782609, Random State: 8, Algorithm: elkan, Columns: ['rain_day', 'rain_hour', 'elevation', 'ground_type', 'ground_amplitude', 'slope_degree', 'slope_percentage', 'danger_level']\n",
      "Inertia: 522431.8564782609, Random State: 16, Algorithm: lloyd, Columns: ['rain_day', 'rain_hour', 'elevation', 'ground_type', 'ground_amplitude', 'slope_degree', 'slope_percentage', 'danger_level']\n",
      "Inertia: 522431.8564782609, Random State: 16, Algorithm: elkan, Columns: ['rain_day', 'rain_hour', 'elevation', 'ground_type', 'ground_amplitude', 'slope_degree', 'slope_percentage', 'danger_level']\n",
      "Inertia: 752790.7346599841, Random State: 32, Algorithm: lloyd, Columns: ['rain_day', 'rain_hour', 'elevation', 'ground_type', 'ground_amplitude', 'slope_degree', 'slope_percentage', 'danger_level']\n",
      "Inertia: 752790.7346599841, Random State: 32, Algorithm: elkan, Columns: ['rain_day', 'rain_hour', 'elevation', 'ground_type', 'ground_amplitude', 'slope_degree', 'slope_percentage', 'danger_level']\n",
      "Inertia: 522431.8564782609, Random State: 64, Algorithm: lloyd, Columns: ['rain_day', 'rain_hour', 'elevation', 'ground_type', 'ground_amplitude', 'slope_degree', 'slope_percentage', 'danger_level']\n",
      "Inertia: 522431.8564782609, Random State: 64, Algorithm: elkan, Columns: ['rain_day', 'rain_hour', 'elevation', 'ground_type', 'ground_amplitude', 'slope_degree', 'slope_percentage', 'danger_level']\n",
      "Inertia: 232290.70000301115, Random State: 0, Algorithm: lloyd, Columns: ['rain_day', 'rain_hour', 'elevation', 'ground_type', 'ground_amplitude', 'slope_degree', 'slope_percentage', 'danger_level']\n",
      "Inertia: 232290.70000301115, Random State: 0, Algorithm: elkan, Columns: ['rain_day', 'rain_hour', 'elevation', 'ground_type', 'ground_amplitude', 'slope_degree', 'slope_percentage', 'danger_level']\n",
      "Inertia: 232338.41676427374, Random State: 2, Algorithm: lloyd, Columns: ['rain_day', 'rain_hour', 'elevation', 'ground_type', 'ground_amplitude', 'slope_degree', 'slope_percentage', 'danger_level']\n",
      "Inertia: 232338.41676427374, Random State: 2, Algorithm: elkan, Columns: ['rain_day', 'rain_hour', 'elevation', 'ground_type', 'ground_amplitude', 'slope_degree', 'slope_percentage', 'danger_level']\n",
      "Inertia: 232340.443615355, Random State: 4, Algorithm: lloyd, Columns: ['rain_day', 'rain_hour', 'elevation', 'ground_type', 'ground_amplitude', 'slope_degree', 'slope_percentage', 'danger_level']\n",
      "Inertia: 232340.44361535503, Random State: 4, Algorithm: elkan, Columns: ['rain_day', 'rain_hour', 'elevation', 'ground_type', 'ground_amplitude', 'slope_degree', 'slope_percentage', 'danger_level']\n",
      "Inertia: 232338.41676427374, Random State: 8, Algorithm: lloyd, Columns: ['rain_day', 'rain_hour', 'elevation', 'ground_type', 'ground_amplitude', 'slope_degree', 'slope_percentage', 'danger_level']\n",
      "Inertia: 232338.41676427372, Random State: 8, Algorithm: elkan, Columns: ['rain_day', 'rain_hour', 'elevation', 'ground_type', 'ground_amplitude', 'slope_degree', 'slope_percentage', 'danger_level']\n",
      "Inertia: 238709.27276380084, Random State: 16, Algorithm: lloyd, Columns: ['rain_day', 'rain_hour', 'elevation', 'ground_type', 'ground_amplitude', 'slope_degree', 'slope_percentage', 'danger_level']\n",
      "Inertia: 238709.27276380084, Random State: 16, Algorithm: elkan, Columns: ['rain_day', 'rain_hour', 'elevation', 'ground_type', 'ground_amplitude', 'slope_degree', 'slope_percentage', 'danger_level']\n",
      "Inertia: 232286.25702405637, Random State: 32, Algorithm: lloyd, Columns: ['rain_day', 'rain_hour', 'elevation', 'ground_type', 'ground_amplitude', 'slope_degree', 'slope_percentage', 'danger_level']\n",
      "Inertia: 232286.25702405637, Random State: 32, Algorithm: elkan, Columns: ['rain_day', 'rain_hour', 'elevation', 'ground_type', 'ground_amplitude', 'slope_degree', 'slope_percentage', 'danger_level']\n",
      "Inertia: 238674.80786596608, Random State: 64, Algorithm: lloyd, Columns: ['rain_day', 'rain_hour', 'elevation', 'ground_type', 'ground_amplitude', 'slope_degree', 'slope_percentage', 'danger_level']\n",
      "Inertia: 238674.80786596608, Random State: 64, Algorithm: elkan, Columns: ['rain_day', 'rain_hour', 'elevation', 'ground_type', 'ground_amplitude', 'slope_degree', 'slope_percentage', 'danger_level']\n",
      "Inertia: 133433.75179372178, Random State: 0, Algorithm: lloyd, Columns: ['rain_day', 'rain_hour', 'elevation', 'ground_type', 'ground_amplitude', 'slope_degree', 'slope_percentage', 'danger_level']\n",
      "Inertia: 133433.75179372175, Random State: 0, Algorithm: elkan, Columns: ['rain_day', 'rain_hour', 'elevation', 'ground_type', 'ground_amplitude', 'slope_degree', 'slope_percentage', 'danger_level']\n",
      "Inertia: 137151.3478821335, Random State: 2, Algorithm: lloyd, Columns: ['rain_day', 'rain_hour', 'elevation', 'ground_type', 'ground_amplitude', 'slope_degree', 'slope_percentage', 'danger_level']\n",
      "Inertia: 137151.3478821335, Random State: 2, Algorithm: elkan, Columns: ['rain_day', 'rain_hour', 'elevation', 'ground_type', 'ground_amplitude', 'slope_degree', 'slope_percentage', 'danger_level']\n",
      "Inertia: 132670.1211797921, Random State: 4, Algorithm: lloyd, Columns: ['rain_day', 'rain_hour', 'elevation', 'ground_type', 'ground_amplitude', 'slope_degree', 'slope_percentage', 'danger_level']\n",
      "Inertia: 132670.1211797921, Random State: 4, Algorithm: elkan, Columns: ['rain_day', 'rain_hour', 'elevation', 'ground_type', 'ground_amplitude', 'slope_degree', 'slope_percentage', 'danger_level']\n",
      "Inertia: 137110.33028229928, Random State: 8, Algorithm: lloyd, Columns: ['rain_day', 'rain_hour', 'elevation', 'ground_type', 'ground_amplitude', 'slope_degree', 'slope_percentage', 'danger_level']\n",
      "Inertia: 137110.33028229928, Random State: 8, Algorithm: elkan, Columns: ['rain_day', 'rain_hour', 'elevation', 'ground_type', 'ground_amplitude', 'slope_degree', 'slope_percentage', 'danger_level']\n",
      "Inertia: 131453.34570059468, Random State: 16, Algorithm: lloyd, Columns: ['rain_day', 'rain_hour', 'elevation', 'ground_type', 'ground_amplitude', 'slope_degree', 'slope_percentage', 'danger_level']\n",
      "Inertia: 131453.34570059468, Random State: 16, Algorithm: elkan, Columns: ['rain_day', 'rain_hour', 'elevation', 'ground_type', 'ground_amplitude', 'slope_degree', 'slope_percentage', 'danger_level']\n",
      "Inertia: 131988.57374524916, Random State: 32, Algorithm: lloyd, Columns: ['rain_day', 'rain_hour', 'elevation', 'ground_type', 'ground_amplitude', 'slope_degree', 'slope_percentage', 'danger_level']\n",
      "Inertia: 131988.57374524916, Random State: 32, Algorithm: elkan, Columns: ['rain_day', 'rain_hour', 'elevation', 'ground_type', 'ground_amplitude', 'slope_degree', 'slope_percentage', 'danger_level']\n",
      "Inertia: 132828.19669856093, Random State: 64, Algorithm: lloyd, Columns: ['rain_day', 'rain_hour', 'elevation', 'ground_type', 'ground_amplitude', 'slope_degree', 'slope_percentage', 'danger_level']\n",
      "Inertia: 132828.19669856093, Random State: 64, Algorithm: elkan, Columns: ['rain_day', 'rain_hour', 'elevation', 'ground_type', 'ground_amplitude', 'slope_degree', 'slope_percentage', 'danger_level']\n",
      "Inertia: 65717.98813118659, Random State: 0, Algorithm: lloyd, Columns: ['rain_day', 'rain_hour', 'elevation', 'ground_type', 'ground_amplitude', 'slope_degree', 'slope_percentage', 'danger_level']\n",
      "Inertia: 65717.9881311866, Random State: 0, Algorithm: elkan, Columns: ['rain_day', 'rain_hour', 'elevation', 'ground_type', 'ground_amplitude', 'slope_degree', 'slope_percentage', 'danger_level']\n",
      "Inertia: 63611.29782205011, Random State: 2, Algorithm: lloyd, Columns: ['rain_day', 'rain_hour', 'elevation', 'ground_type', 'ground_amplitude', 'slope_degree', 'slope_percentage', 'danger_level']\n",
      "Inertia: 63611.29782205011, Random State: 2, Algorithm: elkan, Columns: ['rain_day', 'rain_hour', 'elevation', 'ground_type', 'ground_amplitude', 'slope_degree', 'slope_percentage', 'danger_level']\n",
      "Inertia: 66202.95629108358, Random State: 4, Algorithm: lloyd, Columns: ['rain_day', 'rain_hour', 'elevation', 'ground_type', 'ground_amplitude', 'slope_degree', 'slope_percentage', 'danger_level']\n",
      "Inertia: 66202.95629108358, Random State: 4, Algorithm: elkan, Columns: ['rain_day', 'rain_hour', 'elevation', 'ground_type', 'ground_amplitude', 'slope_degree', 'slope_percentage', 'danger_level']\n",
      "Inertia: 62889.27793880818, Random State: 8, Algorithm: lloyd, Columns: ['rain_day', 'rain_hour', 'elevation', 'ground_type', 'ground_amplitude', 'slope_degree', 'slope_percentage', 'danger_level']\n",
      "Inertia: 62889.27793880818, Random State: 8, Algorithm: elkan, Columns: ['rain_day', 'rain_hour', 'elevation', 'ground_type', 'ground_amplitude', 'slope_degree', 'slope_percentage', 'danger_level']\n",
      "Inertia: 64291.457976004545, Random State: 16, Algorithm: lloyd, Columns: ['rain_day', 'rain_hour', 'elevation', 'ground_type', 'ground_amplitude', 'slope_degree', 'slope_percentage', 'danger_level']\n",
      "Inertia: 64291.457976004545, Random State: 16, Algorithm: elkan, Columns: ['rain_day', 'rain_hour', 'elevation', 'ground_type', 'ground_amplitude', 'slope_degree', 'slope_percentage', 'danger_level']\n",
      "Inertia: 65348.357562226665, Random State: 32, Algorithm: lloyd, Columns: ['rain_day', 'rain_hour', 'elevation', 'ground_type', 'ground_amplitude', 'slope_degree', 'slope_percentage', 'danger_level']\n",
      "Inertia: 65348.35756222667, Random State: 32, Algorithm: elkan, Columns: ['rain_day', 'rain_hour', 'elevation', 'ground_type', 'ground_amplitude', 'slope_degree', 'slope_percentage', 'danger_level']\n",
      "Inertia: 64766.262892733415, Random State: 64, Algorithm: lloyd, Columns: ['rain_day', 'rain_hour', 'elevation', 'ground_type', 'ground_amplitude', 'slope_degree', 'slope_percentage', 'danger_level']\n",
      "Inertia: 64766.262892733415, Random State: 64, Algorithm: elkan, Columns: ['rain_day', 'rain_hour', 'elevation', 'ground_type', 'ground_amplitude', 'slope_degree', 'slope_percentage', 'danger_level']\n",
      "Inertia: 34555.2710031231, Random State: 0, Algorithm: lloyd, Columns: ['rain_day', 'rain_hour', 'elevation', 'ground_type', 'ground_amplitude', 'slope_degree', 'slope_percentage', 'danger_level']\n",
      "Inertia: 34555.2710031231, Random State: 0, Algorithm: elkan, Columns: ['rain_day', 'rain_hour', 'elevation', 'ground_type', 'ground_amplitude', 'slope_degree', 'slope_percentage', 'danger_level']\n",
      "Inertia: 33691.45568535134, Random State: 2, Algorithm: lloyd, Columns: ['rain_day', 'rain_hour', 'elevation', 'ground_type', 'ground_amplitude', 'slope_degree', 'slope_percentage', 'danger_level']\n",
      "Inertia: 33691.455685351335, Random State: 2, Algorithm: elkan, Columns: ['rain_day', 'rain_hour', 'elevation', 'ground_type', 'ground_amplitude', 'slope_degree', 'slope_percentage', 'danger_level']\n",
      "Inertia: 35542.10227054155, Random State: 4, Algorithm: lloyd, Columns: ['rain_day', 'rain_hour', 'elevation', 'ground_type', 'ground_amplitude', 'slope_degree', 'slope_percentage', 'danger_level']\n",
      "Inertia: 35542.10227054155, Random State: 4, Algorithm: elkan, Columns: ['rain_day', 'rain_hour', 'elevation', 'ground_type', 'ground_amplitude', 'slope_degree', 'slope_percentage', 'danger_level']\n",
      "Inertia: 34202.029699775834, Random State: 8, Algorithm: lloyd, Columns: ['rain_day', 'rain_hour', 'elevation', 'ground_type', 'ground_amplitude', 'slope_degree', 'slope_percentage', 'danger_level']\n",
      "Inertia: 34202.029699775834, Random State: 8, Algorithm: elkan, Columns: ['rain_day', 'rain_hour', 'elevation', 'ground_type', 'ground_amplitude', 'slope_degree', 'slope_percentage', 'danger_level']\n",
      "Inertia: 34000.832970417716, Random State: 16, Algorithm: lloyd, Columns: ['rain_day', 'rain_hour', 'elevation', 'ground_type', 'ground_amplitude', 'slope_degree', 'slope_percentage', 'danger_level']\n",
      "Inertia: 34000.832970417716, Random State: 16, Algorithm: elkan, Columns: ['rain_day', 'rain_hour', 'elevation', 'ground_type', 'ground_amplitude', 'slope_degree', 'slope_percentage', 'danger_level']\n",
      "Inertia: 33530.57578686117, Random State: 32, Algorithm: lloyd, Columns: ['rain_day', 'rain_hour', 'elevation', 'ground_type', 'ground_amplitude', 'slope_degree', 'slope_percentage', 'danger_level']\n",
      "Inertia: 33530.57578686117, Random State: 32, Algorithm: elkan, Columns: ['rain_day', 'rain_hour', 'elevation', 'ground_type', 'ground_amplitude', 'slope_degree', 'slope_percentage', 'danger_level']\n",
      "Inertia: 34295.851097147606, Random State: 64, Algorithm: lloyd, Columns: ['rain_day', 'rain_hour', 'elevation', 'ground_type', 'ground_amplitude', 'slope_degree', 'slope_percentage', 'danger_level']\n",
      "Inertia: 34295.851097147606, Random State: 64, Algorithm: elkan, Columns: ['rain_day', 'rain_hour', 'elevation', 'ground_type', 'ground_amplitude', 'slope_degree', 'slope_percentage', 'danger_level']\n",
      "Inertia: 18610.233045951365, Random State: 0, Algorithm: lloyd, Columns: ['rain_day', 'rain_hour', 'elevation', 'ground_type', 'ground_amplitude', 'slope_degree', 'slope_percentage', 'danger_level']\n",
      "Inertia: 18610.233045951365, Random State: 0, Algorithm: elkan, Columns: ['rain_day', 'rain_hour', 'elevation', 'ground_type', 'ground_amplitude', 'slope_degree', 'slope_percentage', 'danger_level']\n",
      "Inertia: 19566.605190001043, Random State: 2, Algorithm: lloyd, Columns: ['rain_day', 'rain_hour', 'elevation', 'ground_type', 'ground_amplitude', 'slope_degree', 'slope_percentage', 'danger_level']\n",
      "Inertia: 19566.605190001043, Random State: 2, Algorithm: elkan, Columns: ['rain_day', 'rain_hour', 'elevation', 'ground_type', 'ground_amplitude', 'slope_degree', 'slope_percentage', 'danger_level']\n",
      "Inertia: 18723.933697058586, Random State: 4, Algorithm: lloyd, Columns: ['rain_day', 'rain_hour', 'elevation', 'ground_type', 'ground_amplitude', 'slope_degree', 'slope_percentage', 'danger_level']\n",
      "Inertia: 18723.933697058586, Random State: 4, Algorithm: elkan, Columns: ['rain_day', 'rain_hour', 'elevation', 'ground_type', 'ground_amplitude', 'slope_degree', 'slope_percentage', 'danger_level']\n",
      "Inertia: 18905.77237000302, Random State: 8, Algorithm: lloyd, Columns: ['rain_day', 'rain_hour', 'elevation', 'ground_type', 'ground_amplitude', 'slope_degree', 'slope_percentage', 'danger_level']\n",
      "Inertia: 18905.772370003015, Random State: 8, Algorithm: elkan, Columns: ['rain_day', 'rain_hour', 'elevation', 'ground_type', 'ground_amplitude', 'slope_degree', 'slope_percentage', 'danger_level']\n",
      "Inertia: 18980.73282535097, Random State: 16, Algorithm: lloyd, Columns: ['rain_day', 'rain_hour', 'elevation', 'ground_type', 'ground_amplitude', 'slope_degree', 'slope_percentage', 'danger_level']\n",
      "Inertia: 18980.73282535097, Random State: 16, Algorithm: elkan, Columns: ['rain_day', 'rain_hour', 'elevation', 'ground_type', 'ground_amplitude', 'slope_degree', 'slope_percentage', 'danger_level']\n",
      "Inertia: 19480.393829427434, Random State: 32, Algorithm: lloyd, Columns: ['rain_day', 'rain_hour', 'elevation', 'ground_type', 'ground_amplitude', 'slope_degree', 'slope_percentage', 'danger_level']\n",
      "Inertia: 19480.393829427434, Random State: 32, Algorithm: elkan, Columns: ['rain_day', 'rain_hour', 'elevation', 'ground_type', 'ground_amplitude', 'slope_degree', 'slope_percentage', 'danger_level']\n",
      "Inertia: 18893.052315133024, Random State: 64, Algorithm: lloyd, Columns: ['rain_day', 'rain_hour', 'elevation', 'ground_type', 'ground_amplitude', 'slope_degree', 'slope_percentage', 'danger_level']\n",
      "Inertia: 18890.27689203125, Random State: 64, Algorithm: elkan, Columns: ['rain_day', 'rain_hour', 'elevation', 'ground_type', 'ground_amplitude', 'slope_degree', 'slope_percentage', 'danger_level']\n",
      "Inertia: 9676.058346631298, Random State: 0, Algorithm: lloyd, Columns: ['rain_day', 'rain_hour', 'elevation', 'ground_type', 'ground_amplitude', 'slope_degree', 'slope_percentage', 'danger_level']\n",
      "Inertia: 9676.0583466313, Random State: 0, Algorithm: elkan, Columns: ['rain_day', 'rain_hour', 'elevation', 'ground_type', 'ground_amplitude', 'slope_degree', 'slope_percentage', 'danger_level']\n",
      "Inertia: 9765.338009089297, Random State: 2, Algorithm: lloyd, Columns: ['rain_day', 'rain_hour', 'elevation', 'ground_type', 'ground_amplitude', 'slope_degree', 'slope_percentage', 'danger_level']\n",
      "Inertia: 9760.584242109137, Random State: 2, Algorithm: elkan, Columns: ['rain_day', 'rain_hour', 'elevation', 'ground_type', 'ground_amplitude', 'slope_degree', 'slope_percentage', 'danger_level']\n",
      "Inertia: 10026.198321381737, Random State: 4, Algorithm: lloyd, Columns: ['rain_day', 'rain_hour', 'elevation', 'ground_type', 'ground_amplitude', 'slope_degree', 'slope_percentage', 'danger_level']\n",
      "Inertia: 10026.198321381737, Random State: 4, Algorithm: elkan, Columns: ['rain_day', 'rain_hour', 'elevation', 'ground_type', 'ground_amplitude', 'slope_degree', 'slope_percentage', 'danger_level']\n",
      "Inertia: 9775.530895107502, Random State: 8, Algorithm: lloyd, Columns: ['rain_day', 'rain_hour', 'elevation', 'ground_type', 'ground_amplitude', 'slope_degree', 'slope_percentage', 'danger_level']\n",
      "Inertia: 9774.029275060882, Random State: 8, Algorithm: elkan, Columns: ['rain_day', 'rain_hour', 'elevation', 'ground_type', 'ground_amplitude', 'slope_degree', 'slope_percentage', 'danger_level']\n",
      "Inertia: 9780.188475379531, Random State: 16, Algorithm: lloyd, Columns: ['rain_day', 'rain_hour', 'elevation', 'ground_type', 'ground_amplitude', 'slope_degree', 'slope_percentage', 'danger_level']\n",
      "Inertia: 9780.188475379531, Random State: 16, Algorithm: elkan, Columns: ['rain_day', 'rain_hour', 'elevation', 'ground_type', 'ground_amplitude', 'slope_degree', 'slope_percentage', 'danger_level']\n",
      "Inertia: 9614.263203174723, Random State: 32, Algorithm: lloyd, Columns: ['rain_day', 'rain_hour', 'elevation', 'ground_type', 'ground_amplitude', 'slope_degree', 'slope_percentage', 'danger_level']\n",
      "Inertia: 9614.263203174725, Random State: 32, Algorithm: elkan, Columns: ['rain_day', 'rain_hour', 'elevation', 'ground_type', 'ground_amplitude', 'slope_degree', 'slope_percentage', 'danger_level']\n",
      "Inertia: 9661.087887707845, Random State: 64, Algorithm: lloyd, Columns: ['rain_day', 'rain_hour', 'elevation', 'ground_type', 'ground_amplitude', 'slope_degree', 'slope_percentage', 'danger_level']\n",
      "Inertia: 9661.087887707847, Random State: 64, Algorithm: elkan, Columns: ['rain_day', 'rain_hour', 'elevation', 'ground_type', 'ground_amplitude', 'slope_degree', 'slope_percentage', 'danger_level']\n",
      "Best K: 128, Best Inertia: 9614.263203174723, Best Config: (32, 'lloyd')\n"
     ]
    }
   ],
   "execution_count": 18
  },
  {
   "metadata": {},
   "cell_type": "code",
   "outputs": [],
   "execution_count": null,
   "source": "",
   "id": "877f2393df6e644b"
  },
  {
   "metadata": {
    "ExecuteTime": {
     "end_time": "2024-11-22T20:45:25.940396Z",
     "start_time": "2024-11-22T20:45:25.920875Z"
    }
   },
   "cell_type": "code",
   "source": "print(best_k_means.predict(features.head()))",
   "id": "5f757db15e129ff1",
   "outputs": [
    {
     "name": "stdout",
     "output_type": "stream",
     "text": [
      "[89 95 54 32 67]\n"
     ]
    }
   ],
   "execution_count": 20
  },
  {
   "metadata": {
    "ExecuteTime": {
     "end_time": "2024-11-22T20:06:55.030041Z",
     "start_time": "2024-11-22T20:06:55.018646Z"
    }
   },
   "cell_type": "code",
   "source": "",
   "id": "49badf047d77f8a",
   "outputs": [],
   "execution_count": null
  }
 ],
 "metadata": {
  "kernelspec": {
   "display_name": "Python 3",
   "language": "python",
   "name": "python3"
  },
  "language_info": {
   "codemirror_mode": {
    "name": "ipython",
    "version": 2
   },
   "file_extension": ".py",
   "mimetype": "text/x-python",
   "name": "python",
   "nbconvert_exporter": "python",
   "pygments_lexer": "ipython2",
   "version": "2.7.6"
  }
 },
 "nbformat": 4,
 "nbformat_minor": 5
}
