{
 "cells": [
  {
   "cell_type": "code",
   "id": "initial_id",
   "metadata": {
    "collapsed": true,
    "ExecuteTime": {
     "end_time": "2024-11-22T20:09:53.735049Z",
     "start_time": "2024-11-22T20:09:52.467179Z"
    }
   },
   "source": [
    "from pandas import read_csv\n",
    "\n",
    "from base.pandas_constants import AlgorithmConstants\n",
    "\n",
    "df = read_csv(AlgorithmConstants.FINAL_DF_PATH)\n",
    "df.head()\n"
   ],
   "outputs": [
    {
     "data": {
      "text/plain": [
       "   latitude  longitude  rain_day  rain_hour  elevation ground_type  \\\n",
       "0 -8.008500 -34.955551      21.9        0.4       36.0          A2   \n",
       "1 -7.996465 -34.920869       3.8        1.0       33.0        LVd4   \n",
       "2 -8.004865 -34.908971       9.2        0.4       43.0      URBANO   \n",
       "3 -8.001813 -34.910662       9.6        0.6       37.0        LVd4   \n",
       "4 -8.001680 -34.903199       9.2        0.4       25.0        LVd4   \n",
       "\n",
       "  ground_amplitude slope_degree slope_percentage danger_level  \n",
       "0        20 a 100m     10 a 30º          0 a 60%        Baixa  \n",
       "1        20 a 100m     10 a 30º          0 a 60%        Media  \n",
       "2        20 a 100m     10 a 30º          0 a 60%        Media  \n",
       "3        20 a 100m     10 a 30º          0 a 60%        Media  \n",
       "4        20 a 100m     10 a 30º          0 a 60%        Media  "
      ],
      "text/html": [
       "<div>\n",
       "<style scoped>\n",
       "    .dataframe tbody tr th:only-of-type {\n",
       "        vertical-align: middle;\n",
       "    }\n",
       "\n",
       "    .dataframe tbody tr th {\n",
       "        vertical-align: top;\n",
       "    }\n",
       "\n",
       "    .dataframe thead th {\n",
       "        text-align: right;\n",
       "    }\n",
       "</style>\n",
       "<table border=\"1\" class=\"dataframe\">\n",
       "  <thead>\n",
       "    <tr style=\"text-align: right;\">\n",
       "      <th></th>\n",
       "      <th>latitude</th>\n",
       "      <th>longitude</th>\n",
       "      <th>rain_day</th>\n",
       "      <th>rain_hour</th>\n",
       "      <th>elevation</th>\n",
       "      <th>ground_type</th>\n",
       "      <th>ground_amplitude</th>\n",
       "      <th>slope_degree</th>\n",
       "      <th>slope_percentage</th>\n",
       "      <th>danger_level</th>\n",
       "    </tr>\n",
       "  </thead>\n",
       "  <tbody>\n",
       "    <tr>\n",
       "      <th>0</th>\n",
       "      <td>-8.008500</td>\n",
       "      <td>-34.955551</td>\n",
       "      <td>21.9</td>\n",
       "      <td>0.4</td>\n",
       "      <td>36.0</td>\n",
       "      <td>A2</td>\n",
       "      <td>20 a 100m</td>\n",
       "      <td>10 a 30º</td>\n",
       "      <td>0 a 60%</td>\n",
       "      <td>Baixa</td>\n",
       "    </tr>\n",
       "    <tr>\n",
       "      <th>1</th>\n",
       "      <td>-7.996465</td>\n",
       "      <td>-34.920869</td>\n",
       "      <td>3.8</td>\n",
       "      <td>1.0</td>\n",
       "      <td>33.0</td>\n",
       "      <td>LVd4</td>\n",
       "      <td>20 a 100m</td>\n",
       "      <td>10 a 30º</td>\n",
       "      <td>0 a 60%</td>\n",
       "      <td>Media</td>\n",
       "    </tr>\n",
       "    <tr>\n",
       "      <th>2</th>\n",
       "      <td>-8.004865</td>\n",
       "      <td>-34.908971</td>\n",
       "      <td>9.2</td>\n",
       "      <td>0.4</td>\n",
       "      <td>43.0</td>\n",
       "      <td>URBANO</td>\n",
       "      <td>20 a 100m</td>\n",
       "      <td>10 a 30º</td>\n",
       "      <td>0 a 60%</td>\n",
       "      <td>Media</td>\n",
       "    </tr>\n",
       "    <tr>\n",
       "      <th>3</th>\n",
       "      <td>-8.001813</td>\n",
       "      <td>-34.910662</td>\n",
       "      <td>9.6</td>\n",
       "      <td>0.6</td>\n",
       "      <td>37.0</td>\n",
       "      <td>LVd4</td>\n",
       "      <td>20 a 100m</td>\n",
       "      <td>10 a 30º</td>\n",
       "      <td>0 a 60%</td>\n",
       "      <td>Media</td>\n",
       "    </tr>\n",
       "    <tr>\n",
       "      <th>4</th>\n",
       "      <td>-8.001680</td>\n",
       "      <td>-34.903199</td>\n",
       "      <td>9.2</td>\n",
       "      <td>0.4</td>\n",
       "      <td>25.0</td>\n",
       "      <td>LVd4</td>\n",
       "      <td>20 a 100m</td>\n",
       "      <td>10 a 30º</td>\n",
       "      <td>0 a 60%</td>\n",
       "      <td>Media</td>\n",
       "    </tr>\n",
       "  </tbody>\n",
       "</table>\n",
       "</div>"
      ]
     },
     "execution_count": 1,
     "metadata": {},
     "output_type": "execute_result"
    }
   ],
   "execution_count": 1
  },
  {
   "metadata": {
    "ExecuteTime": {
     "end_time": "2024-11-22T20:06:55.030041Z",
     "start_time": "2024-11-22T20:06:55.018646Z"
    }
   },
   "cell_type": "code",
   "source": "",
   "id": "49badf047d77f8a",
   "outputs": [],
   "execution_count": null
  }
 ],
 "metadata": {
  "kernelspec": {
   "display_name": "Python 3",
   "language": "python",
   "name": "python3"
  },
  "language_info": {
   "codemirror_mode": {
    "name": "ipython",
    "version": 2
   },
   "file_extension": ".py",
   "mimetype": "text/x-python",
   "name": "python",
   "nbconvert_exporter": "python",
   "pygments_lexer": "ipython2",
   "version": "2.7.6"
  }
 },
 "nbformat": 4,
 "nbformat_minor": 5
}
